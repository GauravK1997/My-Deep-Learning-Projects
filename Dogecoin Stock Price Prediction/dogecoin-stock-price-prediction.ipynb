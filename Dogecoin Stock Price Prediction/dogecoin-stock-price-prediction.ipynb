{
 "cells": [
  {
   "cell_type": "markdown",
   "metadata": {},
   "source": [
    "# Problem Statement :\n",
    "\n",
    "## Considering the Closing Stock Prices of the following Dogecoin Cryptocurrency dataset, create a model to forecast the future stock prices of Dogecoin"
   ]
  },
  {
   "cell_type": "code",
   "execution_count": 2,
   "metadata": {},
   "outputs": [],
   "source": [
    "import numpy as np\n",
    "import pandas as pd\n",
    "import matplotlib.pyplot as plt\n",
    "import math\n",
    "\n",
    "from keras.models import Sequential\n",
    "from keras.layers import Dense, Dropout, LSTM\n",
    "from sklearn.preprocessing import MinMaxScaler\n",
    "from sklearn.metrics import mean_squared_error"
   ]
  },
  {
   "cell_type": "code",
   "execution_count": 3,
   "metadata": {},
   "outputs": [
    {
     "data": {
      "text/html": [
       "<div>\n",
       "<style scoped>\n",
       "    .dataframe tbody tr th:only-of-type {\n",
       "        vertical-align: middle;\n",
       "    }\n",
       "\n",
       "    .dataframe tbody tr th {\n",
       "        vertical-align: top;\n",
       "    }\n",
       "\n",
       "    .dataframe thead th {\n",
       "        text-align: right;\n",
       "    }\n",
       "</style>\n",
       "<table border=\"1\" class=\"dataframe\">\n",
       "  <thead>\n",
       "    <tr style=\"text-align: right;\">\n",
       "      <th></th>\n",
       "      <th>SNo</th>\n",
       "      <th>Name</th>\n",
       "      <th>Symbol</th>\n",
       "      <th>Date</th>\n",
       "      <th>High</th>\n",
       "      <th>Low</th>\n",
       "      <th>Open</th>\n",
       "      <th>Close</th>\n",
       "      <th>Volume</th>\n",
       "      <th>Marketcap</th>\n",
       "    </tr>\n",
       "  </thead>\n",
       "  <tbody>\n",
       "    <tr>\n",
       "      <th>0</th>\n",
       "      <td>1</td>\n",
       "      <td>Dogecoin</td>\n",
       "      <td>DOGE</td>\n",
       "      <td>2013-12-16 23:59:59</td>\n",
       "      <td>0.000866</td>\n",
       "      <td>0.000150</td>\n",
       "      <td>0.000299</td>\n",
       "      <td>0.000205</td>\n",
       "      <td>0.0</td>\n",
       "      <td>1.509085e+06</td>\n",
       "    </tr>\n",
       "    <tr>\n",
       "      <th>1</th>\n",
       "      <td>2</td>\n",
       "      <td>Dogecoin</td>\n",
       "      <td>DOGE</td>\n",
       "      <td>2013-12-17 23:59:59</td>\n",
       "      <td>0.000289</td>\n",
       "      <td>0.000116</td>\n",
       "      <td>0.000207</td>\n",
       "      <td>0.000269</td>\n",
       "      <td>0.0</td>\n",
       "      <td>2.169688e+06</td>\n",
       "    </tr>\n",
       "    <tr>\n",
       "      <th>2</th>\n",
       "      <td>3</td>\n",
       "      <td>Dogecoin</td>\n",
       "      <td>DOGE</td>\n",
       "      <td>2013-12-18 23:59:59</td>\n",
       "      <td>0.000362</td>\n",
       "      <td>0.000205</td>\n",
       "      <td>0.000267</td>\n",
       "      <td>0.000362</td>\n",
       "      <td>0.0</td>\n",
       "      <td>3.188943e+06</td>\n",
       "    </tr>\n",
       "    <tr>\n",
       "      <th>3</th>\n",
       "      <td>4</td>\n",
       "      <td>Dogecoin</td>\n",
       "      <td>DOGE</td>\n",
       "      <td>2013-12-19 23:59:59</td>\n",
       "      <td>0.001520</td>\n",
       "      <td>0.000328</td>\n",
       "      <td>0.000395</td>\n",
       "      <td>0.001162</td>\n",
       "      <td>0.0</td>\n",
       "      <td>1.115034e+07</td>\n",
       "    </tr>\n",
       "    <tr>\n",
       "      <th>4</th>\n",
       "      <td>5</td>\n",
       "      <td>Dogecoin</td>\n",
       "      <td>DOGE</td>\n",
       "      <td>2013-12-20 23:59:59</td>\n",
       "      <td>0.001143</td>\n",
       "      <td>0.000662</td>\n",
       "      <td>0.001143</td>\n",
       "      <td>0.000704</td>\n",
       "      <td>0.0</td>\n",
       "      <td>7.284337e+06</td>\n",
       "    </tr>\n",
       "  </tbody>\n",
       "</table>\n",
       "</div>"
      ],
      "text/plain": [
       "   SNo      Name Symbol                 Date      High       Low      Open  \\\n",
       "0    1  Dogecoin   DOGE  2013-12-16 23:59:59  0.000866  0.000150  0.000299   \n",
       "1    2  Dogecoin   DOGE  2013-12-17 23:59:59  0.000289  0.000116  0.000207   \n",
       "2    3  Dogecoin   DOGE  2013-12-18 23:59:59  0.000362  0.000205  0.000267   \n",
       "3    4  Dogecoin   DOGE  2013-12-19 23:59:59  0.001520  0.000328  0.000395   \n",
       "4    5  Dogecoin   DOGE  2013-12-20 23:59:59  0.001143  0.000662  0.001143   \n",
       "\n",
       "      Close  Volume     Marketcap  \n",
       "0  0.000205     0.0  1.509085e+06  \n",
       "1  0.000269     0.0  2.169688e+06  \n",
       "2  0.000362     0.0  3.188943e+06  \n",
       "3  0.001162     0.0  1.115034e+07  \n",
       "4  0.000704     0.0  7.284337e+06  "
      ]
     },
     "execution_count": 3,
     "metadata": {},
     "output_type": "execute_result"
    }
   ],
   "source": [
    "data = pd.read_csv('../input/cryptocurrencypricehistory/coin_Dogecoin.csv')\n",
    "data.head()"
   ]
  },
  {
   "cell_type": "markdown",
   "metadata": {},
   "source": [
    "## Using only the Closing Price"
   ]
  },
  {
   "cell_type": "code",
   "execution_count": 4,
   "metadata": {},
   "outputs": [
    {
     "data": {
      "text/plain": [
       "array([[0.00020473],\n",
       "       [0.00026854],\n",
       "       [0.00036163],\n",
       "       ...,\n",
       "       [0.05016734],\n",
       "       [0.05047986],\n",
       "       [0.0500829 ]])"
      ]
     },
     "execution_count": 4,
     "metadata": {},
     "output_type": "execute_result"
    }
   ],
   "source": [
    "dataframe = data[['Close']]\n",
    "dataframe.values"
   ]
  },
  {
   "cell_type": "markdown",
   "metadata": {},
   "source": [
    "## Plotting the Data"
   ]
  },
  {
   "cell_type": "code",
   "execution_count": 5,
   "metadata": {},
   "outputs": [
    {
     "data": {
      "image/png": "[encoded data removed]",
      "text/plain": [
       "<Figure size 432x288 with 1 Axes>"
      ]
     },
     "metadata": {
      "needs_background": "light"
     },
     "output_type": "display_data"
    }
   ],
   "source": [
    "plt.plot(dataframe)\n",
    "plt.xlabel('Time')\n",
    "plt.ylabel('Price')\n",
    "plt.title('Dogecoin')\n",
    "plt.show()"
   ]
  },
  {
   "cell_type": "code",
   "execution_count": 6,
   "metadata": {
    "scrolled": true
   },
   "outputs": [
    {
     "data": {
      "text/plain": [
       "array([[0.00020473],\n",
       "       [0.00026854],\n",
       "       [0.00036163],\n",
       "       ...,\n",
       "       [0.05016734],\n",
       "       [0.05047986],\n",
       "       [0.0500829 ]], dtype=float32)"
      ]
     },
     "execution_count": 6,
     "metadata": {},
     "output_type": "execute_result"
    }
   ],
   "source": [
    "# Converting all the values into 'Floating Point Values', so that we don't miss any values due to rounding off\n",
    "\n",
    "dataset = dataframe.values\n",
    "dataset = dataset.astype('float32')\n",
    "dataset"
   ]
  },
  {
   "cell_type": "markdown",
   "metadata": {},
   "source": [
    "## Feature Scaling : Normalization"
   ]
  },
  {
   "cell_type": "code",
   "execution_count": 7,
   "metadata": {},
   "outputs": [],
   "source": [
    "scaler = MinMaxScaler(feature_range=(0, 1))\n",
    "dataset = scaler.fit_transform(dataset)"
   ]
  },
  {
   "cell_type": "markdown",
   "metadata": {},
   "source": [
    "## Train - Test Split"
   ]
  },
  {
   "cell_type": "code",
   "execution_count": 8,
   "metadata": {},
   "outputs": [],
   "source": [
    "train_size = int(len(dataset) * 0.66)\n",
    "test_size = len(dataset) - train_size\n",
    "train, test = dataset[0:train_size,:], dataset[train_size:len(dataset),:]"
   ]
  },
  {
   "cell_type": "markdown",
   "metadata": {},
   "source": [
    "## Preparing the dataset"
   ]
  },
  {
   "cell_type": "code",
   "execution_count": 9,
   "metadata": {},
   "outputs": [],
   "source": [
    "def to_sequences(dataset, seq_size=1):\n",
    "    x = []\n",
    "    y = []\n",
    "\n",
    "    for i in range(len(dataset)-seq_size-1):\n",
    "        window = dataset[i:(i+seq_size), 0]\n",
    "        x.append(window)\n",
    "        y.append(dataset[i+seq_size, 0])\n",
    "        \n",
    "    return np.array(x),np.array(y)"
   ]
  },
  {
   "cell_type": "code",
   "execution_count": 10,
   "metadata": {},
   "outputs": [],
   "source": [
    "seq_size = 10 # Number of time steps to look back \n",
    "\n",
    "trainX, trainY = to_sequences(train, seq_size)\n",
    "testX, testY = to_sequences(test, seq_size)"
   ]
  },
  {
   "cell_type": "code",
   "execution_count": 11,
   "metadata": {},
   "outputs": [
    {
     "data": {
      "text/plain": [
       "(((1725, 10), (1725,)), ((884, 10), (884,)))"
      ]
     },
     "execution_count": 11,
     "metadata": {},
     "output_type": "execute_result"
    }
   ],
   "source": [
    "(trainX.shape, trainY.shape), (testX.shape, testY.shape)"
   ]
  },
  {
   "cell_type": "code",
   "execution_count": 12,
   "metadata": {},
   "outputs": [],
   "source": [
    "trainX = trainX.reshape(trainX.shape[0], trainX.shape[1], 1)\n",
    "testX = testX.reshape(testX.shape[0], testX.shape[1], 1)"
   ]
  },
  {
   "cell_type": "code",
   "execution_count": 13,
   "metadata": {},
   "outputs": [
    {
     "data": {
      "text/plain": [
       "(((1725, 10, 1), (1725,)), ((884, 10, 1), (884,)))"
      ]
     },
     "execution_count": 13,
     "metadata": {},
     "output_type": "execute_result"
    }
   ],
   "source": [
    "(trainX.shape, trainY.shape), (testX.shape, testY.shape)"
   ]
  },
  {
   "cell_type": "markdown",
   "metadata": {},
   "source": [
    "## Creating the model using RNN(LSTM)"
   ]
  },
  {
   "cell_type": "code",
   "execution_count": 14,
   "metadata": {},
   "outputs": [
    {
     "name": "stdout",
     "output_type": "stream",
     "text": [
      "Model: \"sequential\"\n",
      "_________________________________________________________________\n",
      "Layer (type)                 Output Shape              Param #   \n",
      "=================================================================\n",
      "lstm (LSTM)                  (None, 10, 128)           66560     \n",
      "_________________________________________________________________\n",
      "dropout (Dropout)            (None, 10, 128)           0         \n",
      "_________________________________________________________________\n",
      "lstm_1 (LSTM)                (None, 10, 64)            49408     \n",
      "_________________________________________________________________\n",
      "dropout_1 (Dropout)          (None, 10, 64)            0         \n",
      "_________________________________________________________________\n",
      "lstm_2 (LSTM)                (None, 32)                12416     \n",
      "_________________________________________________________________\n",
      "dropout_2 (Dropout)          (None, 32)                0         \n",
      "_________________________________________________________________\n",
      "dense (Dense)                (None, 1)                 33        \n",
      "=================================================================\n",
      "Total params: 128,417\n",
      "Trainable params: 128,417\n",
      "Non-trainable params: 0\n",
      "_________________________________________________________________\n",
      "None\n"
     ]
    }
   ],
   "source": [
    "model = Sequential([\n",
    "    LSTM(128, return_sequences=True, input_shape=(seq_size, 1)),\n",
    "    Dropout((0.1)),\n",
    "    LSTM(64, return_sequences=True),\n",
    "    Dropout((0.1)),\n",
    "    LSTM(32),\n",
    "    Dropout((0.1)),\n",
    "    Dense(1)\n",
    "]) \n",
    "\n",
    "print(model.summary())"
   ]
  },
  {
   "cell_type": "code",
   "execution_count": 15,
   "metadata": {},
   "outputs": [],
   "source": [
    "model.compile(loss='mean_squared_error', optimizer='adam')"
   ]
  },
  {
   "cell_type": "markdown",
   "metadata": {},
   "source": [
    "## Training"
   ]
  },
  {
   "cell_type": "code",
   "execution_count": 16,
   "metadata": {},
   "outputs": [
    {
     "name": "stdout",
     "output_type": "stream",
     "text": [
      "Epoch 1/100\n",
      "54/54 - 7s - loss: 2.4777e-04 - val_loss: 0.0027\n",
      "Epoch 2/100\n",
      "54/54 - 1s - loss: 8.2196e-05 - val_loss: 0.0022\n",
      "Epoch 3/100\n",
      "54/54 - 1s - loss: 6.8945e-05 - val_loss: 0.0021\n",
      "Epoch 4/100\n",
      "54/54 - 1s - loss: 7.3205e-05 - val_loss: 0.0023\n",
      "Epoch 5/100\n",
      "54/54 - 1s - loss: 6.7982e-05 - val_loss: 0.0034\n",
      "Epoch 6/100\n",
      "54/54 - 1s - loss: 8.1959e-05 - val_loss: 0.0020\n",
      "Epoch 7/100\n",
      "54/54 - 1s - loss: 5.3851e-05 - val_loss: 0.0030\n",
      "Epoch 8/100\n",
      "54/54 - 1s - loss: 6.2405e-05 - val_loss: 0.0025\n",
      "Epoch 9/100\n",
      "54/54 - 1s - loss: 5.3330e-05 - val_loss: 0.0023\n",
      "Epoch 10/100\n",
      "54/54 - 1s - loss: 4.2043e-05 - val_loss: 0.0018\n",
      "Epoch 11/100\n",
      "54/54 - 1s - loss: 4.3443e-05 - val_loss: 0.0014\n",
      "Epoch 12/100\n",
      "54/54 - 1s - loss: 4.5261e-05 - val_loss: 0.0028\n",
      "Epoch 13/100\n",
      "54/54 - 1s - loss: 4.3000e-05 - val_loss: 0.0019\n",
      "Epoch 14/100\n",
      "54/54 - 1s - loss: 4.2418e-05 - val_loss: 0.0016\n",
      "Epoch 15/100\n",
      "54/54 - 1s - loss: 3.7042e-05 - val_loss: 0.0012\n",
      "Epoch 16/100\n",
      "54/54 - 1s - loss: 4.1076e-05 - val_loss: 0.0022\n",
      "Epoch 17/100\n",
      "54/54 - 1s - loss: 4.9500e-05 - val_loss: 0.0022\n",
      "Epoch 18/100\n",
      "54/54 - 1s - loss: 3.9098e-05 - val_loss: 0.0016\n",
      "Epoch 19/100\n",
      "54/54 - 1s - loss: 3.3160e-05 - val_loss: 0.0015\n",
      "Epoch 20/100\n",
      "54/54 - 1s - loss: 3.8915e-05 - val_loss: 0.0016\n",
      "Epoch 21/100\n",
      "54/54 - 1s - loss: 3.1752e-05 - val_loss: 0.0012\n",
      "Epoch 22/100\n",
      "54/54 - 1s - loss: 3.4329e-05 - val_loss: 0.0013\n",
      "Epoch 23/100\n",
      "54/54 - 1s - loss: 3.5419e-05 - val_loss: 8.2807e-04\n",
      "Epoch 24/100\n",
      "54/54 - 1s - loss: 3.5552e-05 - val_loss: 0.0011\n",
      "Epoch 25/100\n",
      "54/54 - 1s - loss: 3.1213e-05 - val_loss: 0.0011\n",
      "Epoch 26/100\n",
      "54/54 - 1s - loss: 3.2725e-05 - val_loss: 0.0017\n",
      "Epoch 27/100\n",
      "54/54 - 1s - loss: 2.4942e-05 - val_loss: 0.0012\n",
      "Epoch 28/100\n",
      "54/54 - 1s - loss: 2.6853e-05 - val_loss: 0.0016\n",
      "Epoch 29/100\n",
      "54/54 - 1s - loss: 2.9599e-05 - val_loss: 0.0014\n",
      "Epoch 30/100\n",
      "54/54 - 1s - loss: 2.8807e-05 - val_loss: 0.0018\n",
      "Epoch 31/100\n",
      "54/54 - 1s - loss: 3.6698e-05 - val_loss: 0.0015\n",
      "Epoch 32/100\n",
      "54/54 - 1s - loss: 2.5440e-05 - val_loss: 0.0014\n",
      "Epoch 33/100\n",
      "54/54 - 1s - loss: 2.6789e-05 - val_loss: 0.0014\n",
      "Epoch 34/100\n",
      "54/54 - 1s - loss: 2.6185e-05 - val_loss: 0.0014\n",
      "Epoch 35/100\n",
      "54/54 - 1s - loss: 2.3416e-05 - val_loss: 7.8355e-04\n",
      "Epoch 36/100\n",
      "54/54 - 1s - loss: 2.6625e-05 - val_loss: 0.0015\n",
      "Epoch 37/100\n",
      "54/54 - 1s - loss: 2.1927e-05 - val_loss: 0.0011\n",
      "Epoch 38/100\n",
      "54/54 - 1s - loss: 2.5445e-05 - val_loss: 0.0015\n",
      "Epoch 39/100\n",
      "54/54 - 1s - loss: 1.8975e-05 - val_loss: 0.0010\n",
      "Epoch 40/100\n",
      "54/54 - 1s - loss: 2.1182e-05 - val_loss: 9.3945e-04\n",
      "Epoch 41/100\n",
      "54/54 - 1s - loss: 1.7732e-05 - val_loss: 0.0013\n",
      "Epoch 42/100\n",
      "54/54 - 1s - loss: 2.0128e-05 - val_loss: 0.0010\n",
      "Epoch 43/100\n",
      "54/54 - 1s - loss: 2.0083e-05 - val_loss: 0.0011\n",
      "Epoch 44/100\n",
      "54/54 - 1s - loss: 1.9844e-05 - val_loss: 0.0011\n",
      "Epoch 45/100\n",
      "54/54 - 1s - loss: 2.3068e-05 - val_loss: 0.0012\n",
      "Epoch 46/100\n",
      "54/54 - 1s - loss: 1.8869e-05 - val_loss: 0.0012\n",
      "Epoch 47/100\n",
      "54/54 - 1s - loss: 1.8360e-05 - val_loss: 0.0010\n",
      "Epoch 48/100\n",
      "54/54 - 1s - loss: 2.3566e-05 - val_loss: 7.8357e-04\n",
      "Epoch 49/100\n",
      "54/54 - 1s - loss: 1.9585e-05 - val_loss: 5.5891e-04\n",
      "Epoch 50/100\n",
      "54/54 - 1s - loss: 2.4263e-05 - val_loss: 8.4385e-04\n",
      "Epoch 51/100\n",
      "54/54 - 1s - loss: 2.5057e-05 - val_loss: 9.1860e-04\n",
      "Epoch 52/100\n",
      "54/54 - 1s - loss: 2.1202e-05 - val_loss: 8.2280e-04\n",
      "Epoch 53/100\n",
      "54/54 - 1s - loss: 1.8356e-05 - val_loss: 0.0011\n",
      "Epoch 54/100\n",
      "54/54 - 1s - loss: 2.3755e-05 - val_loss: 0.0017\n",
      "Epoch 55/100\n",
      "54/54 - 1s - loss: 2.3572e-05 - val_loss: 0.0012\n",
      "Epoch 56/100\n",
      "54/54 - 1s - loss: 1.7726e-05 - val_loss: 8.9725e-04\n",
      "Epoch 57/100\n",
      "54/54 - 1s - loss: 1.7803e-05 - val_loss: 5.9410e-04\n",
      "Epoch 58/100\n",
      "54/54 - 1s - loss: 1.8153e-05 - val_loss: 7.2074e-04\n",
      "Epoch 59/100\n",
      "54/54 - 1s - loss: 2.0737e-05 - val_loss: 0.0011\n",
      "Epoch 60/100\n",
      "54/54 - 1s - loss: 1.8930e-05 - val_loss: 7.8836e-04\n",
      "Epoch 61/100\n",
      "54/54 - 1s - loss: 1.7012e-05 - val_loss: 9.1982e-04\n",
      "Epoch 62/100\n",
      "54/54 - 1s - loss: 1.5190e-05 - val_loss: 9.6894e-04\n",
      "Epoch 63/100\n",
      "54/54 - 1s - loss: 1.6361e-05 - val_loss: 8.8442e-04\n",
      "Epoch 64/100\n",
      "54/54 - 1s - loss: 1.7732e-05 - val_loss: 0.0015\n",
      "Epoch 65/100\n",
      "54/54 - 1s - loss: 1.7974e-05 - val_loss: 0.0010\n",
      "Epoch 66/100\n",
      "54/54 - 1s - loss: 2.0003e-05 - val_loss: 6.8667e-04\n",
      "Epoch 67/100\n",
      "54/54 - 1s - loss: 2.1058e-05 - val_loss: 6.3341e-04\n",
      "Epoch 68/100\n",
      "54/54 - 1s - loss: 1.9761e-05 - val_loss: 9.3216e-04\n",
      "Epoch 69/100\n",
      "54/54 - 1s - loss: 1.5661e-05 - val_loss: 0.0012\n",
      "Epoch 70/100\n",
      "54/54 - 1s - loss: 1.6970e-05 - val_loss: 0.0011\n",
      "Epoch 71/100\n",
      "54/54 - 1s - loss: 1.9356e-05 - val_loss: 0.0010\n",
      "Epoch 72/100\n",
      "54/54 - 1s - loss: 1.8144e-05 - val_loss: 0.0011\n",
      "Epoch 73/100\n",
      "54/54 - 1s - loss: 1.8501e-05 - val_loss: 0.0011\n",
      "Epoch 74/100\n",
      "54/54 - 1s - loss: 1.9013e-05 - val_loss: 0.0011\n",
      "Epoch 75/100\n",
      "54/54 - 1s - loss: 1.8776e-05 - val_loss: 9.1801e-04\n",
      "Epoch 76/100\n",
      "54/54 - 1s - loss: 1.9436e-05 - val_loss: 7.5239e-04\n",
      "Epoch 77/100\n",
      "54/54 - 1s - loss: 1.6738e-05 - val_loss: 0.0010\n",
      "Epoch 78/100\n",
      "54/54 - 1s - loss: 1.9296e-05 - val_loss: 0.0010\n",
      "Epoch 79/100\n",
      "54/54 - 1s - loss: 1.7547e-05 - val_loss: 9.1238e-04\n",
      "Epoch 80/100\n",
      "54/54 - 1s - loss: 1.7113e-05 - val_loss: 0.0012\n",
      "Epoch 81/100\n",
      "54/54 - 1s - loss: 1.6664e-05 - val_loss: 8.7859e-04\n",
      "Epoch 82/100\n",
      "54/54 - 1s - loss: 1.7629e-05 - val_loss: 7.0851e-04\n",
      "Epoch 83/100\n",
      "54/54 - 1s - loss: 1.6226e-05 - val_loss: 8.0042e-04\n",
      "Epoch 84/100\n",
      "54/54 - 1s - loss: 1.7992e-05 - val_loss: 0.0011\n",
      "Epoch 85/100\n",
      "54/54 - 1s - loss: 1.9005e-05 - val_loss: 7.2562e-04\n",
      "Epoch 86/100\n",
      "54/54 - 1s - loss: 1.6323e-05 - val_loss: 8.8511e-04\n",
      "Epoch 87/100\n",
      "54/54 - 1s - loss: 1.8435e-05 - val_loss: 0.0010\n",
      "Epoch 88/100\n",
      "54/54 - 2s - loss: 1.8810e-05 - val_loss: 8.7677e-04\n",
      "Epoch 89/100\n",
      "54/54 - 1s - loss: 1.9052e-05 - val_loss: 0.0011\n",
      "Epoch 90/100\n",
      "54/54 - 1s - loss: 1.8137e-05 - val_loss: 0.0010\n",
      "Epoch 91/100\n",
      "54/54 - 1s - loss: 1.9830e-05 - val_loss: 0.0014\n",
      "Epoch 92/100\n",
      "54/54 - 1s - loss: 1.8507e-05 - val_loss: 0.0011\n",
      "Epoch 93/100\n",
      "54/54 - 1s - loss: 2.0407e-05 - val_loss: 0.0013\n",
      "Epoch 94/100\n",
      "54/54 - 1s - loss: 1.3546e-05 - val_loss: 0.0012\n",
      "Epoch 95/100\n",
      "54/54 - 1s - loss: 1.7496e-05 - val_loss: 0.0014\n",
      "Epoch 96/100\n",
      "54/54 - 1s - loss: 1.6404e-05 - val_loss: 0.0010\n",
      "Epoch 97/100\n",
      "54/54 - 1s - loss: 1.8366e-05 - val_loss: 0.0012\n",
      "Epoch 98/100\n",
      "54/54 - 1s - loss: 1.8208e-05 - val_loss: 0.0011\n",
      "Epoch 99/100\n",
      "54/54 - 1s - loss: 2.1675e-05 - val_loss: 0.0014\n",
      "Epoch 100/100\n",
      "54/54 - 1s - loss: 2.0388e-05 - val_loss: 0.0012\n"
     ]
    },
    {
     "data": {
      "text/plain": [
       "<tensorflow.python.keras.callbacks.History at 0x7f4648065850>"
      ]
     },
     "execution_count": 16,
     "metadata": {},
     "output_type": "execute_result"
    }
   ],
   "source": [
    "model.fit(trainX, trainY, validation_data=(testX, testY),\n",
    "          verbose=2, epochs=100)"
   ]
  },
  {
   "cell_type": "markdown",
   "metadata": {},
   "source": [
    "## Predictions"
   ]
  },
  {
   "cell_type": "code",
   "execution_count": 17,
   "metadata": {},
   "outputs": [],
   "source": [
    "trainPredict = model.predict(trainX)\n",
    "testPredict = model.predict(testX)\n",
    "\n",
    "#Since we used minmaxscaler we can now use scaler.inverse_transform\n",
    "#to invert the transformation.\n",
    "\n",
    "trainPredict = scaler.inverse_transform(trainPredict)\n",
    "trainY_inverse = scaler.inverse_transform([trainY])\n",
    "testPredict = scaler.inverse_transform(testPredict)\n",
    "testY_inverse = scaler.inverse_transform([testY])"
   ]
  },
  {
   "cell_type": "code",
   "execution_count": 18,
   "metadata": {},
   "outputs": [
    {
     "name": "stdout",
     "output_type": "stream",
     "text": [
      "Train Score: 0.00024607603553592253 RMSE\n",
      "Test Score: 0.0026883102360383076 RMSE\n"
     ]
    }
   ],
   "source": [
    "# Calculate root mean squared error\n",
    "trainScore = math.sqrt(mean_squared_error(trainY_inverse[0], trainPredict[:,0]))\n",
    "print(f'Train Score: {trainScore} RMSE')\n",
    "\n",
    "testScore = math.sqrt(mean_squared_error(testY_inverse[0], testPredict[:,0]))\n",
    "print(f'Test Score: {testScore} RMSE')"
   ]
  }
 ],
 "metadata": {
  "kernelspec": {
   "display_name": "Python 3",
   "language": "python",
   "name": "python3"
  },
  "language_info": {
   "codemirror_mode": {
    "name": "ipython",
    "version": 3
   },
   "file_extension": ".py",
   "mimetype": "text/x-python",
   "name": "python",
   "nbconvert_exporter": "python",
   "pygments_lexer": "ipython3",
   "version": "3.7.10"
  }
 },
 "nbformat": 4,
 "nbformat_minor": 4
}
