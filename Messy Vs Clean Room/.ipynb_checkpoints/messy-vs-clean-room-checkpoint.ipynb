{
 "cells": [
  {
   "cell_type": "markdown",
   "metadata": {},
   "source": [
    "# Problem Statement : (Binary Classification)\n",
    "## Create a Neural Network model to predict whether a room is messy or clean"
   ]
  },
  {
   "cell_type": "markdown",
   "metadata": {},
   "source": [
    "## Importing the required libraries"
   ]
  },
  {
   "cell_type": "code",
   "execution_count": 16,
   "metadata": {},
   "outputs": [],
   "source": [
    "import os\n",
    "import tensorflow as tf\n",
    "from tensorflow import keras\n",
    "from tensorflow.keras import models\n",
    "from tensorflow.keras import layers\n",
    "from tensorflow.keras.preprocessing.image import ImageDataGenerator\n",
    "import matplotlib.pyplot as plt\n",
    "from tensorflow.keras.applications.xception import Xception"
   ]
  },
  {
   "cell_type": "code",
   "execution_count": 17,
   "metadata": {},
   "outputs": [
    {
     "name": "stdout",
     "output_type": "stream",
     "text": [
      "['messy-vs-clean-room']\n"
     ]
    }
   ],
   "source": [
    "print(os.listdir(\"../input\"))"
   ]
  },
  {
   "cell_type": "markdown",
   "metadata": {},
   "source": [
    "## Paths for Train & Test directories"
   ]
  },
  {
   "cell_type": "code",
   "execution_count": 41,
   "metadata": {},
   "outputs": [],
   "source": [
    "train_dir = '../input/messy-vs-clean-room/images/images/train/'\n",
    "val_dir = '../input/messy-vs-clean-room/images/images/val/'"
   ]
  },
  {
   "cell_type": "markdown",
   "metadata": {},
   "source": [
    "## Generating extra data from the existing data by using Data Augmentation"
   ]
  },
  {
   "cell_type": "code",
   "execution_count": 20,
   "metadata": {},
   "outputs": [],
   "source": [
    "train_datagen = ImageDataGenerator(rescale=1./255,\n",
    "                                   rotation_range=40,\n",
    "                                   width_shift_range=0.2,\n",
    "                                   height_shift_range=0.2,\n",
    "                                   shear_range=0.2,\n",
    "                                   zoom_range=0.2,\n",
    "                                   horizontal_flip=True)\n",
    "\n",
    "val_datagen = ImageDataGenerator(rescale=1./255,\n",
    "                                   rotation_range=40,\n",
    "                                   width_shift_range=0.2,\n",
    "                                   height_shift_range=0.2,\n",
    "                                   shear_range=0.2,\n",
    "                                   zoom_range=0.2,\n",
    "                                   horizontal_flip=True)"
   ]
  },
  {
   "cell_type": "code",
   "execution_count": 21,
   "metadata": {},
   "outputs": [
    {
     "name": "stdout",
     "output_type": "stream",
     "text": [
      "Found 192 images belonging to 2 classes.\n",
      "Found 20 images belonging to 2 classes.\n"
     ]
    }
   ],
   "source": [
    "train_generator = train_datagen.flow_from_directory(train_dir,\n",
    "                                                    target_size=(150,150),\n",
    "                                                    batch_size=16,\n",
    "                                                    class_mode='binary')\n",
    "\n",
    "validation_generator = val_datagen.flow_from_directory(val_dir,\n",
    "                                                        target_size=(150,150),\n",
    "                                                        batch_size=16,\n",
    "                                                        class_mode='binary')"
   ]
  },
  {
   "cell_type": "markdown",
   "metadata": {},
   "source": [
    "## Model Building (Transfer Learning : Xception)"
   ]
  },
  {
   "cell_type": "code",
   "execution_count": 22,
   "metadata": {},
   "outputs": [
    {
     "name": "stdout",
     "output_type": "stream",
     "text": [
      "Downloading data from https://storage.googleapis.com/tensorflow/keras-applications/xception/xception_weights_tf_dim_ordering_tf_kernels_notop.h5\n",
      "83689472/83683744 [==============================] - 1s 0us/step\n"
     ]
    }
   ],
   "source": [
    "conv_base = Xception(include_top=False, input_shape=(150,150,3))"
   ]
  },
  {
   "cell_type": "code",
   "execution_count": 23,
   "metadata": {},
   "outputs": [],
   "source": [
    "# Not training the already trained Convolutional layers from the Pre-trained model\n",
    "for layer in conv_base.layers:\n",
    "    layer.trainable = False"
   ]
  },
  {
   "cell_type": "code",
   "execution_count": 24,
   "metadata": {},
   "outputs": [],
   "source": [
    "# Model with Convolutional Base = Xception & Classifier = Custom made\n",
    "model = models.Sequential([\n",
    "                           conv_base,\n",
    "                           layers.Flatten(),\n",
    "                           layers.Dropout((0.3)),\n",
    "                           layers.Dense(512, activation='relu'),\n",
    "                           layers.BatchNormalization(),\n",
    "                           layers.Dense(256, activation='relu'),\n",
    "                           layers.Dense(1, activation='sigmoid')\n",
    "])"
   ]
  },
  {
   "cell_type": "code",
   "execution_count": 25,
   "metadata": {},
   "outputs": [
    {
     "name": "stdout",
     "output_type": "stream",
     "text": [
      "Model: \"sequential\"\n",
      "_________________________________________________________________\n",
      "Layer (type)                 Output Shape              Param #   \n",
      "=================================================================\n",
      "xception (Functional)        (None, 5, 5, 2048)        20861480  \n",
      "_________________________________________________________________\n",
      "flatten (Flatten)            (None, 51200)             0         \n",
      "_________________________________________________________________\n",
      "dropout (Dropout)            (None, 51200)             0         \n",
      "_________________________________________________________________\n",
      "dense (Dense)                (None, 512)               26214912  \n",
      "_________________________________________________________________\n",
      "batch_normalization_4 (Batch (None, 512)               2048      \n",
      "_________________________________________________________________\n",
      "dense_1 (Dense)              (None, 256)               131328    \n",
      "_________________________________________________________________\n",
      "dense_2 (Dense)              (None, 1)                 257       \n",
      "=================================================================\n",
      "Total params: 47,210,025\n",
      "Trainable params: 26,347,521\n",
      "Non-trainable params: 20,862,504\n",
      "_________________________________________________________________\n"
     ]
    }
   ],
   "source": [
    "model.summary()"
   ]
  },
  {
   "cell_type": "code",
   "execution_count": 26,
   "metadata": {},
   "outputs": [],
   "source": [
    "model.compile(tf.keras.optimizers.Adam(learning_rate=2e-5),\n",
    "              tf.keras.losses.binary_crossentropy,\n",
    "              metrics=['accuracy'])"
   ]
  },
  {
   "cell_type": "code",
   "execution_count": 27,
   "metadata": {},
   "outputs": [],
   "source": [
    "callback = tf.keras.callbacks.EarlyStopping(monitor='loss', patience=3)"
   ]
  },
  {
   "cell_type": "markdown",
   "metadata": {},
   "source": [
    "## Training"
   ]
  },
  {
   "cell_type": "code",
   "execution_count": 28,
   "metadata": {},
   "outputs": [
    {
     "name": "stdout",
     "output_type": "stream",
     "text": [
      "Epoch 1/20\n",
      "12/12 [==============================] - 17s 1s/step - loss: 0.7559 - accuracy: 0.5869 - val_loss: 0.4324 - val_accuracy: 0.8500\n",
      "Epoch 2/20\n",
      "12/12 [==============================] - 12s 1s/step - loss: 0.4101 - accuracy: 0.8023 - val_loss: 0.4004 - val_accuracy: 0.8500\n",
      "Epoch 3/20\n",
      "12/12 [==============================] - 13s 1s/step - loss: 0.2653 - accuracy: 0.8810 - val_loss: 0.3593 - val_accuracy: 0.9000\n",
      "Epoch 4/20\n",
      "12/12 [==============================] - 12s 1s/step - loss: 0.1867 - accuracy: 0.9216 - val_loss: 0.2065 - val_accuracy: 0.9500\n",
      "Epoch 5/20\n",
      "12/12 [==============================] - 13s 1s/step - loss: 0.2736 - accuracy: 0.8918 - val_loss: 0.4602 - val_accuracy: 0.7500\n",
      "Epoch 6/20\n",
      "12/12 [==============================] - 12s 1s/step - loss: 0.2000 - accuracy: 0.9163 - val_loss: 0.3096 - val_accuracy: 0.8500\n",
      "Epoch 7/20\n",
      "12/12 [==============================] - 12s 1s/step - loss: 0.1474 - accuracy: 0.9518 - val_loss: 0.1578 - val_accuracy: 0.9500\n",
      "Epoch 8/20\n",
      "12/12 [==============================] - 13s 1s/step - loss: 0.2635 - accuracy: 0.9380 - val_loss: 0.1228 - val_accuracy: 0.9500\n",
      "Epoch 9/20\n",
      "12/12 [==============================] - 12s 1s/step - loss: 0.1369 - accuracy: 0.9640 - val_loss: 0.3046 - val_accuracy: 0.9000\n",
      "Epoch 10/20\n",
      "12/12 [==============================] - 13s 1s/step - loss: 0.1239 - accuracy: 0.9345 - val_loss: 0.2477 - val_accuracy: 0.8500\n",
      "Epoch 11/20\n",
      "12/12 [==============================] - 12s 1s/step - loss: 0.1668 - accuracy: 0.9411 - val_loss: 0.1965 - val_accuracy: 0.9000\n",
      "Epoch 12/20\n",
      "12/12 [==============================] - 12s 1s/step - loss: 0.1349 - accuracy: 0.9411 - val_loss: 0.2696 - val_accuracy: 0.8000\n"
     ]
    }
   ],
   "source": [
    "history = model.fit(train_generator,\n",
    "                             steps_per_epoch=12,\n",
    "                             epochs=20,\n",
    "                             validation_data=validation_generator,\n",
    "                            validation_steps=2,\n",
    "                           callbacks=[callback])\n",
    "\n",
    "model.save('messy_vs_clean_room.h5')"
   ]
  },
  {
   "cell_type": "code",
   "execution_count": 29,
   "metadata": {},
   "outputs": [
    {
     "data": {
      "text/plain": [
       "{'loss': [0.6941563487052917,\n",
       "  0.34760192036628723,\n",
       "  0.23268546164035797,\n",
       "  0.19957083463668823,\n",
       "  0.23654687404632568,\n",
       "  0.1785745620727539,\n",
       "  0.1604105532169342,\n",
       "  0.24368594586849213,\n",
       "  0.12769430875778198,\n",
       "  0.12815141677856445,\n",
       "  0.18197061121463776,\n",
       "  0.15179942548274994],\n",
       " 'accuracy': [0.65625,\n",
       "  0.8489583134651184,\n",
       "  0.9114583134651184,\n",
       "  0.9166666865348816,\n",
       "  0.9114583134651184,\n",
       "  0.9322916865348816,\n",
       "  0.9479166865348816,\n",
       "  0.9270833134651184,\n",
       "  0.9583333134651184,\n",
       "  0.9322916865348816,\n",
       "  0.9270833134651184,\n",
       "  0.9322916865348816],\n",
       " 'val_loss': [0.43244433403015137,\n",
       "  0.40042558312416077,\n",
       "  0.35928618907928467,\n",
       "  0.2064584195613861,\n",
       "  0.4602054953575134,\n",
       "  0.3096441328525543,\n",
       "  0.15777643024921417,\n",
       "  0.12280227243900299,\n",
       "  0.3046397864818573,\n",
       "  0.2477254420518875,\n",
       "  0.19650661945343018,\n",
       "  0.2696226239204407],\n",
       " 'val_accuracy': [0.8500000238418579,\n",
       "  0.8500000238418579,\n",
       "  0.8999999761581421,\n",
       "  0.949999988079071,\n",
       "  0.75,\n",
       "  0.8500000238418579,\n",
       "  0.949999988079071,\n",
       "  0.949999988079071,\n",
       "  0.8999999761581421,\n",
       "  0.8500000238418579,\n",
       "  0.8999999761581421,\n",
       "  0.800000011920929]}"
      ]
     },
     "execution_count": 29,
     "metadata": {},
     "output_type": "execute_result"
    }
   ],
   "source": [
    "history.history"
   ]
  },
  {
   "cell_type": "markdown",
   "metadata": {},
   "source": [
    "## Results"
   ]
  },
  {
   "cell_type": "code",
   "execution_count": 33,
   "metadata": {},
   "outputs": [],
   "source": [
    "acc = history.history['accuracy']\n",
    "val_acc = history.history['val_accuracy']\n",
    "loss = history.history['loss']\n",
    "val_loss = history.history['val_loss']\n",
    "\n",
    "epochs = range(1, len(acc) + 1)"
   ]
  },
  {
   "cell_type": "code",
   "execution_count": 43,
   "metadata": {},
   "outputs": [
    {
     "name": "stdout",
     "output_type": "stream",
     "text": [
      "Training Accuracy : 0.9001736094554266\n",
      "Training Loss : 0.24023735523223877\n",
      "\n",
      "Validation Accuracy : 0.875\n",
      "Validation Loss : 0.2889614440500736\n"
     ]
    }
   ],
   "source": [
    "print(f'Training Accuracy : {sum(acc)/len(acc)}')\n",
    "print(f'Training Loss : {sum(loss)/len(loss)}')\n",
    "print(f'\\nValidation Accuracy : {sum(val_acc)/len(val_acc)}')\n",
    "print(f'Validation Loss : {sum(val_loss)/len(val_loss)}')"
   ]
  },
  {
   "cell_type": "code",
   "execution_count": 35,
   "metadata": {},
   "outputs": [
    {
     "data": {
      "image/png": "[encoded data removed]",
      "text/plain": [
       "<Figure size 432x288 with 1 Axes>"
      ]
     },
     "metadata": {
      "needs_background": "light"
     },
     "output_type": "display_data"
    },
    {
     "data": {
      "image/png": "[encoded data removed]",
      "text/plain": [
       "<Figure size 432x288 with 1 Axes>"
      ]
     },
     "metadata": {
      "needs_background": "light"
     },
     "output_type": "display_data"
    }
   ],
   "source": [
    "plt.plot(epochs, acc, 'bo', label='Training Accuracy')\n",
    "plt.plot(epochs, val_acc, 'ro', label='Validation Accuracy')\n",
    "plt.title('Training & Validation Accuracy')\n",
    "plt.legend()\n",
    "\n",
    "plt.figure()\n",
    "\n",
    "plt.plot(epochs, loss, 'bo', label='Training Loss')\n",
    "plt.plot(epochs, val_loss, 'ro', label='Validation Loss')\n",
    "plt.title('Training & Validation Loss')\n",
    "plt.legend()\n",
    "\n",
    "plt.show()"
   ]
  }
 ],
 "metadata": {
  "kernelspec": {
   "display_name": "Python 3",
   "language": "python",
   "name": "python3"
  },
  "language_info": {
   "codemirror_mode": {
    "name": "ipython",
    "version": 3
   },
   "file_extension": ".py",
   "mimetype": "text/x-python",
   "name": "python",
   "nbconvert_exporter": "python",
   "pygments_lexer": "ipython3",
   "version": "3.7.10"
  }
 },
 "nbformat": 4,
 "nbformat_minor": 4
}
