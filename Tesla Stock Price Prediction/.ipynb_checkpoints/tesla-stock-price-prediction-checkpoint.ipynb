{
 "cells": [
  {
   "cell_type": "markdown",
   "metadata": {},
   "source": [
    "# Problem Statement :\n",
    "\n",
    "## Considering the Closing Stock Prices of the following Tesla Stock Prices dataset, create a Neural Network model to forecast the future stock prices of Tesla"
   ]
  },
  {
   "cell_type": "code",
   "execution_count": 2,
   "metadata": {},
   "outputs": [],
   "source": [
    "import numpy as np\n",
    "import pandas as pd\n",
    "import matplotlib.pyplot as plt\n",
    "import math\n",
    "\n",
    "from keras.models import Sequential\n",
    "from keras.layers import Dense, Dropout, LSTM\n",
    "from sklearn.preprocessing import MinMaxScaler\n",
    "from sklearn.metrics import mean_squared_error"
   ]
  },
  {
   "cell_type": "code",
   "execution_count": 3,
   "metadata": {},
   "outputs": [
    {
     "data": {
      "text/html": [
       "<div>\n",
       "<style scoped>\n",
       "    .dataframe tbody tr th:only-of-type {\n",
       "        vertical-align: middle;\n",
       "    }\n",
       "\n",
       "    .dataframe tbody tr th {\n",
       "        vertical-align: top;\n",
       "    }\n",
       "\n",
       "    .dataframe thead th {\n",
       "        text-align: right;\n",
       "    }\n",
       "</style>\n",
       "<table border=\"1\" class=\"dataframe\">\n",
       "  <thead>\n",
       "    <tr style=\"text-align: right;\">\n",
       "      <th></th>\n",
       "      <th>Date</th>\n",
       "      <th>Open</th>\n",
       "      <th>High</th>\n",
       "      <th>Low</th>\n",
       "      <th>Close</th>\n",
       "      <th>Volume</th>\n",
       "      <th>Adj Close</th>\n",
       "    </tr>\n",
       "  </thead>\n",
       "  <tbody>\n",
       "    <tr>\n",
       "      <th>0</th>\n",
       "      <td>6/29/2010</td>\n",
       "      <td>19.000000</td>\n",
       "      <td>25.00</td>\n",
       "      <td>17.540001</td>\n",
       "      <td>23.889999</td>\n",
       "      <td>18766300</td>\n",
       "      <td>23.889999</td>\n",
       "    </tr>\n",
       "    <tr>\n",
       "      <th>1</th>\n",
       "      <td>6/30/2010</td>\n",
       "      <td>25.790001</td>\n",
       "      <td>30.42</td>\n",
       "      <td>23.299999</td>\n",
       "      <td>23.830000</td>\n",
       "      <td>17187100</td>\n",
       "      <td>23.830000</td>\n",
       "    </tr>\n",
       "    <tr>\n",
       "      <th>2</th>\n",
       "      <td>7/1/2010</td>\n",
       "      <td>25.000000</td>\n",
       "      <td>25.92</td>\n",
       "      <td>20.270000</td>\n",
       "      <td>21.959999</td>\n",
       "      <td>8218800</td>\n",
       "      <td>21.959999</td>\n",
       "    </tr>\n",
       "    <tr>\n",
       "      <th>3</th>\n",
       "      <td>7/2/2010</td>\n",
       "      <td>23.000000</td>\n",
       "      <td>23.10</td>\n",
       "      <td>18.709999</td>\n",
       "      <td>19.200001</td>\n",
       "      <td>5139800</td>\n",
       "      <td>19.200001</td>\n",
       "    </tr>\n",
       "    <tr>\n",
       "      <th>4</th>\n",
       "      <td>7/6/2010</td>\n",
       "      <td>20.000000</td>\n",
       "      <td>20.00</td>\n",
       "      <td>15.830000</td>\n",
       "      <td>16.110001</td>\n",
       "      <td>6866900</td>\n",
       "      <td>16.110001</td>\n",
       "    </tr>\n",
       "  </tbody>\n",
       "</table>\n",
       "</div>"
      ],
      "text/plain": [
       "        Date       Open   High        Low      Close    Volume  Adj Close\n",
       "0  6/29/2010  19.000000  25.00  17.540001  23.889999  18766300  23.889999\n",
       "1  6/30/2010  25.790001  30.42  23.299999  23.830000  17187100  23.830000\n",
       "2   7/1/2010  25.000000  25.92  20.270000  21.959999   8218800  21.959999\n",
       "3   7/2/2010  23.000000  23.10  18.709999  19.200001   5139800  19.200001\n",
       "4   7/6/2010  20.000000  20.00  15.830000  16.110001   6866900  16.110001"
      ]
     },
     "execution_count": 3,
     "metadata": {},
     "output_type": "execute_result"
    }
   ],
   "source": [
    "data = pd.read_csv('../input/tesla-stock-price/Tesla.csv - Tesla.csv.csv')\n",
    "data.head()"
   ]
  },
  {
   "cell_type": "markdown",
   "metadata": {},
   "source": [
    "## Using only the Closing Price"
   ]
  },
  {
   "cell_type": "code",
   "execution_count": 4,
   "metadata": {},
   "outputs": [
    {
     "data": {
      "text/plain": [
       "array([[ 23.889999],\n",
       "       [ 23.83    ],\n",
       "       [ 21.959999],\n",
       "       ...,\n",
       "       [255.729996],\n",
       "       [262.049988],\n",
       "       [261.5     ]])"
      ]
     },
     "execution_count": 4,
     "metadata": {},
     "output_type": "execute_result"
    }
   ],
   "source": [
    "dataframe = data[['Close']]\n",
    "dataframe.values"
   ]
  },
  {
   "cell_type": "code",
   "execution_count": 5,
   "metadata": {},
   "outputs": [
    {
     "data": {
      "text/plain": [
       "(1692, 1)"
      ]
     },
     "execution_count": 5,
     "metadata": {},
     "output_type": "execute_result"
    }
   ],
   "source": [
    "dataframe.shape"
   ]
  },
  {
   "cell_type": "markdown",
   "metadata": {},
   "source": [
    "## Plotting the Data"
   ]
  },
  {
   "cell_type": "code",
   "execution_count": 6,
   "metadata": {},
   "outputs": [
    {
     "data": {
      "image/png": "[encoded data removed]",
      "text/plain": [
       "<Figure size 432x288 with 1 Axes>"
      ]
     },
     "metadata": {
      "needs_background": "light"
     },
     "output_type": "display_data"
    }
   ],
   "source": [
    "plt.plot(dataframe)\n",
    "plt.xlabel('Time')\n",
    "plt.ylabel('Price')\n",
    "plt.title('Tesla')\n",
    "plt.show()"
   ]
  },
  {
   "cell_type": "code",
   "execution_count": 7,
   "metadata": {},
   "outputs": [
    {
     "data": {
      "text/plain": [
       "array([[ 23.89],\n",
       "       [ 23.83],\n",
       "       [ 21.96],\n",
       "       ...,\n",
       "       [255.73],\n",
       "       [262.05],\n",
       "       [261.5 ]], dtype=float32)"
      ]
     },
     "execution_count": 7,
     "metadata": {},
     "output_type": "execute_result"
    }
   ],
   "source": [
    "# Converting all the values into 'Floating Point Values', so that we don't miss any values due to rounding off\n",
    "\n",
    "dataset = dataframe.values\n",
    "dataset = dataset.astype('float32')\n",
    "dataset"
   ]
  },
  {
   "cell_type": "markdown",
   "metadata": {},
   "source": [
    "## Feature Scaling : Normalization"
   ]
  },
  {
   "cell_type": "code",
   "execution_count": 8,
   "metadata": {},
   "outputs": [],
   "source": [
    "scaler = MinMaxScaler(feature_range=(0, 1))\n",
    "dataset = scaler.fit_transform(dataset)"
   ]
  },
  {
   "cell_type": "markdown",
   "metadata": {},
   "source": [
    "## Train - Test Split"
   ]
  },
  {
   "cell_type": "code",
   "execution_count": 9,
   "metadata": {},
   "outputs": [],
   "source": [
    "train_size = int(len(dataset) * 0.66)\n",
    "test_size = len(dataset) - train_size\n",
    "train, test = dataset[0:train_size,:], dataset[train_size:len(dataset),:]"
   ]
  },
  {
   "cell_type": "markdown",
   "metadata": {},
   "source": [
    "## Preparing the dataset"
   ]
  },
  {
   "cell_type": "code",
   "execution_count": 10,
   "metadata": {},
   "outputs": [],
   "source": [
    "def to_sequences(dataset, seq_size=1):\n",
    "    x = []\n",
    "    y = []\n",
    "\n",
    "    for i in range(len(dataset)-seq_size-1):\n",
    "        window = dataset[i:(i+seq_size), 0]\n",
    "        x.append(window)\n",
    "        y.append(dataset[i+seq_size, 0])\n",
    "        \n",
    "    return np.array(x),np.array(y)"
   ]
  },
  {
   "cell_type": "code",
   "execution_count": 11,
   "metadata": {},
   "outputs": [],
   "source": [
    "seq_size = 10 # Number of time steps to look back \n",
    "\n",
    "trainX, trainY = to_sequences(train, seq_size)\n",
    "testX, testY = to_sequences(test, seq_size)"
   ]
  },
  {
   "cell_type": "code",
   "execution_count": 12,
   "metadata": {},
   "outputs": [
    {
     "data": {
      "text/plain": [
       "(((1105, 10), (1105,)), ((565, 10), (565,)))"
      ]
     },
     "execution_count": 12,
     "metadata": {},
     "output_type": "execute_result"
    }
   ],
   "source": [
    "(trainX.shape, trainY.shape), (testX.shape, testY.shape)"
   ]
  },
  {
   "cell_type": "code",
   "execution_count": 13,
   "metadata": {},
   "outputs": [],
   "source": [
    "trainX = trainX.reshape(trainX.shape[0], trainX.shape[1], 1)\n",
    "testX = testX.reshape(testX.shape[0], testX.shape[1], 1)"
   ]
  },
  {
   "cell_type": "code",
   "execution_count": 14,
   "metadata": {},
   "outputs": [
    {
     "data": {
      "text/plain": [
       "(((1105, 10, 1), (1105,)), ((565, 10, 1), (565,)))"
      ]
     },
     "execution_count": 14,
     "metadata": {},
     "output_type": "execute_result"
    }
   ],
   "source": [
    "(trainX.shape, trainY.shape), (testX.shape, testY.shape)"
   ]
  },
  {
   "cell_type": "markdown",
   "metadata": {},
   "source": [
    "## Creating the model using RNN(LSTM)"
   ]
  },
  {
   "cell_type": "code",
   "execution_count": 15,
   "metadata": {},
   "outputs": [
    {
     "name": "stdout",
     "output_type": "stream",
     "text": [
      "Model: \"sequential\"\n",
      "_________________________________________________________________\n",
      "Layer (type)                 Output Shape              Param #   \n",
      "=================================================================\n",
      "lstm (LSTM)                  (None, 10, 128)           66560     \n",
      "_________________________________________________________________\n",
      "dropout (Dropout)            (None, 10, 128)           0         \n",
      "_________________________________________________________________\n",
      "lstm_1 (LSTM)                (None, 10, 64)            49408     \n",
      "_________________________________________________________________\n",
      "dropout_1 (Dropout)          (None, 10, 64)            0         \n",
      "_________________________________________________________________\n",
      "lstm_2 (LSTM)                (None, 32)                12416     \n",
      "_________________________________________________________________\n",
      "dropout_2 (Dropout)          (None, 32)                0         \n",
      "_________________________________________________________________\n",
      "dense (Dense)                (None, 1)                 33        \n",
      "=================================================================\n",
      "Total params: 128,417\n",
      "Trainable params: 128,417\n",
      "Non-trainable params: 0\n",
      "_________________________________________________________________\n",
      "None\n"
     ]
    }
   ],
   "source": [
    "model = Sequential([\n",
    "    LSTM(128, return_sequences=True, input_shape=(seq_size, 1)),\n",
    "    Dropout((0.1)),\n",
    "    LSTM(64, return_sequences=True),\n",
    "    Dropout((0.1)),\n",
    "    LSTM(32),\n",
    "    Dropout((0.1)),\n",
    "    Dense(1)\n",
    "]) \n",
    "\n",
    "print(model.summary())"
   ]
  },
  {
   "cell_type": "code",
   "execution_count": 16,
   "metadata": {},
   "outputs": [],
   "source": [
    "model.compile(loss='mean_squared_error', optimizer='adam')"
   ]
  },
  {
   "cell_type": "markdown",
   "metadata": {},
   "source": [
    "## Training"
   ]
  },
  {
   "cell_type": "code",
   "execution_count": 17,
   "metadata": {},
   "outputs": [
    {
     "name": "stdout",
     "output_type": "stream",
     "text": [
      "Epoch 1/100\n",
      "35/35 - 7s - loss: 0.0298 - val_loss: 0.0023\n",
      "Epoch 2/100\n",
      "35/35 - 1s - loss: 0.0024 - val_loss: 0.0021\n",
      "Epoch 3/100\n",
      "35/35 - 1s - loss: 0.0021 - val_loss: 0.0021\n",
      "Epoch 4/100\n",
      "35/35 - 1s - loss: 0.0021 - val_loss: 0.0021\n",
      "Epoch 5/100\n",
      "35/35 - 1s - loss: 0.0017 - val_loss: 0.0027\n",
      "Epoch 6/100\n",
      "35/35 - 1s - loss: 0.0019 - val_loss: 0.0021\n",
      "Epoch 7/100\n",
      "35/35 - 1s - loss: 0.0018 - val_loss: 0.0023\n",
      "Epoch 8/100\n",
      "35/35 - 1s - loss: 0.0018 - val_loss: 0.0023\n",
      "Epoch 9/100\n",
      "35/35 - 1s - loss: 0.0018 - val_loss: 0.0032\n",
      "Epoch 10/100\n",
      "35/35 - 1s - loss: 0.0020 - val_loss: 0.0029\n",
      "Epoch 11/100\n",
      "35/35 - 1s - loss: 0.0020 - val_loss: 0.0039\n",
      "Epoch 12/100\n",
      "35/35 - 1s - loss: 0.0016 - val_loss: 0.0021\n",
      "Epoch 13/100\n",
      "35/35 - 1s - loss: 0.0019 - val_loss: 0.0019\n",
      "Epoch 14/100\n",
      "35/35 - 1s - loss: 0.0019 - val_loss: 0.0036\n",
      "Epoch 15/100\n",
      "35/35 - 1s - loss: 0.0022 - val_loss: 0.0031\n",
      "Epoch 16/100\n",
      "35/35 - 1s - loss: 0.0020 - val_loss: 0.0023\n",
      "Epoch 17/100\n",
      "35/35 - 1s - loss: 0.0018 - val_loss: 0.0019\n",
      "Epoch 18/100\n",
      "35/35 - 1s - loss: 0.0015 - val_loss: 0.0037\n",
      "Epoch 19/100\n",
      "35/35 - 1s - loss: 0.0015 - val_loss: 0.0020\n",
      "Epoch 20/100\n",
      "35/35 - 1s - loss: 0.0020 - val_loss: 0.0028\n",
      "Epoch 21/100\n",
      "35/35 - 1s - loss: 0.0018 - val_loss: 0.0018\n",
      "Epoch 22/100\n",
      "35/35 - 1s - loss: 0.0017 - val_loss: 0.0031\n",
      "Epoch 23/100\n",
      "35/35 - 1s - loss: 0.0018 - val_loss: 0.0018\n",
      "Epoch 24/100\n",
      "35/35 - 1s - loss: 0.0016 - val_loss: 0.0018\n",
      "Epoch 25/100\n",
      "35/35 - 1s - loss: 0.0013 - val_loss: 0.0020\n",
      "Epoch 26/100\n",
      "35/35 - 1s - loss: 0.0015 - val_loss: 0.0022\n",
      "Epoch 27/100\n",
      "35/35 - 1s - loss: 0.0016 - val_loss: 0.0023\n",
      "Epoch 28/100\n",
      "35/35 - 1s - loss: 0.0019 - val_loss: 0.0026\n",
      "Epoch 29/100\n",
      "35/35 - 1s - loss: 0.0016 - val_loss: 0.0023\n",
      "Epoch 30/100\n",
      "35/35 - 1s - loss: 0.0019 - val_loss: 0.0018\n",
      "Epoch 31/100\n",
      "35/35 - 1s - loss: 0.0016 - val_loss: 0.0024\n",
      "Epoch 32/100\n",
      "35/35 - 1s - loss: 0.0015 - val_loss: 0.0019\n",
      "Epoch 33/100\n",
      "35/35 - 1s - loss: 0.0013 - val_loss: 0.0016\n",
      "Epoch 34/100\n",
      "35/35 - 1s - loss: 0.0011 - val_loss: 0.0036\n",
      "Epoch 35/100\n",
      "35/35 - 1s - loss: 0.0015 - val_loss: 0.0017\n",
      "Epoch 36/100\n",
      "35/35 - 1s - loss: 0.0012 - val_loss: 0.0015\n",
      "Epoch 37/100\n",
      "35/35 - 1s - loss: 0.0012 - val_loss: 0.0017\n",
      "Epoch 38/100\n",
      "35/35 - 1s - loss: 0.0013 - val_loss: 0.0015\n",
      "Epoch 39/100\n",
      "35/35 - 1s - loss: 0.0012 - val_loss: 0.0022\n",
      "Epoch 40/100\n",
      "35/35 - 1s - loss: 0.0014 - val_loss: 0.0072\n",
      "Epoch 41/100\n",
      "35/35 - 1s - loss: 0.0016 - val_loss: 0.0024\n",
      "Epoch 42/100\n",
      "35/35 - 1s - loss: 0.0013 - val_loss: 0.0020\n",
      "Epoch 43/100\n",
      "35/35 - 1s - loss: 0.0013 - val_loss: 0.0013\n",
      "Epoch 44/100\n",
      "35/35 - 1s - loss: 0.0015 - val_loss: 0.0025\n",
      "Epoch 45/100\n",
      "35/35 - 1s - loss: 0.0014 - val_loss: 0.0013\n",
      "Epoch 46/100\n",
      "35/35 - 1s - loss: 0.0011 - val_loss: 0.0015\n",
      "Epoch 47/100\n",
      "35/35 - 1s - loss: 0.0013 - val_loss: 0.0025\n",
      "Epoch 48/100\n",
      "35/35 - 1s - loss: 0.0011 - val_loss: 0.0017\n",
      "Epoch 49/100\n",
      "35/35 - 1s - loss: 0.0011 - val_loss: 0.0013\n",
      "Epoch 50/100\n",
      "35/35 - 1s - loss: 0.0013 - val_loss: 0.0014\n",
      "Epoch 51/100\n",
      "35/35 - 1s - loss: 0.0013 - val_loss: 0.0032\n",
      "Epoch 52/100\n",
      "35/35 - 1s - loss: 0.0013 - val_loss: 0.0020\n",
      "Epoch 53/100\n",
      "35/35 - 1s - loss: 0.0012 - val_loss: 0.0022\n",
      "Epoch 54/100\n",
      "35/35 - 1s - loss: 0.0012 - val_loss: 0.0011\n",
      "Epoch 55/100\n",
      "35/35 - 1s - loss: 0.0010 - val_loss: 0.0035\n",
      "Epoch 56/100\n",
      "35/35 - 1s - loss: 9.8939e-04 - val_loss: 0.0012\n",
      "Epoch 57/100\n",
      "35/35 - 1s - loss: 0.0012 - val_loss: 0.0017\n",
      "Epoch 58/100\n",
      "35/35 - 1s - loss: 0.0011 - val_loss: 0.0013\n",
      "Epoch 59/100\n",
      "35/35 - 1s - loss: 0.0010 - val_loss: 0.0013\n",
      "Epoch 60/100\n",
      "35/35 - 1s - loss: 0.0011 - val_loss: 0.0012\n",
      "Epoch 61/100\n",
      "35/35 - 1s - loss: 0.0010 - val_loss: 0.0012\n",
      "Epoch 62/100\n",
      "35/35 - 1s - loss: 0.0011 - val_loss: 0.0025\n",
      "Epoch 63/100\n",
      "35/35 - 1s - loss: 0.0012 - val_loss: 0.0011\n",
      "Epoch 64/100\n",
      "35/35 - 1s - loss: 9.7310e-04 - val_loss: 0.0012\n",
      "Epoch 65/100\n",
      "35/35 - 1s - loss: 0.0011 - val_loss: 0.0028\n",
      "Epoch 66/100\n",
      "35/35 - 1s - loss: 0.0011 - val_loss: 0.0017\n",
      "Epoch 67/100\n",
      "35/35 - 1s - loss: 9.6979e-04 - val_loss: 9.8223e-04\n",
      "Epoch 68/100\n",
      "35/35 - 1s - loss: 8.8038e-04 - val_loss: 0.0013\n",
      "Epoch 69/100\n",
      "35/35 - 1s - loss: 0.0011 - val_loss: 0.0012\n",
      "Epoch 70/100\n",
      "35/35 - 1s - loss: 0.0012 - val_loss: 0.0010\n",
      "Epoch 71/100\n",
      "35/35 - 1s - loss: 0.0012 - val_loss: 9.4034e-04\n",
      "Epoch 72/100\n",
      "35/35 - 1s - loss: 8.7210e-04 - val_loss: 9.3839e-04\n",
      "Epoch 73/100\n",
      "35/35 - 1s - loss: 0.0012 - val_loss: 0.0043\n",
      "Epoch 74/100\n",
      "35/35 - 1s - loss: 0.0014 - val_loss: 0.0012\n",
      "Epoch 75/100\n",
      "35/35 - 1s - loss: 9.3117e-04 - val_loss: 0.0012\n",
      "Epoch 76/100\n",
      "35/35 - 1s - loss: 7.8900e-04 - val_loss: 8.3685e-04\n",
      "Epoch 77/100\n",
      "35/35 - 1s - loss: 9.0282e-04 - val_loss: 0.0021\n",
      "Epoch 78/100\n",
      "35/35 - 1s - loss: 0.0010 - val_loss: 8.1176e-04\n",
      "Epoch 79/100\n",
      "35/35 - 1s - loss: 8.8029e-04 - val_loss: 7.8974e-04\n",
      "Epoch 80/100\n",
      "35/35 - 1s - loss: 0.0010 - val_loss: 0.0023\n",
      "Epoch 81/100\n",
      "35/35 - 1s - loss: 0.0010 - val_loss: 7.9579e-04\n",
      "Epoch 82/100\n",
      "35/35 - 1s - loss: 8.6930e-04 - val_loss: 0.0015\n",
      "Epoch 83/100\n",
      "35/35 - 1s - loss: 8.9707e-04 - val_loss: 8.4446e-04\n",
      "Epoch 84/100\n",
      "35/35 - 1s - loss: 9.4015e-04 - val_loss: 7.2522e-04\n",
      "Epoch 85/100\n",
      "35/35 - 1s - loss: 9.0489e-04 - val_loss: 8.1527e-04\n",
      "Epoch 86/100\n",
      "35/35 - 1s - loss: 8.9126e-04 - val_loss: 7.9081e-04\n",
      "Epoch 87/100\n",
      "35/35 - 1s - loss: 0.0010 - val_loss: 0.0048\n",
      "Epoch 88/100\n",
      "35/35 - 1s - loss: 9.8155e-04 - val_loss: 7.2916e-04\n",
      "Epoch 89/100\n",
      "35/35 - 1s - loss: 9.4990e-04 - val_loss: 8.5510e-04\n",
      "Epoch 90/100\n",
      "35/35 - 1s - loss: 8.9436e-04 - val_loss: 0.0014\n",
      "Epoch 91/100\n",
      "35/35 - 1s - loss: 9.8693e-04 - val_loss: 0.0014\n",
      "Epoch 92/100\n",
      "35/35 - 1s - loss: 8.7876e-04 - val_loss: 7.4719e-04\n",
      "Epoch 93/100\n",
      "35/35 - 1s - loss: 7.8860e-04 - val_loss: 8.5717e-04\n",
      "Epoch 94/100\n",
      "35/35 - 1s - loss: 8.9590e-04 - val_loss: 6.6414e-04\n",
      "Epoch 95/100\n",
      "35/35 - 1s - loss: 8.2298e-04 - val_loss: 6.6629e-04\n",
      "Epoch 96/100\n",
      "35/35 - 1s - loss: 7.6714e-04 - val_loss: 0.0022\n",
      "Epoch 97/100\n",
      "35/35 - 1s - loss: 0.0011 - val_loss: 7.1409e-04\n",
      "Epoch 98/100\n",
      "35/35 - 1s - loss: 9.3607e-04 - val_loss: 6.4298e-04\n",
      "Epoch 99/100\n",
      "35/35 - 1s - loss: 7.9877e-04 - val_loss: 7.1781e-04\n",
      "Epoch 100/100\n",
      "35/35 - 1s - loss: 8.2668e-04 - val_loss: 0.0019\n"
     ]
    },
    {
     "data": {
      "text/plain": [
       "<tensorflow.python.keras.callbacks.History at 0x7f8828281c10>"
      ]
     },
     "execution_count": 17,
     "metadata": {},
     "output_type": "execute_result"
    }
   ],
   "source": [
    "model.fit(trainX, trainY, validation_data=(testX, testY),\n",
    "          verbose=2, epochs=100)"
   ]
  },
  {
   "cell_type": "markdown",
   "metadata": {},
   "source": [
    "## Predictions"
   ]
  },
  {
   "cell_type": "code",
   "execution_count": 18,
   "metadata": {},
   "outputs": [],
   "source": [
    "trainPredict = model.predict(trainX)\n",
    "testPredict = model.predict(testX)\n",
    "\n",
    "#Since we used minmaxscaler we can now use scaler.inverse_transform\n",
    "#to invert the transformation.\n",
    "\n",
    "trainPredict = scaler.inverse_transform(trainPredict)\n",
    "trainY_inverse = scaler.inverse_transform([trainY])\n",
    "testPredict = scaler.inverse_transform(testPredict)\n",
    "testY_inverse = scaler.inverse_transform([testY])"
   ]
  },
  {
   "cell_type": "code",
   "execution_count": 19,
   "metadata": {},
   "outputs": [
    {
     "name": "stdout",
     "output_type": "stream",
     "text": [
      "Train Score: 7.006817713880873 RMSE\n",
      "Test Score: 11.912846806353793 RMSE\n"
     ]
    }
   ],
   "source": [
    "# Calculate root mean squared error\n",
    "trainScore = math.sqrt(mean_squared_error(trainY_inverse[0], trainPredict[:,0]))\n",
    "print(f'Train Score: {trainScore} RMSE')\n",
    "\n",
    "testScore = math.sqrt(mean_squared_error(testY_inverse[0], testPredict[:,0]))\n",
    "print(f'Test Score: {testScore} RMSE')"
   ]
  }
 ],
 "metadata": {
  "kernelspec": {
   "display_name": "Python 3",
   "language": "python",
   "name": "python3"
  },
  "language_info": {
   "codemirror_mode": {
    "name": "ipython",
    "version": 3
   },
   "file_extension": ".py",
   "mimetype": "text/x-python",
   "name": "python",
   "nbconvert_exporter": "python",
   "pygments_lexer": "ipython3",
   "version": "3.7.10"
  }
 },
 "nbformat": 4,
 "nbformat_minor": 4
}
