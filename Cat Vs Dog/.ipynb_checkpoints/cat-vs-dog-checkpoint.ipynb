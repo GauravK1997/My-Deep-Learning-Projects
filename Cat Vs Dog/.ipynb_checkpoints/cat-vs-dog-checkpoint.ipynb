{
 "cells": [
  {
   "cell_type": "markdown",
   "metadata": {},
   "source": [
    "# Problem Statement : (Binary Classification)\n",
    "\n",
    "## Create a Neural Network model to predict whether a given image belongs to either \n",
    "## Cat or Dog category"
   ]
  },
  {
   "cell_type": "markdown",
   "metadata": {},
   "source": [
    "## Importing the required libraries"
   ]
  },
  {
   "cell_type": "code",
   "execution_count": 4,
   "metadata": {},
   "outputs": [],
   "source": [
    "import os\n",
    "import tensorflow as tf\n",
    "from tensorflow import keras\n",
    "from tensorflow.keras import models\n",
    "from tensorflow.keras import layers\n",
    "from tensorflow.keras.preprocessing.image import ImageDataGenerator\n",
    "import matplotlib.pyplot as plt"
   ]
  },
  {
   "cell_type": "code",
   "execution_count": 5,
   "metadata": {},
   "outputs": [
    {
     "name": "stdout",
     "output_type": "stream",
     "text": [
      "['dogs', 'cats']\n"
     ]
    }
   ],
   "source": [
    "print(os.listdir('../input/cat-and-dog/training_set/training_set/'))"
   ]
  },
  {
   "cell_type": "markdown",
   "metadata": {},
   "source": [
    "## Paths for Train & Test directories"
   ]
  },
  {
   "cell_type": "code",
   "execution_count": 6,
   "metadata": {},
   "outputs": [],
   "source": [
    "train_dir = '../input/cat-and-dog/training_set/training_set/'\n",
    "test_dir = '../input/cat-and-dog/test_set/test_set/'"
   ]
  },
  {
   "cell_type": "markdown",
   "metadata": {},
   "source": [
    "## Generating extra data from the existing data by using Data Augmentation"
   ]
  },
  {
   "cell_type": "code",
   "execution_count": 7,
   "metadata": {},
   "outputs": [],
   "source": [
    "train_datagen = ImageDataGenerator(rescale=1./255,\n",
    "                                   rotation_range=40,\n",
    "                                   width_shift_range=0.2,\n",
    "                                   height_shift_range=0.2,\n",
    "                                   shear_range=0.2,\n",
    "                                   zoom_range=0.2,\n",
    "                                   horizontal_flip=True,\n",
    "                                  validation_split=0.2)"
   ]
  },
  {
   "cell_type": "code",
   "execution_count": 8,
   "metadata": {},
   "outputs": [
    {
     "name": "stdout",
     "output_type": "stream",
     "text": [
      "Found 6404 images belonging to 2 classes.\n",
      "Found 1601 images belonging to 2 classes.\n"
     ]
    }
   ],
   "source": [
    "train_generator = train_datagen.flow_from_directory(train_dir,\n",
    "                                                    target_size=(150,150),\n",
    "                                                    batch_size=32,\n",
    "                                                    class_mode='binary',\n",
    "                                                    subset='training')\n",
    "\n",
    "validation_generator = train_datagen.flow_from_directory(train_dir,\n",
    "                                                        target_size=(150,150),\n",
    "                                                        batch_size=32,\n",
    "                                                        class_mode='binary',\n",
    "                                                        subset='validation')"
   ]
  },
  {
   "cell_type": "markdown",
   "metadata": {},
   "source": [
    "## Model Building"
   ]
  },
  {
   "cell_type": "code",
   "execution_count": 9,
   "metadata": {},
   "outputs": [],
   "source": [
    "model = models.Sequential([\n",
    "                           layers.Conv2D(32, (3,3), activation='relu', input_shape=(150, 150, 3)),\n",
    "                           layers.Conv2D(64, (3,3), activation='relu', padding='same'),\n",
    "                           layers.MaxPooling2D((2,2)),\n",
    "\n",
    "                           layers.Conv2D(64, (3,3), activation='relu', padding='same'),\n",
    "                           layers.Conv2D(128, (3,3), activation='relu', padding='same'),\n",
    "                           layers.MaxPooling2D((2,2)),\n",
    "\n",
    "                           layers.Conv2D(128, (3,3), activation='relu', padding='same'),\n",
    "                           layers.MaxPooling2D((2,2)),\n",
    "\n",
    "                           layers.Dropout((0.3)),\n",
    "                           layers.Flatten(),\n",
    "\n",
    "                           layers.Dense(512, activation='relu'),\n",
    "                           layers.Dense(1, activation='sigmoid')\n",
    "\n",
    "\n",
    "])"
   ]
  },
  {
   "cell_type": "code",
   "execution_count": 10,
   "metadata": {},
   "outputs": [
    {
     "name": "stdout",
     "output_type": "stream",
     "text": [
      "Model: \"sequential\"\n",
      "_________________________________________________________________\n",
      "Layer (type)                 Output Shape              Param #   \n",
      "=================================================================\n",
      "conv2d (Conv2D)              (None, 148, 148, 32)      896       \n",
      "_________________________________________________________________\n",
      "conv2d_1 (Conv2D)            (None, 148, 148, 64)      18496     \n",
      "_________________________________________________________________\n",
      "max_pooling2d (MaxPooling2D) (None, 74, 74, 64)        0         \n",
      "_________________________________________________________________\n",
      "conv2d_2 (Conv2D)            (None, 74, 74, 64)        36928     \n",
      "_________________________________________________________________\n",
      "conv2d_3 (Conv2D)            (None, 74, 74, 128)       73856     \n",
      "_________________________________________________________________\n",
      "max_pooling2d_1 (MaxPooling2 (None, 37, 37, 128)       0         \n",
      "_________________________________________________________________\n",
      "conv2d_4 (Conv2D)            (None, 37, 37, 128)       147584    \n",
      "_________________________________________________________________\n",
      "max_pooling2d_2 (MaxPooling2 (None, 18, 18, 128)       0         \n",
      "_________________________________________________________________\n",
      "dropout (Dropout)            (None, 18, 18, 128)       0         \n",
      "_________________________________________________________________\n",
      "flatten (Flatten)            (None, 41472)             0         \n",
      "_________________________________________________________________\n",
      "dense (Dense)                (None, 512)               21234176  \n",
      "_________________________________________________________________\n",
      "dense_1 (Dense)              (None, 1)                 513       \n",
      "=================================================================\n",
      "Total params: 21,512,449\n",
      "Trainable params: 21,512,449\n",
      "Non-trainable params: 0\n",
      "_________________________________________________________________\n"
     ]
    }
   ],
   "source": [
    "model.summary()"
   ]
  },
  {
   "cell_type": "code",
   "execution_count": 11,
   "metadata": {},
   "outputs": [],
   "source": [
    "model.compile(tf.keras.optimizers.Adam(learning_rate=2e-5),\n",
    "              tf.keras.losses.binary_crossentropy,\n",
    "              metrics=['accuracy'])"
   ]
  },
  {
   "cell_type": "code",
   "execution_count": 12,
   "metadata": {},
   "outputs": [],
   "source": [
    "callback = tf.keras.callbacks.EarlyStopping(monitor='loss', patience=3)"
   ]
  },
  {
   "cell_type": "markdown",
   "metadata": {},
   "source": [
    "## Training"
   ]
  },
  {
   "cell_type": "code",
   "execution_count": 13,
   "metadata": {},
   "outputs": [
    {
     "name": "stdout",
     "output_type": "stream",
     "text": [
      "Epoch 1/20\n",
      "201/201 [==============================] - 102s 490ms/step - loss: 0.6903 - accuracy: 0.5268 - val_loss: 0.6711 - val_accuracy: 0.5959\n",
      "Epoch 2/20\n",
      "201/201 [==============================] - 57s 285ms/step - loss: 0.6638 - accuracy: 0.5969 - val_loss: 0.6481 - val_accuracy: 0.6196\n",
      "Epoch 3/20\n",
      "201/201 [==============================] - 57s 284ms/step - loss: 0.6335 - accuracy: 0.6409 - val_loss: 0.6298 - val_accuracy: 0.6433\n",
      "Epoch 4/20\n",
      "201/201 [==============================] - 57s 283ms/step - loss: 0.6226 - accuracy: 0.6481 - val_loss: 0.6309 - val_accuracy: 0.6327\n",
      "Epoch 5/20\n",
      "201/201 [==============================] - 57s 286ms/step - loss: 0.6136 - accuracy: 0.6588 - val_loss: 0.6459 - val_accuracy: 0.6252\n",
      "Epoch 6/20\n",
      "201/201 [==============================] - 58s 287ms/step - loss: 0.5919 - accuracy: 0.6803 - val_loss: 0.6041 - val_accuracy: 0.6752\n",
      "Epoch 7/20\n",
      "201/201 [==============================] - 57s 283ms/step - loss: 0.5856 - accuracy: 0.6884 - val_loss: 0.5930 - val_accuracy: 0.6652\n",
      "Epoch 8/20\n",
      "201/201 [==============================] - 57s 285ms/step - loss: 0.5862 - accuracy: 0.6790 - val_loss: 0.5812 - val_accuracy: 0.6864\n",
      "Epoch 9/20\n",
      "201/201 [==============================] - 57s 284ms/step - loss: 0.5721 - accuracy: 0.6936 - val_loss: 0.5711 - val_accuracy: 0.6933\n",
      "Epoch 10/20\n",
      "201/201 [==============================] - 57s 285ms/step - loss: 0.5676 - accuracy: 0.7042 - val_loss: 0.6083 - val_accuracy: 0.6527\n",
      "Epoch 11/20\n",
      "201/201 [==============================] - 57s 283ms/step - loss: 0.5668 - accuracy: 0.6962 - val_loss: 0.5571 - val_accuracy: 0.7139\n",
      "Epoch 12/20\n",
      "201/201 [==============================] - 58s 289ms/step - loss: 0.5537 - accuracy: 0.7095 - val_loss: 0.5616 - val_accuracy: 0.7146\n",
      "Epoch 13/20\n",
      "201/201 [==============================] - 58s 287ms/step - loss: 0.5581 - accuracy: 0.7107 - val_loss: 0.5538 - val_accuracy: 0.7252\n",
      "Epoch 14/20\n",
      "201/201 [==============================] - 57s 283ms/step - loss: 0.5424 - accuracy: 0.7314 - val_loss: 0.5460 - val_accuracy: 0.7127\n",
      "Epoch 15/20\n",
      "201/201 [==============================] - 58s 288ms/step - loss: 0.5449 - accuracy: 0.7217 - val_loss: 0.5367 - val_accuracy: 0.7227\n",
      "Epoch 16/20\n",
      "201/201 [==============================] - 58s 286ms/step - loss: 0.5255 - accuracy: 0.7377 - val_loss: 0.5391 - val_accuracy: 0.7220\n",
      "Epoch 17/20\n",
      "201/201 [==============================] - 57s 284ms/step - loss: 0.5346 - accuracy: 0.7274 - val_loss: 0.5377 - val_accuracy: 0.7264\n",
      "Epoch 18/20\n",
      "201/201 [==============================] - 58s 290ms/step - loss: 0.5335 - accuracy: 0.7269 - val_loss: 0.5754 - val_accuracy: 0.6921\n",
      "Epoch 19/20\n",
      "201/201 [==============================] - 58s 287ms/step - loss: 0.5262 - accuracy: 0.7441 - val_loss: 0.5419 - val_accuracy: 0.7196\n",
      "Epoch 20/20\n",
      "201/201 [==============================] - 58s 287ms/step - loss: 0.5259 - accuracy: 0.7306 - val_loss: 0.5330 - val_accuracy: 0.7345\n"
     ]
    }
   ],
   "source": [
    "history = model.fit(train_generator,\n",
    "                             steps_per_epoch=201,\n",
    "                             epochs=20,\n",
    "                             validation_data=validation_generator,\n",
    "                            validation_steps=51,\n",
    "                           callbacks=[callback])\n",
    "\n",
    "model.save('cat-vs-dog.h5')"
   ]
  },
  {
   "cell_type": "code",
   "execution_count": 14,
   "metadata": {},
   "outputs": [
    {
     "data": {
      "text/plain": [
       "{'loss': [0.6871479153633118,\n",
       "  0.6596415042877197,\n",
       "  0.6331648230552673,\n",
       "  0.6185855269432068,\n",
       "  0.6061469316482544,\n",
       "  0.5977440476417542,\n",
       "  0.58946692943573,\n",
       "  0.5793599486351013,\n",
       "  0.5750685334205627,\n",
       "  0.5714418888092041,\n",
       "  0.5680018663406372,\n",
       "  0.5571969747543335,\n",
       "  0.5551638007164001,\n",
       "  0.5497658848762512,\n",
       "  0.5413572788238525,\n",
       "  0.5345174074172974,\n",
       "  0.531734824180603,\n",
       "  0.5322992205619812,\n",
       "  0.5246546864509583,\n",
       "  0.5233395099639893],\n",
       " 'accuracy': [0.5398188829421997,\n",
       "  0.5985321402549744,\n",
       "  0.6363210678100586,\n",
       "  0.6530293822288513,\n",
       "  0.6677076816558838,\n",
       "  0.6764522194862366,\n",
       "  0.684572160243988,\n",
       "  0.6931605339050293,\n",
       "  0.6945658922195435,\n",
       "  0.701592743396759,\n",
       "  0.699094295501709,\n",
       "  0.7111180424690247,\n",
       "  0.7114303708076477,\n",
       "  0.7234541177749634,\n",
       "  0.7240787148475647,\n",
       "  0.7282947897911072,\n",
       "  0.7312617301940918,\n",
       "  0.7276701927185059,\n",
       "  0.7404747009277344,\n",
       "  0.7346970438957214],\n",
       " 'val_loss': [0.6710559129714966,\n",
       "  0.648105800151825,\n",
       "  0.6297796368598938,\n",
       "  0.6308901309967041,\n",
       "  0.6458559632301331,\n",
       "  0.6041175723075867,\n",
       "  0.59299635887146,\n",
       "  0.581188440322876,\n",
       "  0.5710507035255432,\n",
       "  0.608284592628479,\n",
       "  0.5571193099021912,\n",
       "  0.5616286396980286,\n",
       "  0.5537853837013245,\n",
       "  0.5460211634635925,\n",
       "  0.5367466807365417,\n",
       "  0.5390539765357971,\n",
       "  0.5377203226089478,\n",
       "  0.5753928422927856,\n",
       "  0.5419140458106995,\n",
       "  0.5330281257629395],\n",
       " 'val_accuracy': [0.5958775877952576,\n",
       "  0.6196127533912659,\n",
       "  0.6433479189872742,\n",
       "  0.6327295303344727,\n",
       "  0.6252342462539673,\n",
       "  0.6752030253410339,\n",
       "  0.6652092337608337,\n",
       "  0.686445951461792,\n",
       "  0.6933166980743408,\n",
       "  0.6527170538902283,\n",
       "  0.7139288187026978,\n",
       "  0.7145534157752991,\n",
       "  0.7251717448234558,\n",
       "  0.7126795649528503,\n",
       "  0.7226733565330505,\n",
       "  0.7220486998558044,\n",
       "  0.7264209985733032,\n",
       "  0.6920674443244934,\n",
       "  0.7195502519607544,\n",
       "  0.7345409393310547]}"
      ]
     },
     "execution_count": 14,
     "metadata": {},
     "output_type": "execute_result"
    }
   ],
   "source": [
    "history.history"
   ]
  },
  {
   "cell_type": "markdown",
   "metadata": {},
   "source": [
    "## Results"
   ]
  },
  {
   "cell_type": "code",
   "execution_count": 15,
   "metadata": {},
   "outputs": [],
   "source": [
    "acc = history.history['accuracy']\n",
    "val_acc = history.history['val_accuracy']\n",
    "loss = history.history['loss']\n",
    "val_loss = history.history['val_loss']\n",
    "\n",
    "epochs = range(1, len(acc) + 1)"
   ]
  },
  {
   "cell_type": "code",
   "execution_count": 16,
   "metadata": {},
   "outputs": [
    {
     "name": "stdout",
     "output_type": "stream",
     "text": [
      "Training Accuracy : 0.6888663351535798\n",
      "Training Loss : 0.5767899751663208\n",
      "Validation Accuracy : 0.6836664617061615\n",
      "Validation Loss : 0.5832867801189423\n"
     ]
    }
   ],
   "source": [
    "print(f'Training Accuracy : {sum(acc)/len(acc)}')\n",
    "print(f'Training Loss : {sum(loss)/len(loss)}')\n",
    "print(f'Validation Accuracy : {sum(val_acc)/len(val_acc)}')\n",
    "print(f'Validation Loss : {sum(val_loss)/len(val_loss)}')"
   ]
  },
  {
   "cell_type": "code",
   "execution_count": 17,
   "metadata": {},
   "outputs": [
    {
     "name": "stdout",
     "output_type": "stream",
     "text": [
      "Found 2023 images belonging to 2 classes.\n"
     ]
    }
   ],
   "source": [
    "test_datagen = ImageDataGenerator(rescale=1./255)\n",
    "\n",
    "test_generator = test_datagen.flow_from_directory(test_dir,\n",
    "                                                    target_size=(150,150),\n",
    "                                                    batch_size=32,\n",
    "                                                    class_mode='binary',\n",
    ")"
   ]
  },
  {
   "cell_type": "code",
   "execution_count": 18,
   "metadata": {},
   "outputs": [
    {
     "name": "stdout",
     "output_type": "stream",
     "text": [
      "64/64 [==============================] - 17s 266ms/step - loss: 0.4962 - accuracy: 0.7568\n",
      "Test Loss : 0.4962162673473358 \n",
      " Test Accuracy : 0.7567968368530273\n"
     ]
    }
   ],
   "source": [
    "test_loss, test_acc = model.evaluate(test_generator)\n",
    "print(f\"Test Loss : {test_loss} \\n Test Accuracy : {test_acc}\")"
   ]
  },
  {
   "cell_type": "code",
   "execution_count": 19,
   "metadata": {},
   "outputs": [
    {
     "data": {
      "image/png": "[encoded data removed]",
      "text/plain": [
       "<Figure size 432x288 with 1 Axes>"
      ]
     },
     "metadata": {
      "needs_background": "light"
     },
     "output_type": "display_data"
    },
    {
     "data": {
      "image/png": "[encoded data removed]",
      "text/plain": [
       "<Figure size 432x288 with 1 Axes>"
      ]
     },
     "metadata": {
      "needs_background": "light"
     },
     "output_type": "display_data"
    }
   ],
   "source": [
    "plt.plot(epochs, acc, 'bo', label='Training Accuracy')\n",
    "plt.plot(epochs, val_acc, 'ro', label='Validation Accuracy')\n",
    "plt.title('Training & Validation Accuracy')\n",
    "plt.legend()\n",
    "\n",
    "plt.figure()\n",
    "\n",
    "plt.plot(epochs, loss, 'bo', label='Training Loss')\n",
    "plt.plot(epochs, val_loss, 'ro', label='Validation Loss')\n",
    "plt.title('Training & Validation Loss')\n",
    "plt.legend()\n",
    "\n",
    "plt.show() "
   ]
  }
 ],
 "metadata": {
  "kernelspec": {
   "display_name": "Python 3",
   "language": "python",
   "name": "python3"
  },
  "language_info": {
   "codemirror_mode": {
    "name": "ipython",
    "version": 3
   },
   "file_extension": ".py",
   "mimetype": "text/x-python",
   "name": "python",
   "nbconvert_exporter": "python",
   "pygments_lexer": "ipython3",
   "version": "3.7.10"
  }
 },
 "nbformat": 4,
 "nbformat_minor": 4
}
