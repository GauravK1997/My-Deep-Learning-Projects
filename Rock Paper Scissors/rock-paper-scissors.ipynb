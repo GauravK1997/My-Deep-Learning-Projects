{
 "cells": [
  {
   "cell_type": "markdown",
   "metadata": {},
   "source": [
    "# Problem Statement : (Multi-class Classification)\n",
    "\n",
    "## Create a Neural Network model to predict whether a given image belongs to either \n",
    "## Rock, Paper or Scissors category"
   ]
  },
  {
   "cell_type": "markdown",
   "metadata": {},
   "source": [
    "## Importing the required libraries"
   ]
  },
  {
   "cell_type": "code",
   "execution_count": 2,
   "metadata": {},
   "outputs": [],
   "source": [
    "import os\n",
    "import matplotlib.pyplot as plt\n",
    "import tensorflow as tf\n",
    "from tensorflow import keras\n",
    "from tensorflow.keras import models\n",
    "from tensorflow.keras import layers\n",
    "from tensorflow.keras.preprocessing.image import ImageDataGenerator"
   ]
  },
  {
   "cell_type": "code",
   "execution_count": 3,
   "metadata": {},
   "outputs": [
    {
     "name": "stdout",
     "output_type": "stream",
     "text": [
      "['rock-paper-scissors-dataset']\n"
     ]
    }
   ],
   "source": [
    "print(os.listdir(\"../input\"))"
   ]
  },
  {
   "cell_type": "code",
   "execution_count": 4,
   "metadata": {},
   "outputs": [
    {
     "name": "stdout",
     "output_type": "stream",
     "text": [
      "['validation', 'test', 'train']\n"
     ]
    }
   ],
   "source": [
    "print(os.listdir('../input/rock-paper-scissors-dataset/rock-paper-scissors/Rock-Paper-Scissors/'))"
   ]
  },
  {
   "cell_type": "markdown",
   "metadata": {},
   "source": [
    "## Paths for Train & Test directories"
   ]
  },
  {
   "cell_type": "code",
   "execution_count": 5,
   "metadata": {},
   "outputs": [],
   "source": [
    "train_dir = '../input/rock-paper-scissors-dataset/rock-paper-scissors/Rock-Paper-Scissors/train/'\n",
    "test_dir = '../input/rock-paper-scissors-dataset/rock-paper-scissors/Rock-Paper-Scissors/test/'"
   ]
  },
  {
   "cell_type": "markdown",
   "metadata": {},
   "source": [
    "## Generating extra data from the existing data by using Data Augmentation"
   ]
  },
  {
   "cell_type": "code",
   "execution_count": 6,
   "metadata": {},
   "outputs": [],
   "source": [
    "train_datagen = ImageDataGenerator(rescale=1./255,\n",
    "                                   rotation_range=40,\n",
    "                                   width_shift_range=0.2,\n",
    "                                   height_shift_range=0.2,\n",
    "                                   shear_range=0.2,\n",
    "                                   zoom_range=0.2,\n",
    "                                   horizontal_flip=True,\n",
    "                                  validation_split=0.2)\n",
    "\n",
    "test_datagen = ImageDataGenerator(rescale=1./255)"
   ]
  },
  {
   "cell_type": "code",
   "execution_count": 7,
   "metadata": {},
   "outputs": [
    {
     "name": "stdout",
     "output_type": "stream",
     "text": [
      "Found 2016 images belonging to 3 classes.\n",
      "Found 504 images belonging to 3 classes.\n"
     ]
    }
   ],
   "source": [
    "train_generator = train_datagen.flow_from_directory(train_dir,\n",
    "                                                    target_size=(150,150),\n",
    "                                                    batch_size=16,\n",
    "                                                    class_mode='categorical',\n",
    "                                                    subset='training')\n",
    "\n",
    "validation_generator = train_datagen.flow_from_directory(train_dir,\n",
    "                                                        target_size=(150,150),\n",
    "                                                        batch_size=16,\n",
    "                                                        class_mode='categorical',\n",
    "                                                        subset='validation')"
   ]
  },
  {
   "cell_type": "markdown",
   "metadata": {},
   "source": [
    "## Model Building"
   ]
  },
  {
   "cell_type": "code",
   "execution_count": 8,
   "metadata": {},
   "outputs": [],
   "source": [
    "model = models.Sequential([\n",
    "                           layers.Conv2D(32, (3,3), activation='relu', input_shape=(150, 150, 3)),\n",
    "                           layers.Conv2D(64, (3,3), activation='relu', padding='same'),\n",
    "                           layers.MaxPooling2D((2,2)),\n",
    "\n",
    "                           layers.Conv2D(64, (3,3), activation='relu', padding='same'),\n",
    "                           layers.Conv2D(128, (3,3), activation='relu', padding='same'),\n",
    "                           layers.MaxPooling2D((2,2)),\n",
    "\n",
    "                           layers.Conv2D(128, (3,3), activation='relu', padding='same'),\n",
    "                           layers.MaxPooling2D((2,2)),\n",
    "\n",
    "                           layers.Dropout((0.3)),\n",
    "                           layers.Flatten(),\n",
    "\n",
    "                           layers.Dense(512, activation='relu'),\n",
    "                           layers.Dense(3, activation='softmax')\n",
    "\n",
    "\n",
    "])"
   ]
  },
  {
   "cell_type": "code",
   "execution_count": 9,
   "metadata": {},
   "outputs": [
    {
     "name": "stdout",
     "output_type": "stream",
     "text": [
      "Model: \"sequential\"\n",
      "_________________________________________________________________\n",
      "Layer (type)                 Output Shape              Param #   \n",
      "=================================================================\n",
      "conv2d (Conv2D)              (None, 148, 148, 32)      896       \n",
      "_________________________________________________________________\n",
      "conv2d_1 (Conv2D)            (None, 148, 148, 64)      18496     \n",
      "_________________________________________________________________\n",
      "max_pooling2d (MaxPooling2D) (None, 74, 74, 64)        0         \n",
      "_________________________________________________________________\n",
      "conv2d_2 (Conv2D)            (None, 74, 74, 64)        36928     \n",
      "_________________________________________________________________\n",
      "conv2d_3 (Conv2D)            (None, 74, 74, 128)       73856     \n",
      "_________________________________________________________________\n",
      "max_pooling2d_1 (MaxPooling2 (None, 37, 37, 128)       0         \n",
      "_________________________________________________________________\n",
      "conv2d_4 (Conv2D)            (None, 37, 37, 128)       147584    \n",
      "_________________________________________________________________\n",
      "max_pooling2d_2 (MaxPooling2 (None, 18, 18, 128)       0         \n",
      "_________________________________________________________________\n",
      "dropout (Dropout)            (None, 18, 18, 128)       0         \n",
      "_________________________________________________________________\n",
      "flatten (Flatten)            (None, 41472)             0         \n",
      "_________________________________________________________________\n",
      "dense (Dense)                (None, 512)               21234176  \n",
      "_________________________________________________________________\n",
      "dense_1 (Dense)              (None, 3)                 1539      \n",
      "=================================================================\n",
      "Total params: 21,513,475\n",
      "Trainable params: 21,513,475\n",
      "Non-trainable params: 0\n",
      "_________________________________________________________________\n"
     ]
    }
   ],
   "source": [
    "model.summary()"
   ]
  },
  {
   "cell_type": "code",
   "execution_count": 10,
   "metadata": {},
   "outputs": [],
   "source": [
    "model.compile(tf.keras.optimizers.Adam(learning_rate=2e-5),\n",
    "              tf.keras.losses.categorical_crossentropy,\n",
    "              metrics=['accuracy'])"
   ]
  },
  {
   "cell_type": "code",
   "execution_count": 11,
   "metadata": {},
   "outputs": [],
   "source": [
    "callback = tf.keras.callbacks.EarlyStopping(monitor='loss', patience=3)"
   ]
  },
  {
   "cell_type": "markdown",
   "metadata": {},
   "source": [
    "## Training"
   ]
  },
  {
   "cell_type": "code",
   "execution_count": 12,
   "metadata": {},
   "outputs": [
    {
     "name": "stdout",
     "output_type": "stream",
     "text": [
      "Epoch 1/20\n",
      "126/126 [==============================] - 43s 299ms/step - loss: 1.1042 - accuracy: 0.3355 - val_loss: 1.0922 - val_accuracy: 0.3512\n",
      "Epoch 2/20\n",
      "126/126 [==============================] - 27s 210ms/step - loss: 1.0542 - accuracy: 0.4641 - val_loss: 0.9433 - val_accuracy: 0.6032\n",
      "Epoch 3/20\n",
      "126/126 [==============================] - 26s 209ms/step - loss: 0.8935 - accuracy: 0.5719 - val_loss: 0.8618 - val_accuracy: 0.5556\n",
      "Epoch 4/20\n",
      "126/126 [==============================] - 26s 207ms/step - loss: 0.7024 - accuracy: 0.6995 - val_loss: 0.7564 - val_accuracy: 0.6845\n",
      "Epoch 5/20\n",
      "126/126 [==============================] - 26s 209ms/step - loss: 0.6013 - accuracy: 0.7519 - val_loss: 0.7226 - val_accuracy: 0.6528\n",
      "Epoch 6/20\n",
      "126/126 [==============================] - 26s 208ms/step - loss: 0.4859 - accuracy: 0.8373 - val_loss: 0.7001 - val_accuracy: 0.7262\n",
      "Epoch 7/20\n",
      "126/126 [==============================] - 26s 207ms/step - loss: 0.4045 - accuracy: 0.8615 - val_loss: 0.5947 - val_accuracy: 0.7659\n",
      "Epoch 8/20\n",
      "126/126 [==============================] - 26s 207ms/step - loss: 0.3514 - accuracy: 0.8858 - val_loss: 0.6676 - val_accuracy: 0.7956\n",
      "Epoch 9/20\n",
      "126/126 [==============================] - 26s 207ms/step - loss: 0.3212 - accuracy: 0.8850 - val_loss: 0.5796 - val_accuracy: 0.7480\n",
      "Epoch 10/20\n",
      "126/126 [==============================] - 26s 206ms/step - loss: 0.3037 - accuracy: 0.9031 - val_loss: 0.6224 - val_accuracy: 0.7758\n",
      "Epoch 11/20\n",
      "126/126 [==============================] - 26s 209ms/step - loss: 0.2619 - accuracy: 0.9135 - val_loss: 0.5588 - val_accuracy: 0.7817\n",
      "Epoch 12/20\n",
      "126/126 [==============================] - 26s 207ms/step - loss: 0.2563 - accuracy: 0.9179 - val_loss: 0.5280 - val_accuracy: 0.7877\n",
      "Epoch 13/20\n",
      "126/126 [==============================] - 26s 209ms/step - loss: 0.2113 - accuracy: 0.9344 - val_loss: 0.5577 - val_accuracy: 0.7897\n",
      "Epoch 14/20\n",
      "126/126 [==============================] - 26s 204ms/step - loss: 0.1946 - accuracy: 0.9341 - val_loss: 0.5082 - val_accuracy: 0.8214\n",
      "Epoch 15/20\n",
      "126/126 [==============================] - 26s 208ms/step - loss: 0.1821 - accuracy: 0.9479 - val_loss: 0.5039 - val_accuracy: 0.8274\n",
      "Epoch 16/20\n",
      "126/126 [==============================] - 26s 209ms/step - loss: 0.1696 - accuracy: 0.9527 - val_loss: 0.5837 - val_accuracy: 0.7857\n",
      "Epoch 17/20\n",
      "126/126 [==============================] - 26s 207ms/step - loss: 0.1815 - accuracy: 0.9380 - val_loss: 0.5195 - val_accuracy: 0.8254\n",
      "Epoch 18/20\n",
      "126/126 [==============================] - 26s 208ms/step - loss: 0.1406 - accuracy: 0.9542 - val_loss: 0.5415 - val_accuracy: 0.8155\n",
      "Epoch 19/20\n",
      "126/126 [==============================] - 26s 205ms/step - loss: 0.1567 - accuracy: 0.9577 - val_loss: 0.5439 - val_accuracy: 0.8155\n",
      "Epoch 20/20\n",
      "126/126 [==============================] - 26s 207ms/step - loss: 0.1626 - accuracy: 0.9460 - val_loss: 0.5203 - val_accuracy: 0.8274\n"
     ]
    }
   ],
   "source": [
    "history = model.fit(train_generator,\n",
    "                             steps_per_epoch=126,\n",
    "                             epochs=20,\n",
    "                             validation_data=validation_generator,\n",
    "                            validation_steps=32,\n",
    "                           callbacks=[callback])\n",
    "\n",
    "model.save('rock_paper_scissor.h5')"
   ]
  },
  {
   "cell_type": "code",
   "execution_count": 13,
   "metadata": {},
   "outputs": [
    {
     "data": {
      "text/plain": [
       "{'loss': [1.0950727462768555,\n",
       "  1.0158456563949585,\n",
       "  0.8357805609703064,\n",
       "  0.6719156503677368,\n",
       "  0.5547009706497192,\n",
       "  0.449038028717041,\n",
       "  0.3758912980556488,\n",
       "  0.3492066562175751,\n",
       "  0.3057155907154083,\n",
       "  0.30159440636634827,\n",
       "  0.24081164598464966,\n",
       "  0.24415351450443268,\n",
       "  0.2135663777589798,\n",
       "  0.1942499279975891,\n",
       "  0.1877996325492859,\n",
       "  0.1617664247751236,\n",
       "  0.16629764437675476,\n",
       "  0.14928553998470306,\n",
       "  0.16686856746673584,\n",
       "  0.1395723968744278],\n",
       " 'accuracy': [0.3586309552192688,\n",
       "  0.5183531641960144,\n",
       "  0.620039701461792,\n",
       "  0.7167658805847168,\n",
       "  0.7822420597076416,\n",
       "  0.8422619104385376,\n",
       "  0.877480149269104,\n",
       "  0.8839285969734192,\n",
       "  0.8958333134651184,\n",
       "  0.9042658805847168,\n",
       "  0.9226190447807312,\n",
       "  0.918154776096344,\n",
       "  0.9340277910232544,\n",
       "  0.9389880895614624,\n",
       "  0.9459325671195984,\n",
       "  0.9528769850730896,\n",
       "  0.94692462682724,\n",
       "  0.951884925365448,\n",
       "  0.9528769850730896,\n",
       "  0.9538690447807312],\n",
       " 'val_loss': [1.092221736907959,\n",
       "  0.943283200263977,\n",
       "  0.8618345856666565,\n",
       "  0.756372332572937,\n",
       "  0.7226167321205139,\n",
       "  0.700071394443512,\n",
       "  0.594676673412323,\n",
       "  0.6675752401351929,\n",
       "  0.5796162486076355,\n",
       "  0.6223568320274353,\n",
       "  0.5588355660438538,\n",
       "  0.5280224084854126,\n",
       "  0.5577380657196045,\n",
       "  0.5082199573516846,\n",
       "  0.5039036273956299,\n",
       "  0.5837280750274658,\n",
       "  0.5194866061210632,\n",
       "  0.541474461555481,\n",
       "  0.5438848733901978,\n",
       "  0.5202768445014954],\n",
       " 'val_accuracy': [0.3511904776096344,\n",
       "  0.60317462682724,\n",
       "  0.5555555820465088,\n",
       "  0.6845238208770752,\n",
       "  0.6527777910232544,\n",
       "  0.726190447807312,\n",
       "  0.7658730149269104,\n",
       "  0.795634925365448,\n",
       "  0.7480158805847168,\n",
       "  0.7757936716079712,\n",
       "  0.7817460298538208,\n",
       "  0.7876983880996704,\n",
       "  0.7896825671195984,\n",
       "  0.8214285969734192,\n",
       "  0.8273809552192688,\n",
       "  0.7857142686843872,\n",
       "  0.8253968358039856,\n",
       "  0.8154761791229248,\n",
       "  0.8154761791229248,\n",
       "  0.8273809552192688]}"
      ]
     },
     "execution_count": 13,
     "metadata": {},
     "output_type": "execute_result"
    }
   ],
   "source": [
    "history.history"
   ]
  },
  {
   "cell_type": "markdown",
   "metadata": {},
   "source": [
    "## Results"
   ]
  },
  {
   "cell_type": "code",
   "execution_count": 14,
   "metadata": {},
   "outputs": [],
   "source": [
    "acc = history.history['accuracy']\n",
    "val_acc = history.history['val_accuracy']\n",
    "loss = history.history['loss']\n",
    "val_loss = history.history['val_loss']\n",
    "\n",
    "epochs = range(1, len(acc) + 1)"
   ]
  },
  {
   "cell_type": "code",
   "execution_count": 15,
   "metadata": {},
   "outputs": [
    {
     "name": "stdout",
     "output_type": "stream",
     "text": [
      "Training Accuracy : 0.8408978223800659\n",
      "Training Loss : 0.390956661850214\n",
      "\n",
      " Validation Accuracy : 0.736805559694767\n",
      "Validation Loss : 0.6453097730875015\n"
     ]
    }
   ],
   "source": [
    "print(f'Training Accuracy : {sum(acc)/len(acc)}')\n",
    "print(f'Training Loss : {sum(loss)/len(loss)}')\n",
    "print(f'\\n Validation Accuracy : {sum(val_acc)/len(val_acc)}')\n",
    "print(f'Validation Loss : {sum(val_loss)/len(val_loss)}')"
   ]
  },
  {
   "cell_type": "code",
   "execution_count": 16,
   "metadata": {},
   "outputs": [
    {
     "name": "stdout",
     "output_type": "stream",
     "text": [
      "Found 372 images belonging to 3 classes.\n"
     ]
    }
   ],
   "source": [
    "test_generator = test_datagen.flow_from_directory(test_dir,\n",
    "                                                    target_size=(150,150),\n",
    "                                                    batch_size=16,\n",
    "                                                    class_mode='categorical',\n",
    ")"
   ]
  },
  {
   "cell_type": "code",
   "execution_count": 17,
   "metadata": {},
   "outputs": [
    {
     "name": "stdout",
     "output_type": "stream",
     "text": [
      "24/24 [==============================] - 4s 155ms/step - loss: 0.1257 - accuracy: 0.9570\n",
      "Test Loss : 0.12571489810943604 \n",
      " Test Accuracy : 0.9569892287254333\n"
     ]
    }
   ],
   "source": [
    "test_loss, test_acc = model.evaluate(test_generator)\n",
    "print(f\"Test Loss : {test_loss} \\n Test Accuracy : {test_acc}\")"
   ]
  },
  {
   "cell_type": "code",
   "execution_count": 18,
   "metadata": {},
   "outputs": [
    {
     "data": {
      "image/png": "[encoded data removed]",
      "text/plain": [
       "<Figure size 432x288 with 1 Axes>"
      ]
     },
     "metadata": {
      "needs_background": "light"
     },
     "output_type": "display_data"
    },
    {
     "data": {
      "image/png": "[encoded data removed]",
      "text/plain": [
       "<Figure size 432x288 with 1 Axes>"
      ]
     },
     "metadata": {
      "needs_background": "light"
     },
     "output_type": "display_data"
    }
   ],
   "source": [
    "plt.plot(epochs, acc, 'bo', label='Training Accuracy')\n",
    "plt.plot(epochs, val_acc, 'ro', label='Validation Accuracy')\n",
    "plt.title('Training & Validation Accuracy')\n",
    "plt.legend()\n",
    "\n",
    "plt.figure()\n",
    "\n",
    "plt.plot(epochs, loss, 'bo', label='Training Loss')\n",
    "plt.plot(epochs, val_loss, 'ro', label='Validation Loss')\n",
    "plt.title('Training & Validation Loss')\n",
    "plt.legend()\n",
    "\n",
    "plt.show()"
   ]
  }
 ],
 "metadata": {
  "kernelspec": {
   "display_name": "Python 3",
   "language": "python",
   "name": "python3"
  },
  "language_info": {
   "codemirror_mode": {
    "name": "ipython",
    "version": 3
   },
   "file_extension": ".py",
   "mimetype": "text/x-python",
   "name": "python",
   "nbconvert_exporter": "python",
   "pygments_lexer": "ipython3",
   "version": "3.7.10"
  }
 },
 "nbformat": 4,
 "nbformat_minor": 4
}
