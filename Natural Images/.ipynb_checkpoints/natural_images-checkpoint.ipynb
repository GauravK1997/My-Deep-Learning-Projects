{
 "cells": [
  {
   "cell_type": "markdown",
   "metadata": {},
   "source": [
    "# Problem Statement : (Multi-class Classification)\n",
    "\n",
    "## Create a Neural Network model to predict the class of a given image from the \n",
    "## following 8 classes : airplane, car, cat, dog, flower, fruit, motorbike, person"
   ]
  },
  {
   "cell_type": "markdown",
   "metadata": {
    "id": "NrWfUaHjzlUH"
   },
   "source": [
    "## Importing the required libraries"
   ]
  },
  {
   "cell_type": "code",
   "execution_count": 26,
   "metadata": {
    "id": "167fQmXzu2qf"
   },
   "outputs": [],
   "source": [
    "import tensorflow as tf\n",
    "from tensorflow import keras\n",
    "from tensorflow.keras import models\n",
    "from tensorflow.keras import layers\n",
    "from tensorflow.keras.preprocessing.image import ImageDataGenerator\n",
    "from tensorflow.keras.applications.vgg19 import VGG19\n",
    "import matplotlib.pyplot as plt"
   ]
  },
  {
   "cell_type": "markdown",
   "metadata": {
    "id": "NQX19McCzp92"
   },
   "source": [
    "## Path for the Image directory"
   ]
  },
  {
   "cell_type": "code",
   "execution_count": 10,
   "metadata": {
    "id": "j4lCs2Lmu2eY"
   },
   "outputs": [],
   "source": [
    "img_dir = '/content/gdrive/MyDrive/kaggle_datasets/natural-images/data/natural_images'"
   ]
  },
  {
   "cell_type": "markdown",
   "metadata": {
    "id": "G4E8ovcXzuga"
   },
   "source": [
    "## Generating extra data from the existing data by using Data Augmentation"
   ]
  },
  {
   "cell_type": "code",
   "execution_count": 11,
   "metadata": {
    "id": "OmWjTUSHu2db"
   },
   "outputs": [],
   "source": [
    "train_datagen = ImageDataGenerator(rescale=1./255,\n",
    "                                   rotation_range=40,\n",
    "                                   width_shift_range=0.2,\n",
    "                                   height_shift_range=0.2,\n",
    "                                   shear_range=0.2,\n",
    "                                   zoom_range=0.2,\n",
    "                                   horizontal_flip=True,\n",
    "                                   validation_split=0.3)"
   ]
  },
  {
   "cell_type": "code",
   "execution_count": 12,
   "metadata": {
    "colab": {
     "base_uri": "https://localhost:8080/"
    },
    "id": "aZ-n_xtEu2YW",
    "outputId": "e2174433-b352-4fb5-8fde-29ed1c655cad"
   },
   "outputs": [
    {
     "name": "stdout",
     "output_type": "stream",
     "text": [
      "Found 3824 images belonging to 8 classes.\n",
      "Found 1634 images belonging to 8 classes.\n"
     ]
    }
   ],
   "source": [
    "train_generator = train_datagen.flow_from_directory(img_dir,\n",
    "                                                    target_size=(150,150),\n",
    "                                                    batch_size=16,\n",
    "                                                    class_mode='categorical',\n",
    "                                                    subset='training')\n",
    "\n",
    "validation_generator = train_datagen.flow_from_directory(img_dir,\n",
    "                                                        target_size=(150,150),\n",
    "                                                        batch_size=16,\n",
    "                                                        class_mode='categorical',\n",
    "                                                        subset='validation')"
   ]
  },
  {
   "cell_type": "markdown",
   "metadata": {
    "id": "lSTBEXPa3tsp"
   },
   "source": [
    "## Model Building : Transfer Learning (VGG19)"
   ]
  },
  {
   "cell_type": "code",
   "execution_count": null,
   "metadata": {
    "id": "tVOzNSmI33Nh"
   },
   "outputs": [],
   "source": [
    "# Only including the Convolutional layers and ignoring the further Dense layers \n",
    "# (as our application differs from the one the model was trained upon)\n",
    "\n",
    "conv_base = VGG19(include_top=False, input_shape=(150,150,3))"
   ]
  },
  {
   "cell_type": "code",
   "execution_count": null,
   "metadata": {
    "id": "pfeqzZvS329W"
   },
   "outputs": [],
   "source": [
    "# Not training the already trained Convolutional layers from the Pre-trained model\n",
    "for layer in conv_base.layers:\n",
    "    layer.trainable = False"
   ]
  },
  {
   "cell_type": "code",
   "execution_count": 13,
   "metadata": {
    "id": "mAlmQ7aHu2Xx"
   },
   "outputs": [],
   "source": [
    "# Model with Convolutional Base = VGG19 & Classifier = Custom made\n",
    "\n",
    "model = models.Sequential([\n",
    "                           conv_base,\n",
    "                           layers.Flatten(),\n",
    "                           layers.Dropout((0.3)),\n",
    "                           layers.Dense(512, activation='relu'),\n",
    "                           layers.BatchNormalization(),\n",
    "                           layers.Dense(256, activation='relu'),\n",
    "                           layers.Dense(8, activation='softmax')\n",
    "])"
   ]
  },
  {
   "cell_type": "code",
   "execution_count": 14,
   "metadata": {
    "colab": {
     "base_uri": "https://localhost:8080/"
    },
    "id": "byPmAzwCu2S8",
    "outputId": "c962972e-d1f7-4ba2-e2ad-40359ddc295f"
   },
   "outputs": [
    {
     "name": "stdout",
     "output_type": "stream",
     "text": [
      "Model: \"sequential\"\n",
      "_________________________________________________________________\n",
      "Layer (type)                 Output Shape              Param #   \n",
      "=================================================================\n",
      "vgg19 (Functional)           (None, 4, 4, 512)         20024384  \n",
      "_________________________________________________________________\n",
      "flatten (Flatten)            (None, 8192)              0         \n",
      "_________________________________________________________________\n",
      "dropout (Dropout)            (None, 8192)              0         \n",
      "_________________________________________________________________\n",
      "dense (Dense)                (None, 512)               4194816   \n",
      "_________________________________________________________________\n",
      "batch_normalization (BatchNo (None, 512)               2048      \n",
      "_________________________________________________________________\n",
      "dense_1 (Dense)              (None, 256)               131328    \n",
      "_________________________________________________________________\n",
      "dense_2 (Dense)              (None, 8)                 2056      \n",
      "=================================================================\n",
      "Total params: 24,354,632\n",
      "Trainable params: 4,329,224\n",
      "Non-trainable params: 20,025,408\n",
      "_________________________________________________________________\n"
     ]
    }
   ],
   "source": [
    "model.summary()"
   ]
  },
  {
   "cell_type": "code",
   "execution_count": 15,
   "metadata": {
    "id": "-8SivQSMu2SS"
   },
   "outputs": [],
   "source": [
    "model.compile(tf.keras.optimizers.Adam(learning_rate=2e-3),\n",
    "              tf.keras.losses.categorical_crossentropy,\n",
    "              metrics=['accuracy'])"
   ]
  },
  {
   "cell_type": "code",
   "execution_count": 16,
   "metadata": {
    "id": "wLDqjxzzu2Ns"
   },
   "outputs": [],
   "source": [
    "callback = tf.keras.callbacks.EarlyStopping(monitor='loss', patience=3)"
   ]
  },
  {
   "cell_type": "markdown",
   "metadata": {
    "id": "mC9l73xD4Ryb"
   },
   "source": [
    "## Training"
   ]
  },
  {
   "cell_type": "code",
   "execution_count": 18,
   "metadata": {
    "colab": {
     "base_uri": "https://localhost:8080/"
    },
    "id": "ICd8IHoIu2M9",
    "outputId": "a53a14a1-dfba-4038-93a4-3156b7736ebe"
   },
   "outputs": [
    {
     "name": "stdout",
     "output_type": "stream",
     "text": [
      "Epoch 1/30\n",
      "239/239 [==============================] - 1248s 5s/step - loss: 0.5055 - accuracy: 0.8290 - val_loss: 0.3698 - val_accuracy: 0.8831\n",
      "Epoch 2/30\n",
      "239/239 [==============================] - 42s 177ms/step - loss: 0.3223 - accuracy: 0.8889 - val_loss: 0.2930 - val_accuracy: 0.8966\n",
      "Epoch 3/30\n",
      "239/239 [==============================] - 42s 175ms/step - loss: 0.3029 - accuracy: 0.8925 - val_loss: 0.3110 - val_accuracy: 0.8935\n",
      "Epoch 4/30\n",
      "239/239 [==============================] - 42s 176ms/step - loss: 0.2707 - accuracy: 0.9014 - val_loss: 0.3766 - val_accuracy: 0.8666\n",
      "Epoch 5/30\n",
      "239/239 [==============================] - 42s 175ms/step - loss: 0.2470 - accuracy: 0.9100 - val_loss: 0.2740 - val_accuracy: 0.9058\n",
      "Epoch 6/30\n",
      "239/239 [==============================] - 42s 174ms/step - loss: 0.2371 - accuracy: 0.9106 - val_loss: 0.2782 - val_accuracy: 0.9021\n",
      "Epoch 7/30\n",
      "239/239 [==============================] - 42s 174ms/step - loss: 0.2210 - accuracy: 0.9161 - val_loss: 0.2705 - val_accuracy: 0.9027\n",
      "Epoch 8/30\n",
      "239/239 [==============================] - 42s 175ms/step - loss: 0.2356 - accuracy: 0.9100 - val_loss: 0.2970 - val_accuracy: 0.8953\n",
      "Epoch 9/30\n",
      "239/239 [==============================] - 41s 173ms/step - loss: 0.2167 - accuracy: 0.9215 - val_loss: 0.2621 - val_accuracy: 0.9168\n",
      "Epoch 10/30\n",
      "239/239 [==============================] - 41s 174ms/step - loss: 0.2030 - accuracy: 0.9244 - val_loss: 0.2637 - val_accuracy: 0.9143\n",
      "Epoch 11/30\n",
      "239/239 [==============================] - 42s 176ms/step - loss: 0.2022 - accuracy: 0.9247 - val_loss: 0.2153 - val_accuracy: 0.9284\n",
      "Epoch 12/30\n",
      "239/239 [==============================] - 42s 175ms/step - loss: 0.1980 - accuracy: 0.9260 - val_loss: 0.2256 - val_accuracy: 0.9211\n",
      "Epoch 13/30\n",
      "239/239 [==============================] - 42s 175ms/step - loss: 0.1972 - accuracy: 0.9336 - val_loss: 0.2187 - val_accuracy: 0.9302\n",
      "Epoch 14/30\n",
      "239/239 [==============================] - 42s 175ms/step - loss: 0.1803 - accuracy: 0.9312 - val_loss: 0.2131 - val_accuracy: 0.9290\n",
      "Epoch 15/30\n",
      "239/239 [==============================] - 42s 175ms/step - loss: 0.1940 - accuracy: 0.9302 - val_loss: 0.2269 - val_accuracy: 0.9192\n",
      "Epoch 16/30\n",
      "239/239 [==============================] - 41s 173ms/step - loss: 0.1913 - accuracy: 0.9268 - val_loss: 0.1923 - val_accuracy: 0.9388\n",
      "Epoch 17/30\n",
      "239/239 [==============================] - 41s 174ms/step - loss: 0.1739 - accuracy: 0.9349 - val_loss: 0.2312 - val_accuracy: 0.9186\n",
      "Epoch 18/30\n",
      "239/239 [==============================] - 42s 175ms/step - loss: 0.1929 - accuracy: 0.9307 - val_loss: 0.2096 - val_accuracy: 0.9235\n",
      "Epoch 19/30\n",
      "239/239 [==============================] - 42s 175ms/step - loss: 0.1862 - accuracy: 0.9310 - val_loss: 0.1822 - val_accuracy: 0.9315\n",
      "Epoch 20/30\n",
      "239/239 [==============================] - 42s 174ms/step - loss: 0.1776 - accuracy: 0.9320 - val_loss: 0.2596 - val_accuracy: 0.9155\n"
     ]
    }
   ],
   "source": [
    "history = model.fit(train_generator,\n",
    "                             steps_per_epoch=239,\n",
    "                             epochs=30,\n",
    "                             validation_data=validation_generator,\n",
    "                            validation_steps=103,\n",
    "                            callbacks=[callback])\n",
    "\n",
    "model.save('natural_images.h5')"
   ]
  },
  {
   "cell_type": "code",
   "execution_count": 21,
   "metadata": {
    "colab": {
     "base_uri": "https://localhost:8080/"
    },
    "id": "CMM0waotu1_C",
    "outputId": "36aeaf4f-9f76-4e77-a818-cdf729945f88"
   },
   "outputs": [
    {
     "data": {
      "text/plain": [
       "{'accuracy': [0.8289749026298523,\n",
       "  0.8888598084449768,\n",
       "  0.8925209045410156,\n",
       "  0.9014121294021606,\n",
       "  0.910041868686676,\n",
       "  0.9105648398399353,\n",
       "  0.9160565137863159,\n",
       "  0.910041868686676,\n",
       "  0.9215481281280518,\n",
       "  0.9244247078895569,\n",
       "  0.9246861934661865,\n",
       "  0.9259937405586243,\n",
       "  0.9335774183273315,\n",
       "  0.9312238693237305,\n",
       "  0.9301778078079224,\n",
       "  0.926778256893158,\n",
       "  0.9348849654197693,\n",
       "  0.9307008385658264,\n",
       "  0.930962324142456,\n",
       "  0.9320083856582642],\n",
       " 'loss': [0.5055387616157532,\n",
       "  0.3222927153110504,\n",
       "  0.3029364347457886,\n",
       "  0.2706981301307678,\n",
       "  0.24696145951747894,\n",
       "  0.23713186383247375,\n",
       "  0.22096729278564453,\n",
       "  0.23560667037963867,\n",
       "  0.21674466133117676,\n",
       "  0.2030361145734787,\n",
       "  0.20216351747512817,\n",
       "  0.198037788271904,\n",
       "  0.19724805653095245,\n",
       "  0.18026326596736908,\n",
       "  0.1939958781003952,\n",
       "  0.1912698745727539,\n",
       "  0.1739116907119751,\n",
       "  0.19292137026786804,\n",
       "  0.18624362349510193,\n",
       "  0.1775871068239212],\n",
       " 'val_accuracy': [0.883108913898468,\n",
       "  0.8965728282928467,\n",
       "  0.8935128450393677,\n",
       "  0.8665850758552551,\n",
       "  0.9057527780532837,\n",
       "  0.902080774307251,\n",
       "  0.9026927947998047,\n",
       "  0.895348846912384,\n",
       "  0.9167686700820923,\n",
       "  0.914320707321167,\n",
       "  0.9283965826034546,\n",
       "  0.9210526347160339,\n",
       "  0.930232584476471,\n",
       "  0.9290085434913635,\n",
       "  0.9192166328430176,\n",
       "  0.9388005137443542,\n",
       "  0.9186046719551086,\n",
       "  0.9235005974769592,\n",
       "  0.9314565658569336,\n",
       "  0.9155446887016296],\n",
       " 'val_loss': [0.36982452869415283,\n",
       "  0.2930366098880768,\n",
       "  0.31097620725631714,\n",
       "  0.3766230344772339,\n",
       "  0.27401119470596313,\n",
       "  0.2782326340675354,\n",
       "  0.2704853117465973,\n",
       "  0.2970348298549652,\n",
       "  0.2620605230331421,\n",
       "  0.2637346386909485,\n",
       "  0.21532423794269562,\n",
       "  0.2256142646074295,\n",
       "  0.21872331202030182,\n",
       "  0.21311137080192566,\n",
       "  0.22688119113445282,\n",
       "  0.19230052828788757,\n",
       "  0.23120537400245667,\n",
       "  0.2095590978860855,\n",
       "  0.18218789994716644,\n",
       "  0.25964823365211487]}"
      ]
     },
     "execution_count": 21,
     "metadata": {
      "tags": []
     },
     "output_type": "execute_result"
    }
   ],
   "source": [
    "history.history"
   ]
  },
  {
   "cell_type": "markdown",
   "metadata": {
    "id": "1UTIDFEVzaQe"
   },
   "source": [
    "## Results"
   ]
  },
  {
   "cell_type": "code",
   "execution_count": 22,
   "metadata": {
    "id": "i3NiMeomxXVy"
   },
   "outputs": [],
   "source": [
    "acc = history.history['accuracy']\n",
    "val_acc = history.history['val_accuracy']\n",
    "loss = history.history['loss']\n",
    "val_loss = history.history['val_loss']\n",
    "\n",
    "epochs = range(1, len(acc) + 1)"
   ]
  },
  {
   "cell_type": "code",
   "execution_count": 32,
   "metadata": {
    "colab": {
     "base_uri": "https://localhost:8080/"
    },
    "id": "gIC-CupSARyj",
    "outputId": "40062948-0a4e-4592-fa89-7db910a64704"
   },
   "outputs": [
    {
     "name": "stdout",
     "output_type": "stream",
     "text": [
      "Training Accuracy : 0.9152719736099243\n",
      "Training Loss : 0.23277781382203103\n",
      "Validation Accuracy : 0.9116279125213623\n",
      "Validation Loss : 0.25852875113487245\n"
     ]
    }
   ],
   "source": [
    "print(f'Training Accuracy : {sum(acc)/len(acc)}')\n",
    "print(f'Training Loss : {sum(loss)/len(loss)}')\n",
    "print(f'Validation Accuracy : {sum(val_acc)/len(val_acc)}')\n",
    "print(f'Validation Loss : {sum(val_loss)/len(val_loss)}')"
   ]
  },
  {
   "cell_type": "code",
   "execution_count": 27,
   "metadata": {
    "colab": {
     "base_uri": "https://localhost:8080/",
     "height": 545
    },
    "id": "xOYE340cxXOg",
    "outputId": "3d979849-abd2-436f-9499-47dde9286f26"
   },
   "outputs": [
    {
     "data": {
      "image/png": "[encoded data removed]",
      "text/plain": [
       "<Figure size 432x288 with 1 Axes>"
      ]
     },
     "metadata": {
      "needs_background": "light",
      "tags": []
     },
     "output_type": "display_data"
    },
    {
     "data": {
      "image/png": "[encoded data removed]",
      "text/plain": [
       "<Figure size 432x288 with 1 Axes>"
      ]
     },
     "metadata": {
      "needs_background": "light",
      "tags": []
     },
     "output_type": "display_data"
    }
   ],
   "source": [
    "plt.plot(epochs, acc, 'bo', label='Training Accuracy')\n",
    "plt.plot(epochs, val_acc, 'ro', label='Validation Accuracy')\n",
    "plt.title('Training & Validation Accuracy')\n",
    "plt.legend()\n",
    "\n",
    "plt.figure()\n",
    "\n",
    "plt.plot(epochs, loss, 'bo', label='Training Loss')\n",
    "plt.plot(epochs, val_loss, 'ro', label='Validation Loss')\n",
    "plt.title('Training & Validation Loss')\n",
    "plt.legend()\n",
    "\n",
    "plt.show() "
   ]
  }
 ],
 "metadata": {
  "accelerator": "GPU",
  "colab": {
   "collapsed_sections": [],
   "name": "new-natural-images.ipynb",
   "provenance": []
  },
  "kernelspec": {
   "display_name": "Python 3",
   "language": "python",
   "name": "python3"
  },
  "language_info": {
   "codemirror_mode": {
    "name": "ipython",
    "version": 3
   },
   "file_extension": ".py",
   "mimetype": "text/x-python",
   "name": "python",
   "nbconvert_exporter": "python",
   "pygments_lexer": "ipython3",
   "version": "3.7.10"
  }
 },
 "nbformat": 4,
 "nbformat_minor": 1
}
