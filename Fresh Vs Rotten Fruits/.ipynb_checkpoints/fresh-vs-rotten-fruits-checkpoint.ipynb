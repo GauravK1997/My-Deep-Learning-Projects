{
 "cells": [
  {
   "cell_type": "markdown",
   "metadata": {},
   "source": [
    "# Problem Statement : (Multi-class Classification)\n",
    "\n",
    "## Create a Neural Network model to predict whether the fruits : \n",
    "## Apple, Orange & Banana are either Fresh or Rotten"
   ]
  },
  {
   "cell_type": "markdown",
   "metadata": {},
   "source": [
    "## Importing the required libraries"
   ]
  },
  {
   "cell_type": "code",
   "execution_count": 1,
   "metadata": {},
   "outputs": [],
   "source": [
    "import os\n",
    "import matplotlib.pyplot as plt\n",
    "import tensorflow as tf\n",
    "from tensorflow import keras\n",
    "from tensorflow.keras import models\n",
    "from tensorflow.keras import layers\n",
    "from tensorflow.keras.preprocessing.image import ImageDataGenerator\n",
    "from tensorflow.keras.applications.xception import Xception"
   ]
  },
  {
   "cell_type": "code",
   "execution_count": 2,
   "metadata": {},
   "outputs": [
    {
     "name": "stdout",
     "output_type": "stream",
     "text": [
      "['test', 'train']\n"
     ]
    }
   ],
   "source": [
    "print(os.listdir('../input/fruits-fresh-and-rotten-for-classification/dataset/dataset/'))"
   ]
  },
  {
   "cell_type": "markdown",
   "metadata": {},
   "source": [
    "## Paths for Train & Test directories"
   ]
  },
  {
   "cell_type": "code",
   "execution_count": 3,
   "metadata": {},
   "outputs": [],
   "source": [
    "train_dir = '../input/fruits-fresh-and-rotten-for-classification/dataset/dataset/train/'\n",
    "test_dir = '../input/fruits-fresh-and-rotten-for-classification/dataset/dataset/test/'"
   ]
  },
  {
   "cell_type": "markdown",
   "metadata": {},
   "source": [
    "## Generating extra data from the existing data by using Data Augmentation"
   ]
  },
  {
   "cell_type": "code",
   "execution_count": 4,
   "metadata": {},
   "outputs": [],
   "source": [
    "train_datagen = ImageDataGenerator(rescale=1./255,\n",
    "                                   rotation_range=40,\n",
    "                                   width_shift_range=0.2,\n",
    "                                   height_shift_range=0.2,\n",
    "                                   shear_range=0.2,\n",
    "                                   zoom_range=0.2,\n",
    "                                   horizontal_flip=True,\n",
    "                                  validation_split=0.2)"
   ]
  },
  {
   "cell_type": "code",
   "execution_count": 5,
   "metadata": {},
   "outputs": [
    {
     "name": "stdout",
     "output_type": "stream",
     "text": [
      "Found 8723 images belonging to 6 classes.\n",
      "Found 2178 images belonging to 6 classes.\n"
     ]
    }
   ],
   "source": [
    "train_generator = train_datagen.flow_from_directory(train_dir,\n",
    "                                                    target_size=(150,150),\n",
    "                                                    batch_size=32,\n",
    "                                                    class_mode='categorical',\n",
    "                                                    subset='training')\n",
    "\n",
    "validation_generator = train_datagen.flow_from_directory(train_dir,\n",
    "                                                        target_size=(150,150),\n",
    "                                                        batch_size=32,\n",
    "                                                        class_mode='categorical',\n",
    "                                                        subset='validation')"
   ]
  },
  {
   "cell_type": "markdown",
   "metadata": {},
   "source": [
    "## Model Building (Transfer Learning : Xception)"
   ]
  },
  {
   "cell_type": "code",
   "execution_count": 6,
   "metadata": {},
   "outputs": [
    {
     "name": "stdout",
     "output_type": "stream",
     "text": [
      "Downloading data from https://storage.googleapis.com/tensorflow/keras-applications/xception/xception_weights_tf_dim_ordering_tf_kernels_notop.h5\n",
      "83689472/83683744 [==============================] - 1s 0us/step\n"
     ]
    }
   ],
   "source": [
    "# Only including the Convolutional layers and ignoring the further Dense layers \n",
    "# (as our application differs from the one the model was trained upon)\n",
    "\n",
    "conv_base = Xception(include_top=False, input_shape=(150,150,3))"
   ]
  },
  {
   "cell_type": "code",
   "execution_count": 7,
   "metadata": {},
   "outputs": [],
   "source": [
    "# Not training the already trained Convolutional layers from the Pre-trained model\n",
    "for layer in conv_base.layers:\n",
    "    layer.trainable = False"
   ]
  },
  {
   "cell_type": "code",
   "execution_count": 8,
   "metadata": {},
   "outputs": [],
   "source": [
    "# Model with Convolutional Base = Xception & Classifier = Custom made\n",
    "model = models.Sequential([\n",
    "                           conv_base,\n",
    "                           layers.Flatten(),\n",
    "                           layers.Dropout((0.3)),\n",
    "                           layers.Dense(512, activation='relu'),\n",
    "                           layers.BatchNormalization(),\n",
    "                           layers.Dense(256, activation='relu'),\n",
    "                           layers.Dense(6, activation='softmax')\n",
    "])"
   ]
  },
  {
   "cell_type": "code",
   "execution_count": 9,
   "metadata": {},
   "outputs": [
    {
     "name": "stdout",
     "output_type": "stream",
     "text": [
      "Model: \"sequential\"\n",
      "_________________________________________________________________\n",
      "Layer (type)                 Output Shape              Param #   \n",
      "=================================================================\n",
      "xception (Functional)        (None, 5, 5, 2048)        20861480  \n",
      "_________________________________________________________________\n",
      "flatten (Flatten)            (None, 51200)             0         \n",
      "_________________________________________________________________\n",
      "dropout (Dropout)            (None, 51200)             0         \n",
      "_________________________________________________________________\n",
      "dense (Dense)                (None, 512)               26214912  \n",
      "_________________________________________________________________\n",
      "batch_normalization_4 (Batch (None, 512)               2048      \n",
      "_________________________________________________________________\n",
      "dense_1 (Dense)              (None, 256)               131328    \n",
      "_________________________________________________________________\n",
      "dense_2 (Dense)              (None, 6)                 1542      \n",
      "=================================================================\n",
      "Total params: 47,211,310\n",
      "Trainable params: 26,348,806\n",
      "Non-trainable params: 20,862,504\n",
      "_________________________________________________________________\n"
     ]
    }
   ],
   "source": [
    "model.summary()"
   ]
  },
  {
   "cell_type": "code",
   "execution_count": 10,
   "metadata": {},
   "outputs": [],
   "source": [
    "model.compile(tf.keras.optimizers.Adam(learning_rate=2e-4),\n",
    "              tf.keras.losses.categorical_crossentropy,\n",
    "              metrics=['accuracy'])"
   ]
  },
  {
   "cell_type": "code",
   "execution_count": 11,
   "metadata": {},
   "outputs": [],
   "source": [
    "callback = tf.keras.callbacks.EarlyStopping(monitor='loss', patience=3)"
   ]
  },
  {
   "cell_type": "markdown",
   "metadata": {},
   "source": [
    "## Training"
   ]
  },
  {
   "cell_type": "code",
   "execution_count": 12,
   "metadata": {},
   "outputs": [
    {
     "name": "stdout",
     "output_type": "stream",
     "text": [
      "Epoch 1/20\n",
      "273/273 [==============================] - 188s 668ms/step - loss: 0.3399 - accuracy: 0.8833 - val_loss: 0.0945 - val_accuracy: 0.9688\n",
      "Epoch 2/20\n",
      "273/273 [==============================] - 96s 352ms/step - loss: 0.1304 - accuracy: 0.9495 - val_loss: 0.0547 - val_accuracy: 0.9775\n",
      "Epoch 3/20\n",
      "273/273 [==============================] - 96s 351ms/step - loss: 0.1208 - accuracy: 0.9539 - val_loss: 0.0654 - val_accuracy: 0.9743\n",
      "Epoch 4/20\n",
      "273/273 [==============================] - 96s 351ms/step - loss: 0.0954 - accuracy: 0.9675 - val_loss: 0.0369 - val_accuracy: 0.9871\n",
      "Epoch 5/20\n",
      "273/273 [==============================] - 96s 351ms/step - loss: 0.0854 - accuracy: 0.9721 - val_loss: 0.0407 - val_accuracy: 0.9858\n",
      "Epoch 6/20\n",
      "273/273 [==============================] - 96s 353ms/step - loss: 0.0744 - accuracy: 0.9745 - val_loss: 0.0353 - val_accuracy: 0.9890\n",
      "Epoch 7/20\n",
      "273/273 [==============================] - 96s 352ms/step - loss: 0.0713 - accuracy: 0.9740 - val_loss: 0.0356 - val_accuracy: 0.9858\n",
      "Epoch 8/20\n",
      "273/273 [==============================] - 96s 351ms/step - loss: 0.0609 - accuracy: 0.9772 - val_loss: 0.0338 - val_accuracy: 0.9904\n",
      "Epoch 9/20\n",
      "273/273 [==============================] - 96s 352ms/step - loss: 0.0626 - accuracy: 0.9769 - val_loss: 0.0336 - val_accuracy: 0.9853\n",
      "Epoch 10/20\n",
      "273/273 [==============================] - 96s 350ms/step - loss: 0.0578 - accuracy: 0.9802 - val_loss: 0.0250 - val_accuracy: 0.9917\n",
      "Epoch 11/20\n",
      "273/273 [==============================] - 96s 353ms/step - loss: 0.0652 - accuracy: 0.9780 - val_loss: 0.0254 - val_accuracy: 0.9927\n",
      "Epoch 12/20\n",
      "273/273 [==============================] - 97s 354ms/step - loss: 0.0435 - accuracy: 0.9855 - val_loss: 0.0333 - val_accuracy: 0.9899\n",
      "Epoch 13/20\n",
      "273/273 [==============================] - 96s 352ms/step - loss: 0.0560 - accuracy: 0.9810 - val_loss: 0.0363 - val_accuracy: 0.9871\n",
      "Epoch 14/20\n",
      "273/273 [==============================] - 98s 359ms/step - loss: 0.0526 - accuracy: 0.9811 - val_loss: 0.0278 - val_accuracy: 0.9885\n",
      "Epoch 15/20\n",
      "273/273 [==============================] - 96s 353ms/step - loss: 0.0521 - accuracy: 0.9790 - val_loss: 0.0233 - val_accuracy: 0.9922\n"
     ]
    }
   ],
   "source": [
    "history = model.fit(train_generator,\n",
    "                             steps_per_epoch=273,\n",
    "                             epochs=20,\n",
    "                             validation_data=validation_generator,\n",
    "                            validation_steps=69,\n",
    "                             callbacks=[callback])\n",
    "\n",
    "model.save('fresh-vs-rotten-fruits-Xception.h5')"
   ]
  },
  {
   "cell_type": "code",
   "execution_count": 13,
   "metadata": {},
   "outputs": [
    {
     "data": {
      "text/plain": [
       "{'loss': [0.22270013391971588,\n",
       "  0.12348625063896179,\n",
       "  0.11500541120767593,\n",
       "  0.08445116877555847,\n",
       "  0.08672063052654266,\n",
       "  0.07535139471292496,\n",
       "  0.07103387266397476,\n",
       "  0.06633969396352768,\n",
       "  0.06557618081569672,\n",
       "  0.05868405103683472,\n",
       "  0.06486104428768158,\n",
       "  0.047486454248428345,\n",
       "  0.058792199939489365,\n",
       "  0.05333458632230759,\n",
       "  0.04981411620974541],\n",
       " 'accuracy': [0.9218158721923828,\n",
       "  0.9540295600891113,\n",
       "  0.9567809104919434,\n",
       "  0.9714547991752625,\n",
       "  0.9699644446372986,\n",
       "  0.9730597138404846,\n",
       "  0.9748939871788025,\n",
       "  0.9755818247795105,\n",
       "  0.9745500683784485,\n",
       "  0.9789063334465027,\n",
       "  0.9779891967773438,\n",
       "  0.9840651154518127,\n",
       "  0.9798234701156616,\n",
       "  0.9805113077163696,\n",
       "  0.9806259274482727],\n",
       " 'val_loss': [0.09451113641262054,\n",
       "  0.05474794656038284,\n",
       "  0.06538639962673187,\n",
       "  0.03685503825545311,\n",
       "  0.04065593704581261,\n",
       "  0.03533273935317993,\n",
       "  0.03564392775297165,\n",
       "  0.033790405839681625,\n",
       "  0.03363277018070221,\n",
       "  0.025004658848047256,\n",
       "  0.025388382375240326,\n",
       "  0.033305514603853226,\n",
       "  0.03633806109428406,\n",
       "  0.027789203450083733,\n",
       "  0.023316940292716026],\n",
       " 'val_accuracy': [0.968778669834137,\n",
       "  0.9775022864341736,\n",
       "  0.9742883443832397,\n",
       "  0.9871441721916199,\n",
       "  0.9857667684555054,\n",
       "  0.9889807105064392,\n",
       "  0.9857667684555054,\n",
       "  0.9903581142425537,\n",
       "  0.9853076338768005,\n",
       "  0.9917355179786682,\n",
       "  0.9926537871360779,\n",
       "  0.9898989796638489,\n",
       "  0.9871441721916199,\n",
       "  0.9885215759277344,\n",
       "  0.992194652557373]}"
      ]
     },
     "execution_count": 13,
     "metadata": {},
     "output_type": "execute_result"
    }
   ],
   "source": [
    "history.history"
   ]
  },
  {
   "cell_type": "markdown",
   "metadata": {},
   "source": [
    "## Results"
   ]
  },
  {
   "cell_type": "code",
   "execution_count": 14,
   "metadata": {},
   "outputs": [],
   "source": [
    "acc = history.history['accuracy']\n",
    "val_acc = history.history['val_accuracy']\n",
    "loss = history.history['loss']\n",
    "val_loss = history.history['val_loss']\n",
    "\n",
    "epochs = range(1, len(acc) + 1)"
   ]
  },
  {
   "cell_type": "code",
   "execution_count": 17,
   "metadata": {},
   "outputs": [
    {
     "name": "stdout",
     "output_type": "stream",
     "text": [
      "Training Accuracy : 0.9702701687812805\n",
      "Training Loss : 0.08290914595127105\n",
      "\n",
      " Validation Accuracy : 0.9857361435890197\n",
      "Validation Loss : 0.04011327077945073\n"
     ]
    }
   ],
   "source": [
    "print(f'Training Accuracy : {sum(acc)/len(acc)}')\n",
    "print(f'Training Loss : {sum(loss)/len(loss)}')\n",
    "print(f'\\n Validation Accuracy : {sum(val_acc)/len(val_acc)}')\n",
    "print(f'Validation Loss : {sum(val_loss)/len(val_loss)}')"
   ]
  },
  {
   "cell_type": "code",
   "execution_count": 15,
   "metadata": {},
   "outputs": [
    {
     "name": "stdout",
     "output_type": "stream",
     "text": [
      "Found 2698 images belonging to 6 classes.\n"
     ]
    }
   ],
   "source": [
    "test_datagen = ImageDataGenerator(rescale=1./255)\n",
    "\n",
    "test_generator = test_datagen.flow_from_directory(test_dir,\n",
    "                                                    target_size=(150,150),\n",
    "                                                    batch_size=32,\n",
    "                                                    class_mode='categorical',\n",
    ")"
   ]
  },
  {
   "cell_type": "code",
   "execution_count": 18,
   "metadata": {},
   "outputs": [
    {
     "name": "stdout",
     "output_type": "stream",
     "text": [
      "85/85 [==============================] - 35s 411ms/step - loss: 0.0317 - accuracy: 0.9881\n",
      "Test Loss : 0.03170356899499893 \n",
      " Test Accuracy : 0.9881393909454346\n"
     ]
    }
   ],
   "source": [
    "test_loss, test_acc = model.evaluate(test_generator)\n",
    "print(f\"Test Loss : {test_loss} \\n Test Accuracy : {test_acc}\")"
   ]
  },
  {
   "cell_type": "code",
   "execution_count": 16,
   "metadata": {},
   "outputs": [
    {
     "data": {
      "image/png": "[encoded data removed]",
      "text/plain": [
       "<Figure size 432x288 with 1 Axes>"
      ]
     },
     "metadata": {
      "needs_background": "light"
     },
     "output_type": "display_data"
    },
    {
     "data": {
      "image/png": "[encoded data removed]",
      "text/plain": [
       "<Figure size 432x288 with 1 Axes>"
      ]
     },
     "metadata": {
      "needs_background": "light"
     },
     "output_type": "display_data"
    }
   ],
   "source": [
    "plt.plot(epochs, acc, 'bo', label='Training Accuracy')\n",
    "plt.plot(epochs, val_acc, 'ro', label='Validation Accuracy')\n",
    "plt.title('Training & Validation Accuracy')\n",
    "plt.legend()\n",
    "\n",
    "plt.figure()\n",
    "\n",
    "plt.plot(epochs, loss, 'bo', label='Training Loss')\n",
    "plt.plot(epochs, val_loss, 'ro', label='Validation Loss')\n",
    "plt.title('Training & Validation Loss')\n",
    "plt.legend()\n",
    "\n",
    "plt.show() "
   ]
  }
 ],
 "metadata": {
  "kernelspec": {
   "display_name": "Python 3",
   "language": "python",
   "name": "python3"
  },
  "language_info": {
   "codemirror_mode": {
    "name": "ipython",
    "version": 3
   },
   "file_extension": ".py",
   "mimetype": "text/x-python",
   "name": "python",
   "nbconvert_exporter": "python",
   "pygments_lexer": "ipython3",
   "version": "3.7.10"
  }
 },
 "nbformat": 4,
 "nbformat_minor": 4
}
