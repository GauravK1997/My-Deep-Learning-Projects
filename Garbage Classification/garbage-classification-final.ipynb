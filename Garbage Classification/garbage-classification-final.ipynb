{
 "cells": [
  {
   "cell_type": "markdown",
   "metadata": {},
   "source": [
    "# Problem Statement : (Multi-class Classification)\n",
    "## Create a Neural Network model to predict the class of a given image from the following \n",
    "## 12 classes : metal, white-glass, biological, paper, brown-glass, battery, trash, cardboard, shoes, clothes, plastic, green-glass"
   ]
  },
  {
   "cell_type": "markdown",
   "metadata": {},
   "source": [
    "## Importing the required libraries"
   ]
  },
  {
   "cell_type": "code",
   "execution_count": 4,
   "metadata": {},
   "outputs": [],
   "source": [
    "import os\n",
    "import matplotlib.pyplot as plt\n",
    "import tensorflow as tf\n",
    "from tensorflow import keras\n",
    "from tensorflow.keras import models\n",
    "from tensorflow.keras import layers\n",
    "from tensorflow.keras.preprocessing.image import ImageDataGenerator\n",
    "from tensorflow.keras.applications.resnet_v2 import ResNet101V2"
   ]
  },
  {
   "cell_type": "code",
   "execution_count": 5,
   "metadata": {},
   "outputs": [
    {
     "name": "stdout",
     "output_type": "stream",
     "text": [
      "['garbage-classification']\n"
     ]
    }
   ],
   "source": [
    "print(os.listdir('../input'))"
   ]
  },
  {
   "cell_type": "code",
   "execution_count": 6,
   "metadata": {},
   "outputs": [
    {
     "name": "stdout",
     "output_type": "stream",
     "text": [
      "['metal', 'white-glass', 'biological', 'paper', 'brown-glass', 'battery', 'trash', 'cardboard', 'shoes', 'clothes', 'plastic', 'green-glass']\n"
     ]
    }
   ],
   "source": [
    "print(os.listdir('../input/garbage-classification/garbage_classification'))"
   ]
  },
  {
   "cell_type": "markdown",
   "metadata": {},
   "source": [
    "## Path for the Image directory"
   ]
  },
  {
   "cell_type": "code",
   "execution_count": 7,
   "metadata": {},
   "outputs": [],
   "source": [
    "img_dir = '../input/garbage-classification/garbage_classification'"
   ]
  },
  {
   "cell_type": "markdown",
   "metadata": {},
   "source": [
    "## Generating extra data from the existing data by using Data Augmentation"
   ]
  },
  {
   "cell_type": "code",
   "execution_count": 8,
   "metadata": {},
   "outputs": [],
   "source": [
    "train_datagen = ImageDataGenerator(rescale=1./255,\n",
    "                                   rotation_range=40,\n",
    "                                   width_shift_range=0.2,\n",
    "                                   height_shift_range=0.2,\n",
    "                                   shear_range=0.2,\n",
    "                                   zoom_range=0.2,\n",
    "                                   horizontal_flip=True,\n",
    "                                  validation_split=0.2)"
   ]
  },
  {
   "cell_type": "code",
   "execution_count": 9,
   "metadata": {},
   "outputs": [
    {
     "name": "stdout",
     "output_type": "stream",
     "text": [
      "Found 12415 images belonging to 12 classes.\n",
      "Found 3100 images belonging to 12 classes.\n"
     ]
    }
   ],
   "source": [
    "train_generator = train_datagen.flow_from_directory(img_dir,\n",
    "                                                    target_size=(150,150),\n",
    "                                                    batch_size=32,\n",
    "                                                    class_mode='categorical',\n",
    "                                                    subset='training')\n",
    "\n",
    "validation_generator = train_datagen.flow_from_directory(img_dir,\n",
    "                                                        target_size=(150,150),\n",
    "                                                        batch_size=32,\n",
    "                                                        class_mode='categorical',\n",
    "                                                        subset='validation')"
   ]
  },
  {
   "cell_type": "markdown",
   "metadata": {},
   "source": [
    "## Model Building (Transfer Learning : ResNet101V2)"
   ]
  },
  {
   "cell_type": "code",
   "execution_count": 10,
   "metadata": {},
   "outputs": [],
   "source": [
    "# Only including the Convolutional layers and ignoring the further Dense layers \n",
    "# (as our application differs from the one the model was trained upon)\n",
    "\n",
    "conv_base = ResNet101V2(include_top=False, input_shape=(150,150,3))"
   ]
  },
  {
   "cell_type": "code",
   "execution_count": 11,
   "metadata": {},
   "outputs": [],
   "source": [
    "# Not training the already trained Convolutional layers from the Pre-trained model\n",
    "for layer in conv_base.layers:\n",
    "    layer.trainable = False"
   ]
  },
  {
   "cell_type": "code",
   "execution_count": 12,
   "metadata": {},
   "outputs": [],
   "source": [
    "# Model with Convolutional Base = ResNet & Classifier = Custom made\n",
    "model = models.Sequential([\n",
    "                           conv_base,\n",
    "                           layers.Flatten(),\n",
    "                           layers.Dropout((0.3)),\n",
    "                           layers.Dense(512, activation='relu'),\n",
    "                           layers.BatchNormalization(),\n",
    "                           layers.Dense(256, activation='relu'),\n",
    "                           layers.Dense(12, activation='softmax')\n",
    "])"
   ]
  },
  {
   "cell_type": "code",
   "execution_count": 13,
   "metadata": {},
   "outputs": [
    {
     "name": "stdout",
     "output_type": "stream",
     "text": [
      "Model: \"sequential\"\n",
      "_________________________________________________________________\n",
      "Layer (type)                 Output Shape              Param #   \n",
      "=================================================================\n",
      "resnet101v2 (Functional)     (None, 5, 5, 2048)        42626560  \n",
      "_________________________________________________________________\n",
      "flatten (Flatten)            (None, 51200)             0         \n",
      "_________________________________________________________________\n",
      "dropout (Dropout)            (None, 51200)             0         \n",
      "_________________________________________________________________\n",
      "dense (Dense)                (None, 512)               26214912  \n",
      "_________________________________________________________________\n",
      "batch_normalization (BatchNo (None, 512)               2048      \n",
      "_________________________________________________________________\n",
      "dense_1 (Dense)              (None, 256)               131328    \n",
      "_________________________________________________________________\n",
      "dense_2 (Dense)              (None, 12)                3084      \n",
      "=================================================================\n",
      "Total params: 68,977,932\n",
      "Trainable params: 26,350,348\n",
      "Non-trainable params: 42,627,584\n",
      "_________________________________________________________________\n"
     ]
    }
   ],
   "source": [
    "model.summary()"
   ]
  },
  {
   "cell_type": "code",
   "execution_count": 14,
   "metadata": {},
   "outputs": [],
   "source": [
    "model.compile(tf.keras.optimizers.Adam(learning_rate=2e-4),\n",
    "              tf.keras.losses.categorical_crossentropy,\n",
    "              metrics=['accuracy'])"
   ]
  },
  {
   "cell_type": "code",
   "execution_count": 15,
   "metadata": {},
   "outputs": [],
   "source": [
    "callback = tf.keras.callbacks.EarlyStopping(monitor='loss', patience=3)"
   ]
  },
  {
   "cell_type": "markdown",
   "metadata": {},
   "source": [
    "## Training"
   ]
  },
  {
   "cell_type": "code",
   "execution_count": 16,
   "metadata": {},
   "outputs": [
    {
     "name": "stdout",
     "output_type": "stream",
     "text": [
      "Epoch 1/25\n",
      "388/388 [==============================] - 185s 452ms/step - loss: 0.8054 - accuracy: 0.7555 - val_loss: 0.5171 - val_accuracy: 0.8355\n",
      "Epoch 2/25\n",
      "388/388 [==============================] - 111s 285ms/step - loss: 0.3685 - accuracy: 0.8831 - val_loss: 0.4353 - val_accuracy: 0.8503\n",
      "Epoch 3/25\n",
      "388/388 [==============================] - 111s 285ms/step - loss: 0.3054 - accuracy: 0.9030 - val_loss: 0.4265 - val_accuracy: 0.8610\n",
      "Epoch 4/25\n",
      "388/388 [==============================] - 110s 284ms/step - loss: 0.2819 - accuracy: 0.9069 - val_loss: 0.4125 - val_accuracy: 0.8597\n",
      "Epoch 5/25\n",
      "388/388 [==============================] - 111s 285ms/step - loss: 0.2517 - accuracy: 0.9150 - val_loss: 0.4121 - val_accuracy: 0.8645\n",
      "Epoch 6/25\n",
      "388/388 [==============================] - 110s 283ms/step - loss: 0.2305 - accuracy: 0.9202 - val_loss: 0.4050 - val_accuracy: 0.8729\n",
      "Epoch 7/25\n",
      "388/388 [==============================] - 111s 285ms/step - loss: 0.2226 - accuracy: 0.9255 - val_loss: 0.4192 - val_accuracy: 0.8694\n",
      "Epoch 8/25\n",
      "388/388 [==============================] - 112s 288ms/step - loss: 0.1948 - accuracy: 0.9352 - val_loss: 0.4034 - val_accuracy: 0.8787\n",
      "Epoch 9/25\n",
      "388/388 [==============================] - 111s 287ms/step - loss: 0.1976 - accuracy: 0.9305 - val_loss: 0.3758 - val_accuracy: 0.8752\n",
      "Epoch 10/25\n",
      "388/388 [==============================] - 112s 289ms/step - loss: 0.1823 - accuracy: 0.9388 - val_loss: 0.4082 - val_accuracy: 0.8710\n",
      "Epoch 11/25\n",
      "388/388 [==============================] - 112s 288ms/step - loss: 0.1764 - accuracy: 0.9394 - val_loss: 0.4137 - val_accuracy: 0.8710\n",
      "Epoch 12/25\n",
      "388/388 [==============================] - 112s 289ms/step - loss: 0.1698 - accuracy: 0.9441 - val_loss: 0.4044 - val_accuracy: 0.8794\n",
      "Epoch 13/25\n",
      "388/388 [==============================] - 112s 289ms/step - loss: 0.1528 - accuracy: 0.9491 - val_loss: 0.3797 - val_accuracy: 0.8839\n",
      "Epoch 14/25\n",
      "388/388 [==============================] - 112s 289ms/step - loss: 0.1656 - accuracy: 0.9447 - val_loss: 0.4023 - val_accuracy: 0.8765\n",
      "Epoch 15/25\n",
      "388/388 [==============================] - 112s 288ms/step - loss: 0.1620 - accuracy: 0.9432 - val_loss: 0.3880 - val_accuracy: 0.8806\n",
      "Epoch 16/25\n",
      "388/388 [==============================] - 113s 291ms/step - loss: 0.1493 - accuracy: 0.9479 - val_loss: 0.3883 - val_accuracy: 0.8797\n",
      "Epoch 17/25\n",
      "388/388 [==============================] - 113s 290ms/step - loss: 0.1403 - accuracy: 0.9526 - val_loss: 0.3837 - val_accuracy: 0.8826\n",
      "Epoch 18/25\n",
      "388/388 [==============================] - 113s 290ms/step - loss: 0.1389 - accuracy: 0.9527 - val_loss: 0.3926 - val_accuracy: 0.8871\n",
      "Epoch 19/25\n",
      "388/388 [==============================] - 112s 288ms/step - loss: 0.1242 - accuracy: 0.9547 - val_loss: 0.4025 - val_accuracy: 0.8868\n",
      "Epoch 20/25\n",
      "388/388 [==============================] - 112s 289ms/step - loss: 0.1305 - accuracy: 0.9565 - val_loss: 0.3965 - val_accuracy: 0.8806\n",
      "Epoch 21/25\n",
      "388/388 [==============================] - 111s 287ms/step - loss: 0.1217 - accuracy: 0.9606 - val_loss: 0.3810 - val_accuracy: 0.8855\n",
      "Epoch 22/25\n",
      "388/388 [==============================] - 112s 288ms/step - loss: 0.1157 - accuracy: 0.9587 - val_loss: 0.3793 - val_accuracy: 0.8871\n",
      "Epoch 23/25\n",
      "388/388 [==============================] - 111s 285ms/step - loss: 0.1067 - accuracy: 0.9641 - val_loss: 0.4030 - val_accuracy: 0.8858\n",
      "Epoch 24/25\n",
      "388/388 [==============================] - 111s 285ms/step - loss: 0.1067 - accuracy: 0.9648 - val_loss: 0.4188 - val_accuracy: 0.8777\n",
      "Epoch 25/25\n",
      "388/388 [==============================] - 111s 285ms/step - loss: 0.1099 - accuracy: 0.9598 - val_loss: 0.4051 - val_accuracy: 0.8852\n"
     ]
    }
   ],
   "source": [
    "history = model.fit(train_generator,\n",
    "                             steps_per_epoch=388,\n",
    "                             epochs=25,\n",
    "                             validation_data=validation_generator,\n",
    "                            validation_steps=97,\n",
    "                             callbacks=[callback])\n",
    "\n",
    "model.save('kaggle_garbage_classification_ResNet101V2.h5')"
   ]
  },
  {
   "cell_type": "code",
   "execution_count": 17,
   "metadata": {},
   "outputs": [
    {
     "data": {
      "text/plain": [
       "{'loss': [0.5883428454399109,\n",
       "  0.3883165717124939,\n",
       "  0.31971994042396545,\n",
       "  0.28349387645721436,\n",
       "  0.2701081335544586,\n",
       "  0.23259605467319489,\n",
       "  0.22618578374385834,\n",
       "  0.20825280249118805,\n",
       "  0.20076903700828552,\n",
       "  0.1931237429380417,\n",
       "  0.1903405636548996,\n",
       "  0.17467275261878967,\n",
       "  0.1684025228023529,\n",
       "  0.16789020597934723,\n",
       "  0.1622319519519806,\n",
       "  0.14842672646045685,\n",
       "  0.14971104264259338,\n",
       "  0.1355813443660736,\n",
       "  0.13653559982776642,\n",
       "  0.13452766835689545,\n",
       "  0.12747836112976074,\n",
       "  0.11956281960010529,\n",
       "  0.11369035392999649,\n",
       "  0.11590950936079025,\n",
       "  0.11200814694166183],\n",
       " 'accuracy': [0.8166733980178833,\n",
       "  0.8770841956138611,\n",
       "  0.8958517909049988,\n",
       "  0.908739447593689,\n",
       "  0.907209038734436,\n",
       "  0.9204993844032288,\n",
       "  0.92275470495224,\n",
       "  0.9301651120185852,\n",
       "  0.9312122464179993,\n",
       "  0.9349174499511719,\n",
       "  0.9359645843505859,\n",
       "  0.9418445229530334,\n",
       "  0.9426500201225281,\n",
       "  0.944180428981781,\n",
       "  0.9429721832275391,\n",
       "  0.9483689069747925,\n",
       "  0.9494160413742065,\n",
       "  0.9556182026863098,\n",
       "  0.9503020644187927,\n",
       "  0.9531212449073792,\n",
       "  0.9573902487754822,\n",
       "  0.9588401317596436,\n",
       "  0.961981475353241,\n",
       "  0.9603705406188965,\n",
       "  0.9598066806793213],\n",
       " 'val_loss': [0.5171321630477905,\n",
       "  0.43534916639328003,\n",
       "  0.4264620840549469,\n",
       "  0.41249069571495056,\n",
       "  0.4121105968952179,\n",
       "  0.4049941599369049,\n",
       "  0.41922512650489807,\n",
       "  0.40339478850364685,\n",
       "  0.3757607042789459,\n",
       "  0.40818169713020325,\n",
       "  0.41365623474121094,\n",
       "  0.4044303596019745,\n",
       "  0.37973156571388245,\n",
       "  0.40228405594825745,\n",
       "  0.38799384236335754,\n",
       "  0.3882904648780823,\n",
       "  0.3836764395236969,\n",
       "  0.392637699842453,\n",
       "  0.40252670645713806,\n",
       "  0.3964616060256958,\n",
       "  0.38099101185798645,\n",
       "  0.37927544116973877,\n",
       "  0.4030115604400635,\n",
       "  0.4188176989555359,\n",
       "  0.40509769320487976],\n",
       " 'val_accuracy': [0.8354838490486145,\n",
       "  0.8503226041793823,\n",
       "  0.860967755317688,\n",
       "  0.8596774339675903,\n",
       "  0.8645161390304565,\n",
       "  0.8729032278060913,\n",
       "  0.8693548440933228,\n",
       "  0.8787096738815308,\n",
       "  0.8751612901687622,\n",
       "  0.8709677457809448,\n",
       "  0.8709677457809448,\n",
       "  0.8793548345565796,\n",
       "  0.8838709592819214,\n",
       "  0.8764516115188599,\n",
       "  0.8806451559066772,\n",
       "  0.879677414894104,\n",
       "  0.8825806379318237,\n",
       "  0.8870967626571655,\n",
       "  0.8867741823196411,\n",
       "  0.8806451559066772,\n",
       "  0.8854838609695435,\n",
       "  0.8870967626571655,\n",
       "  0.8858064413070679,\n",
       "  0.8777419328689575,\n",
       "  0.885161280632019]}"
      ]
     },
     "execution_count": 17,
     "metadata": {},
     "output_type": "execute_result"
    }
   ],
   "source": [
    "history.history"
   ]
  },
  {
   "cell_type": "markdown",
   "metadata": {},
   "source": [
    "## Results"
   ]
  },
  {
   "cell_type": "code",
   "execution_count": 18,
   "metadata": {},
   "outputs": [],
   "source": [
    "acc = history.history['accuracy']\n",
    "val_acc = history.history['val_accuracy']\n",
    "loss = history.history['loss']\n",
    "val_loss = history.history['val_loss']\n",
    "\n",
    "epochs = range(1, len(acc) + 1)"
   ]
  },
  {
   "cell_type": "code",
   "execution_count": 19,
   "metadata": {},
   "outputs": [
    {
     "name": "stdout",
     "output_type": "stream",
     "text": [
      "Training Accuracy : 0.932317361831665\n",
      "Training Loss : 0.2027151343226433\n",
      "\n",
      " Validation Accuracy : 0.8746967720985412\n",
      "Validation Loss : 0.4061593425273895\n"
     ]
    }
   ],
   "source": [
    "print(f'Training Accuracy : {sum(acc)/len(acc)}')\n",
    "print(f'Training Loss : {sum(loss)/len(loss)}')\n",
    "print(f'\\n Validation Accuracy : {sum(val_acc)/len(val_acc)}')\n",
    "print(f'Validation Loss : {sum(val_loss)/len(val_loss)}')"
   ]
  },
  {
   "cell_type": "code",
   "execution_count": 20,
   "metadata": {},
   "outputs": [
    {
     "data": {
      "image/png": "[encoded data removed]",
      "text/plain": [
       "<Figure size 432x288 with 1 Axes>"
      ]
     },
     "metadata": {
      "needs_background": "light"
     },
     "output_type": "display_data"
    },
    {
     "data": {
      "image/png": "[encoded data removed]",
      "text/plain": [
       "<Figure size 432x288 with 1 Axes>"
      ]
     },
     "metadata": {
      "needs_background": "light"
     },
     "output_type": "display_data"
    }
   ],
   "source": [
    "plt.plot(epochs, acc, 'bo', label='Training Accuracy')\n",
    "plt.plot(epochs, val_acc, 'ro', label='Validation Accuracy')\n",
    "plt.title('Training & Validation Accuracy')\n",
    "plt.legend()\n",
    "\n",
    "plt.figure()\n",
    "\n",
    "plt.plot(epochs, loss, 'bo', label='Training Loss')\n",
    "plt.plot(epochs, val_loss, 'ro', label='Validation Loss')\n",
    "plt.title('Training & Validation Loss')\n",
    "plt.legend()\n",
    "\n",
    "plt.show() "
   ]
  }
 ],
 "metadata": {
  "kernelspec": {
   "display_name": "Python 3",
   "language": "python",
   "name": "python3"
  },
  "language_info": {
   "codemirror_mode": {
    "name": "ipython",
    "version": 3
   },
   "file_extension": ".py",
   "mimetype": "text/x-python",
   "name": "python",
   "nbconvert_exporter": "python",
   "pygments_lexer": "ipython3",
   "version": "3.7.10"
  }
 },
 "nbformat": 4,
 "nbformat_minor": 4
}
