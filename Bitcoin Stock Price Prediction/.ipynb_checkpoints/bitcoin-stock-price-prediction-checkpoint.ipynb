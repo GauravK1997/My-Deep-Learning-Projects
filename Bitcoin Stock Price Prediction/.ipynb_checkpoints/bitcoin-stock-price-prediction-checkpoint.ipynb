{
 "cells": [
  {
   "cell_type": "markdown",
   "metadata": {},
   "source": [
    "# Problem Statement :\n",
    "\n",
    "## Considering the Closing Stock Prices of the following Bitcoin Cryptocurrency dataset, create a model to forecast the future stock prices of Bitcoin"
   ]
  },
  {
   "cell_type": "code",
   "execution_count": 2,
   "metadata": {},
   "outputs": [],
   "source": [
    "import numpy as np\n",
    "import pandas as pd\n",
    "import matplotlib.pyplot as plt\n",
    "import math\n",
    "\n",
    "from keras.models import Sequential\n",
    "from keras.layers import Dense, Dropout, LSTM\n",
    "from sklearn.preprocessing import MinMaxScaler\n",
    "from sklearn.metrics import mean_squared_error"
   ]
  },
  {
   "cell_type": "code",
   "execution_count": 3,
   "metadata": {
    "scrolled": true
   },
   "outputs": [
    {
     "data": {
      "text/html": [
       "<div>\n",
       "<style scoped>\n",
       "    .dataframe tbody tr th:only-of-type {\n",
       "        vertical-align: middle;\n",
       "    }\n",
       "\n",
       "    .dataframe tbody tr th {\n",
       "        vertical-align: top;\n",
       "    }\n",
       "\n",
       "    .dataframe thead th {\n",
       "        text-align: right;\n",
       "    }\n",
       "</style>\n",
       "<table border=\"1\" class=\"dataframe\">\n",
       "  <thead>\n",
       "    <tr style=\"text-align: right;\">\n",
       "      <th></th>\n",
       "      <th>SNo</th>\n",
       "      <th>Name</th>\n",
       "      <th>Symbol</th>\n",
       "      <th>Date</th>\n",
       "      <th>High</th>\n",
       "      <th>Low</th>\n",
       "      <th>Open</th>\n",
       "      <th>Close</th>\n",
       "      <th>Volume</th>\n",
       "      <th>Marketcap</th>\n",
       "    </tr>\n",
       "  </thead>\n",
       "  <tbody>\n",
       "    <tr>\n",
       "      <th>0</th>\n",
       "      <td>1</td>\n",
       "      <td>Bitcoin</td>\n",
       "      <td>BTC</td>\n",
       "      <td>2013-04-29 23:59:59</td>\n",
       "      <td>147.488007</td>\n",
       "      <td>134.000000</td>\n",
       "      <td>134.444000</td>\n",
       "      <td>144.539993</td>\n",
       "      <td>0.0</td>\n",
       "      <td>1.603769e+09</td>\n",
       "    </tr>\n",
       "    <tr>\n",
       "      <th>1</th>\n",
       "      <td>2</td>\n",
       "      <td>Bitcoin</td>\n",
       "      <td>BTC</td>\n",
       "      <td>2013-04-30 23:59:59</td>\n",
       "      <td>146.929993</td>\n",
       "      <td>134.050003</td>\n",
       "      <td>144.000000</td>\n",
       "      <td>139.000000</td>\n",
       "      <td>0.0</td>\n",
       "      <td>1.542813e+09</td>\n",
       "    </tr>\n",
       "    <tr>\n",
       "      <th>2</th>\n",
       "      <td>3</td>\n",
       "      <td>Bitcoin</td>\n",
       "      <td>BTC</td>\n",
       "      <td>2013-05-01 23:59:59</td>\n",
       "      <td>139.889999</td>\n",
       "      <td>107.720001</td>\n",
       "      <td>139.000000</td>\n",
       "      <td>116.989998</td>\n",
       "      <td>0.0</td>\n",
       "      <td>1.298955e+09</td>\n",
       "    </tr>\n",
       "    <tr>\n",
       "      <th>3</th>\n",
       "      <td>4</td>\n",
       "      <td>Bitcoin</td>\n",
       "      <td>BTC</td>\n",
       "      <td>2013-05-02 23:59:59</td>\n",
       "      <td>125.599998</td>\n",
       "      <td>92.281898</td>\n",
       "      <td>116.379997</td>\n",
       "      <td>105.209999</td>\n",
       "      <td>0.0</td>\n",
       "      <td>1.168517e+09</td>\n",
       "    </tr>\n",
       "    <tr>\n",
       "      <th>4</th>\n",
       "      <td>5</td>\n",
       "      <td>Bitcoin</td>\n",
       "      <td>BTC</td>\n",
       "      <td>2013-05-03 23:59:59</td>\n",
       "      <td>108.127998</td>\n",
       "      <td>79.099998</td>\n",
       "      <td>106.250000</td>\n",
       "      <td>97.750000</td>\n",
       "      <td>0.0</td>\n",
       "      <td>1.085995e+09</td>\n",
       "    </tr>\n",
       "  </tbody>\n",
       "</table>\n",
       "</div>"
      ],
      "text/plain": [
       "   SNo     Name Symbol                 Date        High         Low  \\\n",
       "0    1  Bitcoin    BTC  2013-04-29 23:59:59  147.488007  134.000000   \n",
       "1    2  Bitcoin    BTC  2013-04-30 23:59:59  146.929993  134.050003   \n",
       "2    3  Bitcoin    BTC  2013-05-01 23:59:59  139.889999  107.720001   \n",
       "3    4  Bitcoin    BTC  2013-05-02 23:59:59  125.599998   92.281898   \n",
       "4    5  Bitcoin    BTC  2013-05-03 23:59:59  108.127998   79.099998   \n",
       "\n",
       "         Open       Close  Volume     Marketcap  \n",
       "0  134.444000  144.539993     0.0  1.603769e+09  \n",
       "1  144.000000  139.000000     0.0  1.542813e+09  \n",
       "2  139.000000  116.989998     0.0  1.298955e+09  \n",
       "3  116.379997  105.209999     0.0  1.168517e+09  \n",
       "4  106.250000   97.750000     0.0  1.085995e+09  "
      ]
     },
     "execution_count": 3,
     "metadata": {},
     "output_type": "execute_result"
    }
   ],
   "source": [
    "data = pd.read_csv('../input/cryptocurrencypricehistory/coin_Bitcoin.csv')\n",
    "data.head()"
   ]
  },
  {
   "cell_type": "markdown",
   "metadata": {},
   "source": [
    "## Using only the Closing Price"
   ]
  },
  {
   "cell_type": "code",
   "execution_count": 4,
   "metadata": {},
   "outputs": [
    {
     "data": {
      "text/plain": [
       "array([[  144.53999329],\n",
       "       [  139.        ],\n",
       "       [  116.98999786],\n",
       "       ...,\n",
       "       [47093.85301914],\n",
       "       [46339.76008289],\n",
       "       [46188.45127539]])"
      ]
     },
     "execution_count": 4,
     "metadata": {},
     "output_type": "execute_result"
    }
   ],
   "source": [
    "dataframe = data[['Close']]\n",
    "dataframe.values"
   ]
  },
  {
   "cell_type": "markdown",
   "metadata": {},
   "source": [
    "## Plotting the Data"
   ]
  },
  {
   "cell_type": "code",
   "execution_count": 5,
   "metadata": {},
   "outputs": [
    {
     "data": {
      "image/png": "[encoded data removed]",
      "text/plain": [
       "<Figure size 432x288 with 1 Axes>"
      ]
     },
     "metadata": {
      "needs_background": "light"
     },
     "output_type": "display_data"
    }
   ],
   "source": [
    "plt.plot(dataframe)\n",
    "plt.xlabel('Time')\n",
    "plt.ylabel('Price')\n",
    "plt.title('Bitcoin')\n",
    "plt.show()"
   ]
  },
  {
   "cell_type": "code",
   "execution_count": 6,
   "metadata": {},
   "outputs": [
    {
     "data": {
      "text/plain": [
       "array([[  144.54 ],\n",
       "       [  139.   ],\n",
       "       [  116.99 ],\n",
       "       ...,\n",
       "       [47093.85 ],\n",
       "       [46339.76 ],\n",
       "       [46188.453]], dtype=float32)"
      ]
     },
     "execution_count": 6,
     "metadata": {},
     "output_type": "execute_result"
    }
   ],
   "source": [
    "# Converting all the values into 'Floating Point Values', so that we don't miss any values due to rounding off\n",
    "\n",
    "dataset = dataframe.values\n",
    "dataset = dataset.astype('float32')\n",
    "dataset"
   ]
  },
  {
   "cell_type": "markdown",
   "metadata": {},
   "source": [
    "## Feature Scaling : Normalization"
   ]
  },
  {
   "cell_type": "code",
   "execution_count": 7,
   "metadata": {},
   "outputs": [],
   "source": [
    "scaler = MinMaxScaler(feature_range=(0, 1))\n",
    "dataset = scaler.fit_transform(dataset)"
   ]
  },
  {
   "cell_type": "markdown",
   "metadata": {},
   "source": [
    "## Train - Test Split"
   ]
  },
  {
   "cell_type": "code",
   "execution_count": 8,
   "metadata": {},
   "outputs": [],
   "source": [
    "train_size = int(len(dataset) * 0.66)\n",
    "test_size = len(dataset) - train_size\n",
    "train, test = dataset[0:train_size,:], dataset[train_size:len(dataset),:]"
   ]
  },
  {
   "cell_type": "markdown",
   "metadata": {},
   "source": [
    "## Preparing the dataset"
   ]
  },
  {
   "cell_type": "code",
   "execution_count": 9,
   "metadata": {},
   "outputs": [],
   "source": [
    "def to_sequences(dataset, seq_size=1):\n",
    "    x = []\n",
    "    y = []\n",
    "\n",
    "    for i in range(len(dataset)-seq_size-1):\n",
    "        window = dataset[i:(i+seq_size), 0]\n",
    "        x.append(window)\n",
    "        y.append(dataset[i+seq_size, 0])\n",
    "        \n",
    "    return np.array(x),np.array(y)"
   ]
  },
  {
   "cell_type": "code",
   "execution_count": 10,
   "metadata": {},
   "outputs": [],
   "source": [
    "seq_size = 10 # Number of time steps to look back \n",
    "\n",
    "trainX, trainY = to_sequences(train, seq_size)\n",
    "testX, testY = to_sequences(test, seq_size)"
   ]
  },
  {
   "cell_type": "code",
   "execution_count": 11,
   "metadata": {},
   "outputs": [
    {
     "data": {
      "text/plain": [
       "(((1877, 10), (1877,)), ((963, 10), (963,)))"
      ]
     },
     "execution_count": 11,
     "metadata": {},
     "output_type": "execute_result"
    }
   ],
   "source": [
    "(trainX.shape, trainY.shape), (testX.shape, testY.shape)"
   ]
  },
  {
   "cell_type": "code",
   "execution_count": 12,
   "metadata": {},
   "outputs": [],
   "source": [
    "trainX = trainX.reshape(trainX.shape[0], trainX.shape[1], 1)\n",
    "testX = testX.reshape(testX.shape[0], testX.shape[1], 1)"
   ]
  },
  {
   "cell_type": "code",
   "execution_count": 13,
   "metadata": {},
   "outputs": [
    {
     "data": {
      "text/plain": [
       "(((1877, 10, 1), (1877,)), ((963, 10, 1), (963,)))"
      ]
     },
     "execution_count": 13,
     "metadata": {},
     "output_type": "execute_result"
    }
   ],
   "source": [
    "(trainX.shape, trainY.shape), (testX.shape, testY.shape)"
   ]
  },
  {
   "cell_type": "markdown",
   "metadata": {},
   "source": [
    "## Creating the model using RNN(LSTM)"
   ]
  },
  {
   "cell_type": "code",
   "execution_count": 15,
   "metadata": {
    "scrolled": false
   },
   "outputs": [
    {
     "name": "stdout",
     "output_type": "stream",
     "text": [
      "Model: \"sequential\"\n",
      "_________________________________________________________________\n",
      "Layer (type)                 Output Shape              Param #   \n",
      "=================================================================\n",
      "lstm (LSTM)                  (None, 10, 128)           66560     \n",
      "_________________________________________________________________\n",
      "dropout (Dropout)            (None, 10, 128)           0         \n",
      "_________________________________________________________________\n",
      "lstm_1 (LSTM)                (None, 10, 64)            49408     \n",
      "_________________________________________________________________\n",
      "dropout_1 (Dropout)          (None, 10, 64)            0         \n",
      "_________________________________________________________________\n",
      "lstm_2 (LSTM)                (None, 32)                12416     \n",
      "_________________________________________________________________\n",
      "dropout_2 (Dropout)          (None, 32)                0         \n",
      "_________________________________________________________________\n",
      "dense (Dense)                (None, 1)                 33        \n",
      "=================================================================\n",
      "Total params: 128,417\n",
      "Trainable params: 128,417\n",
      "Non-trainable params: 0\n",
      "_________________________________________________________________\n",
      "None\n"
     ]
    }
   ],
   "source": [
    "model = Sequential([\n",
    "    LSTM(128, return_sequences=True, input_shape=(seq_size, 1)),\n",
    "    Dropout((0.1)),\n",
    "    LSTM(64, return_sequences=True),\n",
    "    Dropout((0.1)),\n",
    "    LSTM(32),\n",
    "    Dropout((0.1)),\n",
    "    Dense(1)\n",
    "]) \n",
    "\n",
    "print(model.summary())"
   ]
  },
  {
   "cell_type": "code",
   "execution_count": 16,
   "metadata": {},
   "outputs": [],
   "source": [
    "model.compile(loss='mean_squared_error', optimizer='adam')"
   ]
  },
  {
   "cell_type": "markdown",
   "metadata": {},
   "source": [
    "## Training"
   ]
  },
  {
   "cell_type": "code",
   "execution_count": 17,
   "metadata": {},
   "outputs": [
    {
     "name": "stdout",
     "output_type": "stream",
     "text": [
      "Epoch 1/100\n",
      "59/59 - 7s - loss: 7.2522e-04 - val_loss: 0.0014\n",
      "Epoch 2/100\n",
      "59/59 - 0s - loss: 1.4552e-04 - val_loss: 0.0013\n",
      "Epoch 3/100\n",
      "59/59 - 0s - loss: 1.8272e-04 - val_loss: 0.0035\n",
      "Epoch 4/100\n",
      "59/59 - 0s - loss: 1.8999e-04 - val_loss: 0.0024\n",
      "Epoch 5/100\n",
      "59/59 - 0s - loss: 1.1694e-04 - val_loss: 0.0012\n",
      "Epoch 6/100\n",
      "59/59 - 0s - loss: 1.1725e-04 - val_loss: 0.0012\n",
      "Epoch 7/100\n",
      "59/59 - 0s - loss: 1.1599e-04 - val_loss: 0.0012\n",
      "Epoch 8/100\n",
      "59/59 - 0s - loss: 1.1342e-04 - val_loss: 0.0013\n",
      "Epoch 9/100\n",
      "59/59 - 0s - loss: 1.1642e-04 - val_loss: 0.0022\n",
      "Epoch 10/100\n",
      "59/59 - 0s - loss: 1.0783e-04 - val_loss: 0.0018\n",
      "Epoch 11/100\n",
      "59/59 - 0s - loss: 1.1961e-04 - val_loss: 0.0012\n",
      "Epoch 12/100\n",
      "59/59 - 0s - loss: 1.0352e-04 - val_loss: 0.0018\n",
      "Epoch 13/100\n",
      "59/59 - 0s - loss: 1.0882e-04 - val_loss: 0.0017\n",
      "Epoch 14/100\n",
      "59/59 - 0s - loss: 1.0159e-04 - val_loss: 0.0021\n",
      "Epoch 15/100\n",
      "59/59 - 0s - loss: 1.0895e-04 - val_loss: 0.0016\n",
      "Epoch 16/100\n",
      "59/59 - 0s - loss: 1.0105e-04 - val_loss: 9.2769e-04\n",
      "Epoch 17/100\n",
      "59/59 - 0s - loss: 9.1951e-05 - val_loss: 0.0011\n",
      "Epoch 18/100\n",
      "59/59 - 0s - loss: 1.2056e-04 - val_loss: 9.0256e-04\n",
      "Epoch 19/100\n",
      "59/59 - 0s - loss: 8.9918e-05 - val_loss: 0.0015\n",
      "Epoch 20/100\n",
      "59/59 - 0s - loss: 9.8588e-05 - val_loss: 8.5559e-04\n",
      "Epoch 21/100\n",
      "59/59 - 0s - loss: 7.6953e-05 - val_loss: 6.2656e-04\n",
      "Epoch 22/100\n",
      "59/59 - 0s - loss: 8.0308e-05 - val_loss: 8.4821e-04\n",
      "Epoch 23/100\n",
      "59/59 - 1s - loss: 8.1476e-05 - val_loss: 8.0646e-04\n",
      "Epoch 24/100\n",
      "59/59 - 0s - loss: 7.5698e-05 - val_loss: 0.0011\n",
      "Epoch 25/100\n",
      "59/59 - 0s - loss: 7.8831e-05 - val_loss: 0.0022\n",
      "Epoch 26/100\n",
      "59/59 - 0s - loss: 8.4206e-05 - val_loss: 5.9127e-04\n",
      "Epoch 27/100\n",
      "59/59 - 0s - loss: 7.5079e-05 - val_loss: 5.5556e-04\n",
      "Epoch 28/100\n",
      "59/59 - 0s - loss: 8.0416e-05 - val_loss: 0.0012\n",
      "Epoch 29/100\n",
      "59/59 - 0s - loss: 5.5229e-05 - val_loss: 0.0010\n",
      "Epoch 30/100\n",
      "59/59 - 0s - loss: 8.1829e-05 - val_loss: 9.8610e-04\n",
      "Epoch 31/100\n",
      "59/59 - 0s - loss: 7.0374e-05 - val_loss: 9.1419e-04\n",
      "Epoch 32/100\n",
      "59/59 - 0s - loss: 7.6836e-05 - val_loss: 0.0024\n",
      "Epoch 33/100\n",
      "59/59 - 0s - loss: 7.6318e-05 - val_loss: 6.2111e-04\n",
      "Epoch 34/100\n",
      "59/59 - 0s - loss: 5.5133e-05 - val_loss: 0.0016\n",
      "Epoch 35/100\n",
      "59/59 - 0s - loss: 6.7727e-05 - val_loss: 0.0013\n",
      "Epoch 36/100\n",
      "59/59 - 0s - loss: 6.8167e-05 - val_loss: 7.5150e-04\n",
      "Epoch 37/100\n",
      "59/59 - 0s - loss: 7.8356e-05 - val_loss: 3.8544e-04\n",
      "Epoch 38/100\n",
      "59/59 - 0s - loss: 5.4990e-05 - val_loss: 7.5192e-04\n",
      "Epoch 39/100\n",
      "59/59 - 1s - loss: 5.8943e-05 - val_loss: 5.2340e-04\n",
      "Epoch 40/100\n",
      "59/59 - 1s - loss: 7.2316e-05 - val_loss: 9.1720e-04\n",
      "Epoch 41/100\n",
      "59/59 - 0s - loss: 5.4711e-05 - val_loss: 6.3280e-04\n",
      "Epoch 42/100\n",
      "59/59 - 0s - loss: 6.5816e-05 - val_loss: 6.6464e-04\n",
      "Epoch 43/100\n",
      "59/59 - 0s - loss: 5.9726e-05 - val_loss: 5.6410e-04\n",
      "Epoch 44/100\n",
      "59/59 - 0s - loss: 4.7774e-05 - val_loss: 4.7483e-04\n",
      "Epoch 45/100\n",
      "59/59 - 0s - loss: 6.1589e-05 - val_loss: 4.3291e-04\n",
      "Epoch 46/100\n",
      "59/59 - 0s - loss: 6.8019e-05 - val_loss: 0.0014\n",
      "Epoch 47/100\n",
      "59/59 - 0s - loss: 5.4048e-05 - val_loss: 4.7883e-04\n",
      "Epoch 48/100\n",
      "59/59 - 1s - loss: 5.5847e-05 - val_loss: 3.9844e-04\n",
      "Epoch 49/100\n",
      "59/59 - 0s - loss: 5.2398e-05 - val_loss: 6.4818e-04\n",
      "Epoch 50/100\n",
      "59/59 - 0s - loss: 5.3782e-05 - val_loss: 5.2938e-04\n",
      "Epoch 51/100\n",
      "59/59 - 0s - loss: 6.8800e-05 - val_loss: 7.6406e-04\n",
      "Epoch 52/100\n",
      "59/59 - 0s - loss: 6.2739e-05 - val_loss: 0.0011\n",
      "Epoch 53/100\n",
      "59/59 - 0s - loss: 5.3374e-05 - val_loss: 0.0015\n",
      "Epoch 54/100\n",
      "59/59 - 0s - loss: 5.7594e-05 - val_loss: 4.2282e-04\n",
      "Epoch 55/100\n",
      "59/59 - 0s - loss: 6.2755e-05 - val_loss: 3.2604e-04\n",
      "Epoch 56/100\n",
      "59/59 - 0s - loss: 5.5182e-05 - val_loss: 5.3149e-04\n",
      "Epoch 57/100\n",
      "59/59 - 0s - loss: 5.7943e-05 - val_loss: 7.2481e-04\n",
      "Epoch 58/100\n",
      "59/59 - 0s - loss: 4.9169e-05 - val_loss: 4.0333e-04\n",
      "Epoch 59/100\n",
      "59/59 - 0s - loss: 4.9015e-05 - val_loss: 8.8095e-04\n",
      "Epoch 60/100\n",
      "59/59 - 0s - loss: 5.5159e-05 - val_loss: 2.4680e-04\n",
      "Epoch 61/100\n",
      "59/59 - 0s - loss: 5.8880e-05 - val_loss: 9.2478e-04\n",
      "Epoch 62/100\n",
      "59/59 - 0s - loss: 5.0863e-05 - val_loss: 3.7887e-04\n",
      "Epoch 63/100\n",
      "59/59 - 0s - loss: 6.5422e-05 - val_loss: 5.9134e-04\n",
      "Epoch 64/100\n",
      "59/59 - 0s - loss: 5.1505e-05 - val_loss: 2.9261e-04\n",
      "Epoch 65/100\n",
      "59/59 - 0s - loss: 5.7079e-05 - val_loss: 3.1677e-04\n",
      "Epoch 66/100\n",
      "59/59 - 0s - loss: 5.3463e-05 - val_loss: 2.4961e-04\n",
      "Epoch 67/100\n",
      "59/59 - 0s - loss: 4.9232e-05 - val_loss: 3.0654e-04\n",
      "Epoch 68/100\n",
      "59/59 - 0s - loss: 5.8106e-05 - val_loss: 1.7029e-04\n",
      "Epoch 69/100\n",
      "59/59 - 0s - loss: 4.5991e-05 - val_loss: 2.2866e-04\n",
      "Epoch 70/100\n",
      "59/59 - 0s - loss: 4.1301e-05 - val_loss: 2.2307e-04\n",
      "Epoch 71/100\n",
      "59/59 - 0s - loss: 4.9188e-05 - val_loss: 5.7429e-04\n",
      "Epoch 72/100\n",
      "59/59 - 0s - loss: 5.1326e-05 - val_loss: 3.2260e-04\n",
      "Epoch 73/100\n",
      "59/59 - 0s - loss: 4.7070e-05 - val_loss: 2.7256e-04\n",
      "Epoch 74/100\n",
      "59/59 - 1s - loss: 5.0210e-05 - val_loss: 2.9458e-04\n",
      "Epoch 75/100\n",
      "59/59 - 0s - loss: 4.1626e-05 - val_loss: 2.9196e-04\n",
      "Epoch 76/100\n",
      "59/59 - 0s - loss: 4.3286e-05 - val_loss: 7.6919e-04\n",
      "Epoch 77/100\n",
      "59/59 - 0s - loss: 4.3376e-05 - val_loss: 3.6320e-04\n",
      "Epoch 78/100\n",
      "59/59 - 0s - loss: 4.6877e-05 - val_loss: 0.0010\n",
      "Epoch 79/100\n",
      "59/59 - 0s - loss: 4.5859e-05 - val_loss: 2.6338e-04\n",
      "Epoch 80/100\n",
      "59/59 - 0s - loss: 4.9150e-05 - val_loss: 2.1645e-04\n",
      "Epoch 81/100\n",
      "59/59 - 0s - loss: 4.4260e-05 - val_loss: 2.8831e-04\n",
      "Epoch 82/100\n",
      "59/59 - 0s - loss: 5.0320e-05 - val_loss: 2.3187e-04\n",
      "Epoch 83/100\n",
      "59/59 - 0s - loss: 5.1156e-05 - val_loss: 1.9905e-04\n",
      "Epoch 84/100\n",
      "59/59 - 0s - loss: 4.1584e-05 - val_loss: 2.0214e-04\n",
      "Epoch 85/100\n",
      "59/59 - 0s - loss: 4.7759e-05 - val_loss: 4.9491e-04\n",
      "Epoch 86/100\n",
      "59/59 - 0s - loss: 4.2830e-05 - val_loss: 4.7577e-04\n",
      "Epoch 87/100\n",
      "59/59 - 0s - loss: 4.5435e-05 - val_loss: 4.5171e-04\n",
      "Epoch 88/100\n",
      "59/59 - 0s - loss: 4.8095e-05 - val_loss: 5.3543e-04\n",
      "Epoch 89/100\n",
      "59/59 - 0s - loss: 4.7262e-05 - val_loss: 3.9420e-04\n",
      "Epoch 90/100\n",
      "59/59 - 0s - loss: 4.3532e-05 - val_loss: 3.1125e-04\n",
      "Epoch 91/100\n",
      "59/59 - 0s - loss: 4.6141e-05 - val_loss: 2.9382e-04\n",
      "Epoch 92/100\n",
      "59/59 - 0s - loss: 4.4363e-05 - val_loss: 2.6219e-04\n",
      "Epoch 93/100\n",
      "59/59 - 0s - loss: 3.5952e-05 - val_loss: 2.6391e-04\n",
      "Epoch 94/100\n",
      "59/59 - 0s - loss: 4.3928e-05 - val_loss: 2.9864e-04\n",
      "Epoch 95/100\n",
      "59/59 - 0s - loss: 4.9119e-05 - val_loss: 2.5085e-04\n",
      "Epoch 96/100\n",
      "59/59 - 0s - loss: 4.5955e-05 - val_loss: 1.8829e-04\n",
      "Epoch 97/100\n",
      "59/59 - 0s - loss: 4.2547e-05 - val_loss: 1.7899e-04\n",
      "Epoch 98/100\n",
      "59/59 - 0s - loss: 4.3622e-05 - val_loss: 5.9591e-04\n",
      "Epoch 99/100\n",
      "59/59 - 0s - loss: 5.0185e-05 - val_loss: 3.7515e-04\n",
      "Epoch 100/100\n",
      "59/59 - 0s - loss: 3.9716e-05 - val_loss: 2.8014e-04\n"
     ]
    },
    {
     "data": {
      "text/plain": [
       "<tensorflow.python.keras.callbacks.History at 0x7fde4c386e50>"
      ]
     },
     "execution_count": 17,
     "metadata": {},
     "output_type": "execute_result"
    }
   ],
   "source": [
    "model.fit(trainX, trainY, validation_data=(testX, testY),\n",
    "          verbose=2, epochs=100)"
   ]
  },
  {
   "cell_type": "markdown",
   "metadata": {},
   "source": [
    "## Predictions"
   ]
  },
  {
   "cell_type": "code",
   "execution_count": 18,
   "metadata": {},
   "outputs": [
    {
     "name": "stdout",
     "output_type": "stream",
     "text": [
      "Train Score: 252.59 RMSE\n",
      "Test Score: 961.92 RMSE\n"
     ]
    }
   ],
   "source": [
    "trainPredict = model.predict(trainX)\n",
    "testPredict = model.predict(testX)\n",
    "\n",
    "# Since we used minmaxscaler we can now use scaler.inverse_transform\n",
    "# to invert the transformation.\n",
    "\n",
    "trainPredict = scaler.inverse_transform(trainPredict)\n",
    "trainY_inverse = scaler.inverse_transform([trainY])\n",
    "testPredict = scaler.inverse_transform(testPredict)\n",
    "testY_inverse = scaler.inverse_transform([testY])\n",
    "\n",
    "# Calculate root mean squared error\n",
    "trainScore = math.sqrt(mean_squared_error(trainY_inverse[0], trainPredict[:,0]))\n",
    "print(f'Train Score: {trainScore} RMSE')\n",
    "\n",
    "testScore = math.sqrt(mean_squared_error(testY_inverse[0], testPredict[:,0]))\n",
    "print(f'Test Score: {testScore} RMSE')"
   ]
  }
 ],
 "metadata": {
  "kernelspec": {
   "display_name": "Python 3",
   "language": "python",
   "name": "python3"
  },
  "language_info": {
   "codemirror_mode": {
    "name": "ipython",
    "version": 3
   },
   "file_extension": ".py",
   "mimetype": "text/x-python",
   "name": "python",
   "nbconvert_exporter": "python",
   "pygments_lexer": "ipython3",
   "version": "3.7.10"
  }
 },
 "nbformat": 4,
 "nbformat_minor": 4
}
