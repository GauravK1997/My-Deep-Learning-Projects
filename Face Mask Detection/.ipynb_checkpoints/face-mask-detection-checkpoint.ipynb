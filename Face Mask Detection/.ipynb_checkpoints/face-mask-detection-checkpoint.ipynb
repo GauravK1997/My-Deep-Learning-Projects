{
 "cells": [
  {
   "cell_type": "markdown",
   "metadata": {},
   "source": [
    "# Problem Statement : (Binary Classification)\n",
    "\n",
    "## Create a Neural Network model to predict whether a person is wearing a mask or not"
   ]
  },
  {
   "cell_type": "markdown",
   "metadata": {},
   "source": [
    "## Importing the required libraries"
   ]
  },
  {
   "cell_type": "code",
   "execution_count": 1,
   "metadata": {},
   "outputs": [],
   "source": [
    "import os\n",
    "import matplotlib.pyplot as plt\n",
    "import tensorflow as tf\n",
    "from tensorflow import keras\n",
    "from tensorflow.keras import models\n",
    "from tensorflow.keras import layers\n",
    "from tensorflow.keras.preprocessing.image import ImageDataGenerator\n",
    "from tensorflow.keras.applications.vgg16 import VGG16"
   ]
  },
  {
   "cell_type": "code",
   "execution_count": 2,
   "metadata": {},
   "outputs": [
    {
     "name": "stdout",
     "output_type": "stream",
     "text": [
      "['Validation', 'Test', 'Train']\n"
     ]
    }
   ],
   "source": [
    "print(os.listdir('../input/face-mask-12k-images-dataset/Face Mask Dataset/'))"
   ]
  },
  {
   "cell_type": "markdown",
   "metadata": {},
   "source": [
    "## Paths for Train & Test directories"
   ]
  },
  {
   "cell_type": "code",
   "execution_count": 3,
   "metadata": {},
   "outputs": [],
   "source": [
    "train_dir = '../input/face-mask-12k-images-dataset/Face Mask Dataset/Train'\n",
    "test_dir = '../input/face-mask-12k-images-dataset/Face Mask Dataset/Test'\n",
    "val_dir = '../input/face-mask-12k-images-dataset/Face Mask Dataset/Validation'"
   ]
  },
  {
   "cell_type": "markdown",
   "metadata": {},
   "source": [
    "## Generating extra data from the existing data by using Data Augmentation"
   ]
  },
  {
   "cell_type": "code",
   "execution_count": 4,
   "metadata": {},
   "outputs": [],
   "source": [
    "train_datagen = ImageDataGenerator(rescale=1./255,\n",
    "                                   rotation_range=40,\n",
    "                                   width_shift_range=0.2,\n",
    "                                   height_shift_range=0.2,\n",
    "                                   shear_range=0.2,\n",
    "                                   zoom_range=0.2,\n",
    "                                   horizontal_flip=True)\n",
    "\n",
    "val_datagen = ImageDataGenerator(rescale=1./255,\n",
    "                                   rotation_range=40,\n",
    "                                   width_shift_range=0.2,\n",
    "                                   height_shift_range=0.2,\n",
    "                                   shear_range=0.2,\n",
    "                                   zoom_range=0.2,\n",
    "                                   horizontal_flip=True)"
   ]
  },
  {
   "cell_type": "code",
   "execution_count": 5,
   "metadata": {},
   "outputs": [
    {
     "name": "stdout",
     "output_type": "stream",
     "text": [
      "Found 10000 images belonging to 2 classes.\n",
      "Found 800 images belonging to 2 classes.\n"
     ]
    }
   ],
   "source": [
    "train_generator = train_datagen.flow_from_directory(train_dir,\n",
    "                                                    target_size=(150,150),\n",
    "                                                    batch_size=32,\n",
    "                                                    class_mode='binary')\n",
    "\n",
    "validation_generator = val_datagen.flow_from_directory(val_dir,\n",
    "                                                        target_size=(150,150),\n",
    "                                                        batch_size=32,\n",
    "                                                        class_mode='binary')"
   ]
  },
  {
   "cell_type": "markdown",
   "metadata": {},
   "source": [
    "## Model Building (Transfer Learning : VGG16)"
   ]
  },
  {
   "cell_type": "code",
   "execution_count": 6,
   "metadata": {},
   "outputs": [
    {
     "name": "stdout",
     "output_type": "stream",
     "text": [
      "Downloading data from https://storage.googleapis.com/tensorflow/keras-applications/vgg16/vgg16_weights_tf_dim_ordering_tf_kernels_notop.h5\n",
      "58892288/58889256 [==============================] - 0s 0us/step\n"
     ]
    }
   ],
   "source": [
    "# Only including the Convolutional layers and ignoring the further Dense layers \n",
    "# (as our application differs from the one the model was trained upon)\n",
    "\n",
    "conv_base = VGG16(include_top=False, input_shape=(150,150,3))"
   ]
  },
  {
   "cell_type": "code",
   "execution_count": 7,
   "metadata": {},
   "outputs": [],
   "source": [
    "# Not training the already trained Convolutional layers from the Pre-trained model\n",
    "for layer in conv_base.layers:\n",
    "    layer.trainable = False"
   ]
  },
  {
   "cell_type": "code",
   "execution_count": 8,
   "metadata": {},
   "outputs": [],
   "source": [
    "# Model with Convolutional Base = VGG16 & Classifier = Custom made\n",
    "model = models.Sequential([\n",
    "                           conv_base,\n",
    "                           layers.Flatten(),\n",
    "                           layers.Dropout((0.3)),\n",
    "                           layers.Dense(512, activation='relu'),\n",
    "                           layers.BatchNormalization(),\n",
    "                           layers.Dense(256, activation='relu'),\n",
    "                           layers.Dense(1, activation='sigmoid')\n",
    "])"
   ]
  },
  {
   "cell_type": "code",
   "execution_count": 9,
   "metadata": {},
   "outputs": [
    {
     "name": "stdout",
     "output_type": "stream",
     "text": [
      "Model: \"sequential\"\n",
      "_________________________________________________________________\n",
      "Layer (type)                 Output Shape              Param #   \n",
      "=================================================================\n",
      "vgg16 (Functional)           (None, 4, 4, 512)         14714688  \n",
      "_________________________________________________________________\n",
      "flatten (Flatten)            (None, 8192)              0         \n",
      "_________________________________________________________________\n",
      "dropout (Dropout)            (None, 8192)              0         \n",
      "_________________________________________________________________\n",
      "dense (Dense)                (None, 512)               4194816   \n",
      "_________________________________________________________________\n",
      "batch_normalization (BatchNo (None, 512)               2048      \n",
      "_________________________________________________________________\n",
      "dense_1 (Dense)              (None, 256)               131328    \n",
      "_________________________________________________________________\n",
      "dense_2 (Dense)              (None, 1)                 257       \n",
      "=================================================================\n",
      "Total params: 19,043,137\n",
      "Trainable params: 4,327,425\n",
      "Non-trainable params: 14,715,712\n",
      "_________________________________________________________________\n"
     ]
    }
   ],
   "source": [
    "model.summary()"
   ]
  },
  {
   "cell_type": "code",
   "execution_count": 10,
   "metadata": {},
   "outputs": [],
   "source": [
    "model.compile(tf.keras.optimizers.Adam(learning_rate=2e-5),\n",
    "              tf.keras.losses.binary_crossentropy,\n",
    "              metrics=['accuracy'])"
   ]
  },
  {
   "cell_type": "code",
   "execution_count": 11,
   "metadata": {},
   "outputs": [],
   "source": [
    "callback = tf.keras.callbacks.EarlyStopping(monitor='loss', patience=3)"
   ]
  },
  {
   "cell_type": "markdown",
   "metadata": {},
   "source": [
    "## Training"
   ]
  },
  {
   "cell_type": "code",
   "execution_count": 12,
   "metadata": {},
   "outputs": [
    {
     "name": "stdout",
     "output_type": "stream",
     "text": [
      "Epoch 1/20\n",
      "313/313 [==============================] - 520s 2s/step - loss: 0.5617 - accuracy: 0.7022 - val_loss: 0.1716 - val_accuracy: 0.9425\n",
      "Epoch 2/20\n",
      "313/313 [==============================] - 503s 2s/step - loss: 0.1827 - accuracy: 0.9297 - val_loss: 0.1122 - val_accuracy: 0.9650\n",
      "Epoch 3/20\n",
      "313/313 [==============================] - 503s 2s/step - loss: 0.1458 - accuracy: 0.9470 - val_loss: 0.0929 - val_accuracy: 0.9700\n",
      "Epoch 4/20\n",
      "313/313 [==============================] - 503s 2s/step - loss: 0.1235 - accuracy: 0.9525 - val_loss: 0.0789 - val_accuracy: 0.9762\n",
      "Epoch 5/20\n",
      "313/313 [==============================] - 503s 2s/step - loss: 0.1031 - accuracy: 0.9595 - val_loss: 0.0765 - val_accuracy: 0.9787\n",
      "Epoch 6/20\n",
      "313/313 [==============================] - 504s 2s/step - loss: 0.0970 - accuracy: 0.9648 - val_loss: 0.0739 - val_accuracy: 0.9725\n",
      "Epoch 7/20\n",
      "313/313 [==============================] - 503s 2s/step - loss: 0.0996 - accuracy: 0.9635 - val_loss: 0.0735 - val_accuracy: 0.9700\n",
      "Epoch 8/20\n",
      "313/313 [==============================] - 503s 2s/step - loss: 0.0951 - accuracy: 0.9645 - val_loss: 0.0654 - val_accuracy: 0.9775\n",
      "Epoch 9/20\n",
      "313/313 [==============================] - 503s 2s/step - loss: 0.0835 - accuracy: 0.9700 - val_loss: 0.0596 - val_accuracy: 0.9787\n",
      "Epoch 10/20\n",
      "313/313 [==============================] - 503s 2s/step - loss: 0.0959 - accuracy: 0.9610 - val_loss: 0.0578 - val_accuracy: 0.9800\n",
      "Epoch 11/20\n",
      "313/313 [==============================] - 503s 2s/step - loss: 0.0884 - accuracy: 0.9664 - val_loss: 0.0738 - val_accuracy: 0.9762\n",
      "Epoch 12/20\n",
      "313/313 [==============================] - 503s 2s/step - loss: 0.0846 - accuracy: 0.9655 - val_loss: 0.0467 - val_accuracy: 0.9837\n",
      "Epoch 13/20\n",
      "313/313 [==============================] - 503s 2s/step - loss: 0.0754 - accuracy: 0.9682 - val_loss: 0.0570 - val_accuracy: 0.9825\n",
      "Epoch 14/20\n",
      "313/313 [==============================] - 503s 2s/step - loss: 0.0779 - accuracy: 0.9712 - val_loss: 0.0450 - val_accuracy: 0.9787\n",
      "Epoch 15/20\n",
      "313/313 [==============================] - 503s 2s/step - loss: 0.0672 - accuracy: 0.9748 - val_loss: 0.0528 - val_accuracy: 0.9862\n",
      "Epoch 16/20\n",
      "313/313 [==============================] - 503s 2s/step - loss: 0.0639 - accuracy: 0.9756 - val_loss: 0.0494 - val_accuracy: 0.9837\n",
      "Epoch 17/20\n",
      "313/313 [==============================] - 503s 2s/step - loss: 0.0733 - accuracy: 0.9739 - val_loss: 0.0301 - val_accuracy: 0.9887\n",
      "Epoch 18/20\n",
      "313/313 [==============================] - 503s 2s/step - loss: 0.0706 - accuracy: 0.9737 - val_loss: 0.0660 - val_accuracy: 0.9787\n",
      "Epoch 19/20\n",
      "313/313 [==============================] - 503s 2s/step - loss: 0.0604 - accuracy: 0.9774 - val_loss: 0.0462 - val_accuracy: 0.9850\n",
      "Epoch 20/20\n",
      "313/313 [==============================] - 503s 2s/step - loss: 0.0671 - accuracy: 0.9750 - val_loss: 0.0364 - val_accuracy: 0.9887\n"
     ]
    }
   ],
   "source": [
    "history = model.fit(train_generator,\n",
    "                             steps_per_epoch=313,\n",
    "                             epochs=20,\n",
    "                             validation_data=validation_generator,\n",
    "                            validation_steps=25,\n",
    "                           callbacks=[callback])\n",
    "\n",
    "model.save('face-mask-detection.h5')"
   ]
  },
  {
   "cell_type": "code",
   "execution_count": 13,
   "metadata": {},
   "outputs": [
    {
     "data": {
      "text/plain": [
       "{'loss': [0.3744938373565674,\n",
       "  0.1666763722896576,\n",
       "  0.13614331185817719,\n",
       "  0.11638551950454712,\n",
       "  0.10113326460123062,\n",
       "  0.10308384150266647,\n",
       "  0.09405937790870667,\n",
       "  0.09045100212097168,\n",
       "  0.08693844825029373,\n",
       "  0.0937470868229866,\n",
       "  0.0829392671585083,\n",
       "  0.08121796697378159,\n",
       "  0.08157549798488617,\n",
       "  0.07958493381738663,\n",
       "  0.0712767243385315,\n",
       "  0.0677250549197197,\n",
       "  0.07207569479942322,\n",
       "  0.07007740437984467,\n",
       "  0.06746026128530502,\n",
       "  0.06907310336828232],\n",
       " 'accuracy': [0.820900022983551,\n",
       "  0.9365000128746033,\n",
       "  0.9495999813079834,\n",
       "  0.9562000036239624,\n",
       "  0.9606000185012817,\n",
       "  0.9620000123977661,\n",
       "  0.9656999707221985,\n",
       "  0.9664999842643738,\n",
       "  0.9678000211715698,\n",
       "  0.9634000062942505,\n",
       "  0.9682000279426575,\n",
       "  0.9690999984741211,\n",
       "  0.968500018119812,\n",
       "  0.9695000052452087,\n",
       "  0.9733999967575073,\n",
       "  0.9732999801635742,\n",
       "  0.9739000201225281,\n",
       "  0.9725000262260437,\n",
       "  0.973800003528595,\n",
       "  0.9745000004768372],\n",
       " 'val_loss': [0.17158010601997375,\n",
       "  0.11220720410346985,\n",
       "  0.09290231019258499,\n",
       "  0.07894968241453171,\n",
       "  0.07654375582933426,\n",
       "  0.07394418865442276,\n",
       "  0.07351899147033691,\n",
       "  0.0654294341802597,\n",
       "  0.059631913900375366,\n",
       "  0.05779995769262314,\n",
       "  0.073766328394413,\n",
       "  0.04674065113067627,\n",
       "  0.05696376785635948,\n",
       "  0.04500596970319748,\n",
       "  0.05277794972062111,\n",
       "  0.04941535368561745,\n",
       "  0.030140861868858337,\n",
       "  0.06602038443088531,\n",
       "  0.046192120760679245,\n",
       "  0.03640018776059151],\n",
       " 'val_accuracy': [0.9424999952316284,\n",
       "  0.9649999737739563,\n",
       "  0.9700000286102295,\n",
       "  0.9762499928474426,\n",
       "  0.9787499904632568,\n",
       "  0.9725000262260437,\n",
       "  0.9700000286102295,\n",
       "  0.9775000214576721,\n",
       "  0.9787499904632568,\n",
       "  0.9800000190734863,\n",
       "  0.9762499928474426,\n",
       "  0.9837499856948853,\n",
       "  0.9825000166893005,\n",
       "  0.9787499904632568,\n",
       "  0.9862499833106995,\n",
       "  0.9837499856948853,\n",
       "  0.9887499809265137,\n",
       "  0.9787499904632568,\n",
       "  0.9850000143051147,\n",
       "  0.9887499809265137]}"
      ]
     },
     "execution_count": 13,
     "metadata": {},
     "output_type": "execute_result"
    }
   ],
   "source": [
    "history.history"
   ]
  },
  {
   "cell_type": "markdown",
   "metadata": {},
   "source": [
    "## Results"
   ]
  },
  {
   "cell_type": "code",
   "execution_count": 14,
   "metadata": {},
   "outputs": [],
   "source": [
    "acc = history.history['accuracy']\n",
    "val_acc = history.history['val_accuracy']\n",
    "loss = history.history['loss']\n",
    "val_loss = history.history['val_loss']\n",
    "\n",
    "epochs = range(1, len(acc) + 1)"
   ]
  },
  {
   "cell_type": "code",
   "execution_count": 15,
   "metadata": {},
   "outputs": [
    {
     "name": "stdout",
     "output_type": "stream",
     "text": [
      "Training Accuracy : 0.9582950055599213\n",
      "Training Loss : 0.1053058985620737\n",
      "Validation Accuracy : 0.9771874994039536\n",
      "Validation Loss : 0.06829655598849058\n"
     ]
    }
   ],
   "source": [
    "print(f'Training Accuracy : {sum(acc)/len(acc)}')\n",
    "print(f'Training Loss : {sum(loss)/len(loss)}')\n",
    "print(f'Validation Accuracy : {sum(val_acc)/len(val_acc)}')\n",
    "print(f'Validation Loss : {sum(val_loss)/len(val_loss)}')"
   ]
  },
  {
   "cell_type": "code",
   "execution_count": 16,
   "metadata": {},
   "outputs": [
    {
     "name": "stdout",
     "output_type": "stream",
     "text": [
      "Found 992 images belonging to 2 classes.\n"
     ]
    }
   ],
   "source": [
    "test_datagen = ImageDataGenerator(rescale=1./255)\n",
    "\n",
    "test_generator = test_datagen.flow_from_directory(test_dir,\n",
    "                                                    target_size=(150,150),\n",
    "                                                    batch_size=32,\n",
    "                                                    class_mode='binary',\n",
    ")"
   ]
  },
  {
   "cell_type": "code",
   "execution_count": 17,
   "metadata": {},
   "outputs": [
    {
     "name": "stdout",
     "output_type": "stream",
     "text": [
      "31/31 [==============================] - 46s 1s/step - loss: 0.0122 - accuracy: 0.9960\n",
      "Test Loss : 0.012199259363114834 \n",
      " Test Accuracy : 0.9959677457809448\n"
     ]
    }
   ],
   "source": [
    "test_loss, test_acc = model.evaluate(test_generator)\n",
    "print(f\"Test Loss : {test_loss} \\n Test Accuracy : {test_acc}\")"
   ]
  },
  {
   "cell_type": "code",
   "execution_count": 18,
   "metadata": {},
   "outputs": [
    {
     "data": {
      "image/png": "[encoded data removed]",
      "text/plain": [
       "<Figure size 432x288 with 1 Axes>"
      ]
     },
     "metadata": {
      "needs_background": "light"
     },
     "output_type": "display_data"
    },
    {
     "data": {
      "image/png": "[encoded data removed]",
      "text/plain": [
       "<Figure size 432x288 with 1 Axes>"
      ]
     },
     "metadata": {
      "needs_background": "light"
     },
     "output_type": "display_data"
    }
   ],
   "source": [
    "plt.plot(epochs, acc, 'bo', label='Training Accuracy')\n",
    "plt.plot(epochs, val_acc, 'ro', label='Validation Accuracy')\n",
    "plt.title('Training & Validation Accuracy')\n",
    "plt.legend()\n",
    "\n",
    "plt.figure()\n",
    "\n",
    "plt.plot(epochs, loss, 'bo', label='Training Loss')\n",
    "plt.plot(epochs, val_loss, 'ro', label='Validation Loss')\n",
    "plt.title('Training & Validation Loss')\n",
    "plt.legend()\n",
    "\n",
    "plt.show() "
   ]
  }
 ],
 "metadata": {
  "kernelspec": {
   "display_name": "Python 3",
   "language": "python",
   "name": "python3"
  },
  "language_info": {
   "codemirror_mode": {
    "name": "ipython",
    "version": 3
   },
   "file_extension": ".py",
   "mimetype": "text/x-python",
   "name": "python",
   "nbconvert_exporter": "python",
   "pygments_lexer": "ipython3",
   "version": "3.7.10"
  }
 },
 "nbformat": 4,
 "nbformat_minor": 4
}
