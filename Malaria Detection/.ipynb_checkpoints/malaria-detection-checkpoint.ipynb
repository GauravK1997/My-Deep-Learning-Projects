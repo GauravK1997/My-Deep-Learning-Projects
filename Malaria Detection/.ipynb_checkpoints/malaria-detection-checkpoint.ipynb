{
 "cells": [
  {
   "cell_type": "markdown",
   "metadata": {},
   "source": [
    "# Problem Statement : (Binary Classification)\n",
    "## Given the samples of image cells, create a Neural Network model to predict whether a \n",
    "## patient is affected by Malaria disease or not"
   ]
  },
  {
   "cell_type": "markdown",
   "metadata": {},
   "source": [
    "## Importing the required libraries"
   ]
  },
  {
   "cell_type": "code",
   "execution_count": 14,
   "metadata": {},
   "outputs": [],
   "source": [
    "import os\n",
    "import tensorflow as tf\n",
    "from tensorflow import keras\n",
    "from tensorflow.keras import models\n",
    "from tensorflow.keras import layers\n",
    "from tensorflow.keras.preprocessing.image import ImageDataGenerator\n",
    "import matplotlib.pyplot as plt"
   ]
  },
  {
   "cell_type": "code",
   "execution_count": 15,
   "metadata": {},
   "outputs": [
    {
     "name": "stdout",
     "output_type": "stream",
     "text": [
      "['cell-images-for-detecting-malaria']\n"
     ]
    }
   ],
   "source": [
    "print(os.listdir(\"../input\"))"
   ]
  },
  {
   "cell_type": "code",
   "execution_count": 16,
   "metadata": {},
   "outputs": [
    {
     "name": "stdout",
     "output_type": "stream",
     "text": [
      "['Uninfected', 'Parasitized']\n"
     ]
    }
   ],
   "source": [
    "print(os.listdir(\"../input/cell-images-for-detecting-malaria/cell_images/cell_images/\"))"
   ]
  },
  {
   "cell_type": "markdown",
   "metadata": {},
   "source": [
    "## Path for the Image directory"
   ]
  },
  {
   "cell_type": "code",
   "execution_count": 17,
   "metadata": {},
   "outputs": [],
   "source": [
    "img_dir = '../input/cell-images-for-detecting-malaria/cell_images/cell_images/'"
   ]
  },
  {
   "cell_type": "markdown",
   "metadata": {},
   "source": [
    "## Generating extra data from the existing data by using Data Augmentation"
   ]
  },
  {
   "cell_type": "code",
   "execution_count": 18,
   "metadata": {},
   "outputs": [],
   "source": [
    "train_datagen = ImageDataGenerator(rescale=1./255,\n",
    "                                   rotation_range=40,\n",
    "                                   width_shift_range=0.2,\n",
    "                                   height_shift_range=0.2,\n",
    "                                   shear_range=0.2,\n",
    "                                   zoom_range=0.2,\n",
    "                                   horizontal_flip=True,\n",
    "                                  validation_split=0.2)\n",
    "\n",
    "test_datagen = ImageDataGenerator(rescale=1./255)"
   ]
  },
  {
   "cell_type": "code",
   "execution_count": 19,
   "metadata": {},
   "outputs": [
    {
     "name": "stdout",
     "output_type": "stream",
     "text": [
      "Found 22048 images belonging to 2 classes.\n",
      "Found 5510 images belonging to 2 classes.\n"
     ]
    }
   ],
   "source": [
    "train_generator = train_datagen.flow_from_directory(img_dir,\n",
    "                                                    target_size=(150,150),\n",
    "                                                    batch_size=32,\n",
    "                                                    class_mode='binary',\n",
    "                                                    subset='training')\n",
    "\n",
    "validation_generator = train_datagen.flow_from_directory(img_dir,\n",
    "                                                        target_size=(150,150),\n",
    "                                                        batch_size=32,\n",
    "                                                        class_mode='binary',\n",
    "                                                        subset='validation')"
   ]
  },
  {
   "cell_type": "markdown",
   "metadata": {},
   "source": [
    "## Model Building"
   ]
  },
  {
   "cell_type": "code",
   "execution_count": 20,
   "metadata": {},
   "outputs": [],
   "source": [
    "model = models.Sequential([\n",
    "                           layers.Conv2D(32, (3,3), activation='relu', input_shape=(150, 150, 3)),\n",
    "                           layers.Conv2D(64, (3,3), activation='relu', padding='same'),\n",
    "                           layers.MaxPooling2D((2,2)),\n",
    "\n",
    "                           layers.Conv2D(64, (3,3), activation='relu', padding='same'),\n",
    "                           layers.Conv2D(128, (3,3), activation='relu', padding='same'),\n",
    "                           layers.MaxPooling2D((2,2)),\n",
    "\n",
    "                           layers.Conv2D(128, (3,3), activation='relu', padding='same'),\n",
    "                           layers.MaxPooling2D((2,2)),\n",
    "\n",
    "                           layers.Dropout((0.3)),\n",
    "                           layers.Flatten(),\n",
    "\n",
    "                           layers.Dense(512, activation='relu'),\n",
    "                           layers.Dense(1, activation='sigmoid')\n",
    "\n",
    "\n",
    "])"
   ]
  },
  {
   "cell_type": "code",
   "execution_count": 21,
   "metadata": {},
   "outputs": [
    {
     "name": "stdout",
     "output_type": "stream",
     "text": [
      "Model: \"sequential_1\"\n",
      "_________________________________________________________________\n",
      "Layer (type)                 Output Shape              Param #   \n",
      "=================================================================\n",
      "conv2d_5 (Conv2D)            (None, 148, 148, 32)      896       \n",
      "_________________________________________________________________\n",
      "conv2d_6 (Conv2D)            (None, 148, 148, 64)      18496     \n",
      "_________________________________________________________________\n",
      "max_pooling2d_3 (MaxPooling2 (None, 74, 74, 64)        0         \n",
      "_________________________________________________________________\n",
      "conv2d_7 (Conv2D)            (None, 74, 74, 64)        36928     \n",
      "_________________________________________________________________\n",
      "conv2d_8 (Conv2D)            (None, 74, 74, 128)       73856     \n",
      "_________________________________________________________________\n",
      "max_pooling2d_4 (MaxPooling2 (None, 37, 37, 128)       0         \n",
      "_________________________________________________________________\n",
      "conv2d_9 (Conv2D)            (None, 37, 37, 128)       147584    \n",
      "_________________________________________________________________\n",
      "max_pooling2d_5 (MaxPooling2 (None, 18, 18, 128)       0         \n",
      "_________________________________________________________________\n",
      "dropout_1 (Dropout)          (None, 18, 18, 128)       0         \n",
      "_________________________________________________________________\n",
      "flatten_1 (Flatten)          (None, 41472)             0         \n",
      "_________________________________________________________________\n",
      "dense_2 (Dense)              (None, 512)               21234176  \n",
      "_________________________________________________________________\n",
      "dense_3 (Dense)              (None, 1)                 513       \n",
      "=================================================================\n",
      "Total params: 21,512,449\n",
      "Trainable params: 21,512,449\n",
      "Non-trainable params: 0\n",
      "_________________________________________________________________\n"
     ]
    }
   ],
   "source": [
    "model.summary()"
   ]
  },
  {
   "cell_type": "code",
   "execution_count": 22,
   "metadata": {},
   "outputs": [],
   "source": [
    "model.compile(tf.keras.optimizers.Adam(learning_rate=2e-5),\n",
    "              tf.keras.losses.binary_crossentropy,\n",
    "              metrics=['accuracy'])"
   ]
  },
  {
   "cell_type": "code",
   "execution_count": 23,
   "metadata": {},
   "outputs": [],
   "source": [
    "callback = tf.keras.callbacks.EarlyStopping(monitor='loss', patience=3)"
   ]
  },
  {
   "cell_type": "markdown",
   "metadata": {},
   "source": [
    "## Training"
   ]
  },
  {
   "cell_type": "code",
   "execution_count": 24,
   "metadata": {},
   "outputs": [
    {
     "name": "stdout",
     "output_type": "stream",
     "text": [
      "Epoch 1/20\n",
      "689/689 [==============================] - 293s 424ms/step - loss: 0.6559 - accuracy: 0.6071 - val_loss: 0.5990 - val_accuracy: 0.6860\n",
      "Epoch 2/20\n",
      "689/689 [==============================] - 269s 390ms/step - loss: 0.5615 - accuracy: 0.7302 - val_loss: 0.3125 - val_accuracy: 0.8844\n",
      "Epoch 3/20\n",
      "689/689 [==============================] - 269s 390ms/step - loss: 0.3335 - accuracy: 0.8661 - val_loss: 0.2630 - val_accuracy: 0.8924\n",
      "Epoch 4/20\n",
      "689/689 [==============================] - 271s 393ms/step - loss: 0.2644 - accuracy: 0.9018 - val_loss: 0.2674 - val_accuracy: 0.9138\n",
      "Epoch 5/20\n",
      "689/689 [==============================] - 269s 391ms/step - loss: 0.2609 - accuracy: 0.9037 - val_loss: 0.2553 - val_accuracy: 0.9045\n",
      "Epoch 6/20\n",
      "689/689 [==============================] - 268s 388ms/step - loss: 0.2426 - accuracy: 0.9137 - val_loss: 0.2411 - val_accuracy: 0.9114\n",
      "Epoch 7/20\n",
      "689/689 [==============================] - 268s 388ms/step - loss: 0.2356 - accuracy: 0.9182 - val_loss: 0.2593 - val_accuracy: 0.9122\n",
      "Epoch 8/20\n",
      "689/689 [==============================] - 268s 388ms/step - loss: 0.2268 - accuracy: 0.9237 - val_loss: 0.2383 - val_accuracy: 0.9122\n",
      "Epoch 9/20\n",
      "689/689 [==============================] - 267s 388ms/step - loss: 0.2184 - accuracy: 0.9258 - val_loss: 0.2385 - val_accuracy: 0.9113\n",
      "Epoch 10/20\n",
      "689/689 [==============================] - 268s 389ms/step - loss: 0.2170 - accuracy: 0.9296 - val_loss: 0.2280 - val_accuracy: 0.9149\n",
      "Epoch 11/20\n",
      "689/689 [==============================] - 268s 389ms/step - loss: 0.2224 - accuracy: 0.9265 - val_loss: 0.2271 - val_accuracy: 0.9138\n",
      "Epoch 12/20\n",
      "689/689 [==============================] - 268s 389ms/step - loss: 0.2135 - accuracy: 0.9300 - val_loss: 0.2300 - val_accuracy: 0.9134\n",
      "Epoch 13/20\n",
      "689/689 [==============================] - 269s 390ms/step - loss: 0.2136 - accuracy: 0.9301 - val_loss: 0.2256 - val_accuracy: 0.9154\n",
      "Epoch 14/20\n",
      "689/689 [==============================] - 268s 389ms/step - loss: 0.2033 - accuracy: 0.9328 - val_loss: 0.2261 - val_accuracy: 0.9169\n",
      "Epoch 15/20\n",
      "689/689 [==============================] - 269s 390ms/step - loss: 0.2053 - accuracy: 0.9323 - val_loss: 0.2224 - val_accuracy: 0.9189\n",
      "Epoch 16/20\n",
      "689/689 [==============================] - 269s 390ms/step - loss: 0.1972 - accuracy: 0.9346 - val_loss: 0.2140 - val_accuracy: 0.9203\n",
      "Epoch 17/20\n",
      "689/689 [==============================] - 269s 390ms/step - loss: 0.1971 - accuracy: 0.9358 - val_loss: 0.2139 - val_accuracy: 0.9211\n",
      "Epoch 18/20\n",
      "689/689 [==============================] - 269s 390ms/step - loss: 0.1958 - accuracy: 0.9358 - val_loss: 0.2214 - val_accuracy: 0.9201\n",
      "Epoch 19/20\n",
      "689/689 [==============================] - 270s 391ms/step - loss: 0.1960 - accuracy: 0.9341 - val_loss: 0.2037 - val_accuracy: 0.9247\n",
      "Epoch 20/20\n",
      "689/689 [==============================] - 269s 390ms/step - loss: 0.2018 - accuracy: 0.9320 - val_loss: 0.2128 - val_accuracy: 0.9223\n"
     ]
    }
   ],
   "source": [
    "history = model.fit(train_generator,\n",
    "                             steps_per_epoch=689,\n",
    "                             epochs=20,\n",
    "                             validation_data=validation_generator,\n",
    "                            validation_steps=173,\n",
    "                           callbacks=[callback])\n",
    "\n",
    "model.save('malaria-detection.h5')"
   ]
  },
  {
   "cell_type": "code",
   "execution_count": 25,
   "metadata": {},
   "outputs": [
    {
     "data": {
      "text/plain": [
       "{'loss': [0.6343745589256287,\n",
       "  0.49348336458206177,\n",
       "  0.31071799993515015,\n",
       "  0.2702067196369171,\n",
       "  0.25112760066986084,\n",
       "  0.24236437678337097,\n",
       "  0.23523978888988495,\n",
       "  0.2289699763059616,\n",
       "  0.22148145735263824,\n",
       "  0.22332730889320374,\n",
       "  0.21561793982982635,\n",
       "  0.21575595438480377,\n",
       "  0.2134896218776703,\n",
       "  0.2081911563873291,\n",
       "  0.2082141488790512,\n",
       "  0.2029055804014206,\n",
       "  0.20163896679878235,\n",
       "  0.19781436026096344,\n",
       "  0.19633623957633972,\n",
       "  0.19959716498851776],\n",
       " 'accuracy': [0.6434597373008728,\n",
       "  0.7819756865501404,\n",
       "  0.8799437880516052,\n",
       "  0.9002177119255066,\n",
       "  0.9088352918624878,\n",
       "  0.9155479073524475,\n",
       "  0.9193577766418457,\n",
       "  0.9233037233352661,\n",
       "  0.9247097373008728,\n",
       "  0.9254354238510132,\n",
       "  0.9287463426589966,\n",
       "  0.9282474517822266,\n",
       "  0.9289731383323669,\n",
       "  0.9309234619140625,\n",
       "  0.930605947971344,\n",
       "  0.9308327436447144,\n",
       "  0.9331458806991577,\n",
       "  0.9334179759025574,\n",
       "  0.9334179759025574,\n",
       "  0.9327376484870911],\n",
       " 'val_loss': [0.5990338325500488,\n",
       "  0.312466025352478,\n",
       "  0.26297906041145325,\n",
       "  0.2674468755722046,\n",
       "  0.2552824020385742,\n",
       "  0.24111013114452362,\n",
       "  0.2592812776565552,\n",
       "  0.23829162120819092,\n",
       "  0.23854988813400269,\n",
       "  0.22803518176078796,\n",
       "  0.22711214423179626,\n",
       "  0.22999949753284454,\n",
       "  0.22559840977191925,\n",
       "  0.22606152296066284,\n",
       "  0.2223854809999466,\n",
       "  0.21398890018463135,\n",
       "  0.21392793953418732,\n",
       "  0.22135403752326965,\n",
       "  0.20366470515727997,\n",
       "  0.2127627283334732],\n",
       " 'val_accuracy': [0.6860253810882568,\n",
       "  0.8843920230865479,\n",
       "  0.892377495765686,\n",
       "  0.9137930870056152,\n",
       "  0.9045372009277344,\n",
       "  0.911433756351471,\n",
       "  0.9121596813201904,\n",
       "  0.9121596813201904,\n",
       "  0.9112522602081299,\n",
       "  0.9148820042610168,\n",
       "  0.9137930870056152,\n",
       "  0.9134301543235779,\n",
       "  0.91542649269104,\n",
       "  0.9168784022331238,\n",
       "  0.9188748002052307,\n",
       "  0.9203266501426697,\n",
       "  0.9210526347160339,\n",
       "  0.9201452136039734,\n",
       "  0.9246823787689209,\n",
       "  0.9223230481147766]}"
      ]
     },
     "execution_count": 25,
     "metadata": {},
     "output_type": "execute_result"
    }
   ],
   "source": [
    "history.history"
   ]
  },
  {
   "cell_type": "markdown",
   "metadata": {},
   "source": [
    "## Results"
   ]
  },
  {
   "cell_type": "code",
   "execution_count": 26,
   "metadata": {},
   "outputs": [],
   "source": [
    "acc = history.history['accuracy']\n",
    "val_acc = history.history['val_accuracy']\n",
    "loss = history.history['loss']\n",
    "val_loss = history.history['val_loss']\n",
    "\n",
    "epochs = range(1, len(acc) + 1)"
   ]
  },
  {
   "cell_type": "code",
   "execution_count": 27,
   "metadata": {},
   "outputs": [
    {
     "name": "stdout",
     "output_type": "stream",
     "text": [
      "Training Accuracy : 0.9016917675733567\n",
      "Training Loss : 0.25854271426796915\n",
      "Validation Accuracy : 0.90149727165699\n",
      "Validation Loss : 0.2549665831029415\n"
     ]
    }
   ],
   "source": [
    "print(f'Training Accuracy : {sum(acc)/len(acc)}')\n",
    "print(f'Training Loss : {sum(loss)/len(loss)}')\n",
    "print(f'Validation Accuracy : {sum(val_acc)/len(val_acc)}')\n",
    "print(f'Validation Loss : {sum(val_loss)/len(val_loss)}')"
   ]
  },
  {
   "cell_type": "code",
   "execution_count": 28,
   "metadata": {},
   "outputs": [
    {
     "data": {
      "image/png": "[encoded data removed]",
      "text/plain": [
       "<Figure size 432x288 with 1 Axes>"
      ]
     },
     "metadata": {
      "needs_background": "light"
     },
     "output_type": "display_data"
    },
    {
     "data": {
      "image/png": "[encoded data removed]",
      "text/plain": [
       "<Figure size 432x288 with 1 Axes>"
      ]
     },
     "metadata": {
      "needs_background": "light"
     },
     "output_type": "display_data"
    }
   ],
   "source": [
    "plt.plot(epochs, acc, 'bo', label='Training Accuracy')\n",
    "plt.plot(epochs, val_acc, 'ro', label='Validation Accuracy')\n",
    "plt.title('Training & Validation Accuracy')\n",
    "plt.legend()\n",
    "\n",
    "plt.figure()\n",
    "\n",
    "plt.plot(epochs, loss, 'bo', label='Training Loss')\n",
    "plt.plot(epochs, val_loss, 'ro', label='Validation Loss')\n",
    "plt.title('Training & Validation Loss')\n",
    "plt.legend()\n",
    "\n",
    "plt.show() "
   ]
  }
 ],
 "metadata": {
  "kernelspec": {
   "display_name": "Python 3",
   "language": "python",
   "name": "python3"
  },
  "language_info": {
   "codemirror_mode": {
    "name": "ipython",
    "version": 3
   },
   "file_extension": ".py",
   "mimetype": "text/x-python",
   "name": "python",
   "nbconvert_exporter": "python",
   "pygments_lexer": "ipython3",
   "version": "3.7.10"
  }
 },
 "nbformat": 4,
 "nbformat_minor": 4
}
